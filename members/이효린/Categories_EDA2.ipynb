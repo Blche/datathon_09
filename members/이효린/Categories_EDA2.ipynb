{
 "cells": [
  {
   "cell_type": "code",
   "execution_count": 1,
   "id": "7a0eb7ba-be4d-432c-a46d-b43b0f0ba714",
   "metadata": {},
   "outputs": [
    {
     "name": "stdout",
     "output_type": "stream",
     "text": [
      "                  event_time event_type  product_id          category_id  \\\n",
      "0  2019-10-01 00:00:00+00:00       cart     5773203  1487580005134238553   \n",
      "1  2019-10-01 00:00:03+00:00       cart     5773353  1487580005134238553   \n",
      "2  2019-10-01 00:00:07+00:00       cart     5881589  2151191071051219817   \n",
      "3  2019-10-01 00:00:07+00:00       cart     5723490  1487580005134238553   \n",
      "4  2019-10-01 00:00:15+00:00       cart     5881449  1487580013522845895   \n",
      "\n",
      "    brand  price    user_id                          user_session  \\\n",
      "0  runail   2.62  463240011  26dd6e6e-4dac-4778-8d2c-92e149dab885   \n",
      "1  runail   2.62  463240011  26dd6e6e-4dac-4778-8d2c-92e149dab885   \n",
      "2  lovely  13.48  429681830  49e8d843-adf3-428b-a2c3-fe8bc6a307c9   \n",
      "3  runail   2.62  463240011  26dd6e6e-4dac-4778-8d2c-92e149dab885   \n",
      "4  lovely   0.56  429681830  49e8d843-adf3-428b-a2c3-fe8bc6a307c9   \n",
      "\n",
      "           event_time_moscow  event_month  \\\n",
      "0  2019-10-01 03:00:00+03:00         10.0   \n",
      "1  2019-10-01 03:00:03+03:00         10.0   \n",
      "2  2019-10-01 03:00:07+03:00         10.0   \n",
      "3  2019-10-01 03:00:07+03:00         10.0   \n",
      "4  2019-10-01 03:00:15+03:00         10.0   \n",
      "\n",
      "                                        user_key  \n",
      "0  46324001126dd6e6e-4dac-4778-8d2c-92e149dab885  \n",
      "1  46324001126dd6e6e-4dac-4778-8d2c-92e149dab885  \n",
      "2  42968183049e8d843-adf3-428b-a2c3-fe8bc6a307c9  \n",
      "3  46324001126dd6e6e-4dac-4778-8d2c-92e149dab885  \n",
      "4  42968183049e8d843-adf3-428b-a2c3-fe8bc6a307c9  \n"
     ]
    }
   ],
   "source": [
    "import pandas as pd\n",
    "\n",
    "file_path = r\"C:\\Users\\HR\\Desktop\\Workspace\\데이터톤\\마케팅\\merged_data.csv\"\n",
    "df = pd.read_csv(file_path)\n",
    "\n",
    "print(df.head())\n"
   ]
  },
  {
   "cell_type": "code",
   "execution_count": 2,
   "id": "8d9adf75-a66d-4189-a9b5-76387bdfadfe",
   "metadata": {},
   "outputs": [
    {
     "name": "stdout",
     "output_type": "stream",
     "text": [
      "(11932733, 11)\n",
      "0.06\n",
      "0\n"
     ]
    }
   ],
   "source": [
    "import pandas as pd\n",
    "\n",
    "# CSV 또는 Parquet 파일을 불러온 뒤 df에 저장했다고 가정\n",
    "# 예: df = pd.read_csv('your_file.csv') 또는 pd.read_parquet('your_file.parquet')\n",
    "\n",
    "#  1. price가 0인 행 제거\n",
    "df = df[df['price'] > 0]\n",
    "\n",
    "#  2. brand 컬럼에서 결측치 제거\n",
    "df = df.dropna(subset=['brand'])\n",
    "\n",
    "# 결과 확인 (선택사항)\n",
    "print(df.shape)\n",
    "print(df['price'].min())\n",
    "print(df['brand'].isnull().sum())"
   ]
  },
  {
   "cell_type": "code",
   "execution_count": 3,
   "id": "f023861f-69fa-4880-8c0a-32b91310a866",
   "metadata": {},
   "outputs": [
    {
     "name": "stdout",
     "output_type": "stream",
     "text": [
      "✅ 'category_funnel_analysis.csv' 저장 완료!\n",
      "\n",
      "📊 전환률 높은 Top 10 카테고리:\n",
      "event_type          category_id   view   cart  purchase  view_to_cart_rate  \\\n",
      "148         1487580009622143014    797   1950       818             2.4467   \n",
      "424         2193074740552270669    487    721       298             1.4805   \n",
      "47          1487580006509970331   5621   6924      3314             1.2318   \n",
      "316         1752742615205281895   2437   3634      1300             1.4912   \n",
      "147         1487580009605365797   3312   4818      1704             1.4547   \n",
      "49          1487580006551913373  10260  10371      4946             1.0108   \n",
      "139         1487580009362096156   3432   3877      1619             1.1297   \n",
      "394         2055161088059638328   3906   4289      1834             1.0981   \n",
      "67          1487580007281722301  13430  14132      6276             1.0523   \n",
      "136         1487580009286598681  26524  29703     12354             1.1199   \n",
      "\n",
      "event_type  cart_to_purchase_rate  overall_conversion_rate  \n",
      "148                        0.4195                   1.0263  \n",
      "424                        0.4133                   0.6119  \n",
      "47                         0.4786                   0.5896  \n",
      "316                        0.3577                   0.5334  \n",
      "147                        0.3537                   0.5145  \n",
      "49                         0.4769                   0.4821  \n",
      "139                        0.4176                   0.4717  \n",
      "394                        0.4276                   0.4695  \n",
      "67                         0.4441                   0.4673  \n",
      "136                        0.4159                   0.4658  \n"
     ]
    }
   ],
   "source": [
    "# 카테고리별 각 이벤트 수 계산\n",
    "category_funnel = df.pivot_table(\n",
    "    index='category_id',\n",
    "    columns='event_type',\n",
    "    values='user_key',\n",
    "    aggfunc='nunique',\n",
    "    fill_value=0\n",
    ").reset_index()\n",
    "\n",
    "# 전환률 계산\n",
    "category_funnel['view_to_cart_rate'] = category_funnel['cart'] / category_funnel['view']\n",
    "category_funnel['cart_to_purchase_rate'] = category_funnel['purchase'] / category_funnel['cart']\n",
    "category_funnel['overall_conversion_rate'] = category_funnel['purchase'] / category_funnel['view']\n",
    "\n",
    "# 소수점 정리\n",
    "category_funnel[['view_to_cart_rate', 'cart_to_purchase_rate', 'overall_conversion_rate']] = category_funnel[\n",
    "    ['view_to_cart_rate', 'cart_to_purchase_rate', 'overall_conversion_rate']\n",
    "].round(4)\n",
    "\n",
    "# 저장\n",
    "category_funnel.to_csv('category_funnel_analysis.csv', index=False)\n",
    "print(\"✅ 'category_funnel_analysis.csv' 저장 완료!\")\n",
    "\n",
    "# 결과 미리보기 (전환률 높은 순 Top 10)\n",
    "top10 = category_funnel.sort_values(by='overall_conversion_rate', ascending=False).head(10)\n",
    "print(\"\\n📊 전환률 높은 Top 10 카테고리:\")\n",
    "print(top10[['category_id', 'view', 'cart', 'purchase',\n",
    "             'view_to_cart_rate', 'cart_to_purchase_rate', 'overall_conversion_rate']])\n"
   ]
  },
  {
   "cell_type": "code",
   "execution_count": 4,
   "id": "861e3bc8-9387-4846-82b6-e87c8101df70",
   "metadata": {},
   "outputs": [
    {
     "name": "stdout",
     "output_type": "stream",
     "text": [
      "✅ 'category_cart_dropoff.csv' 저장 완료!\n",
      "\n",
      "📉 이탈률 높은 Top 10 카테고리 (Cart → Purchase):\n",
      "event_type          category_id  cart  purchase  cart_dropoff_rate\n",
      "180         1487580011828347011     7         0             1.0000\n",
      "346         2053031020655018687     1         0             1.0000\n",
      "359         2121383893343929118    35         1             0.9714\n",
      "29          1487580006157648777    59         2             0.9661\n",
      "109         1487580008951054345    18         1             0.9444\n",
      "287         1783999072365969578    48         3             0.9375\n",
      "4           1487580004983243602    76         5             0.9342\n",
      "330         1977786601392047073   236        17             0.9280\n",
      "324         1962525118928257818    41         3             0.9268\n",
      "284         1783999071199952917    26         2             0.9231\n"
     ]
    }
   ],
   "source": [
    "# cart, purchase 이벤트만 필터링해서 카테고리별 유저 수 집계\n",
    "category_dropoff = df[df['event_type'].isin(['cart', 'purchase'])].pivot_table(\n",
    "    index='category_id',\n",
    "    columns='event_type',\n",
    "    values='user_key',\n",
    "    aggfunc='nunique',\n",
    "    fill_value=0\n",
    ").reset_index()\n",
    "\n",
    "# 이탈률 계산: (장바구니 - 구매) / 장바구니\n",
    "category_dropoff['cart_dropoff_rate'] = (\n",
    "    (category_dropoff['cart'] - category_dropoff['purchase']) / category_dropoff['cart']\n",
    ").round(4)\n",
    "\n",
    "# 저장\n",
    "category_dropoff.to_csv('category_cart_dropoff.csv', index=False)\n",
    "print(\"✅ 'category_cart_dropoff.csv' 저장 완료!\")\n",
    "\n",
    "# 결과 미리보기 (이탈률 높은 순 Top 10)\n",
    "top10_drop = category_dropoff.sort_values(by='cart_dropoff_rate', ascending=False).head(10)\n",
    "print(\"\\n📉 이탈률 높은 Top 10 카테고리 (Cart → Purchase):\")\n",
    "print(top10_drop[['category_id', 'cart', 'purchase', 'cart_dropoff_rate']])\n"
   ]
  },
  {
   "cell_type": "code",
   "execution_count": null,
   "id": "f5e9c199-5a6e-49e1-977d-9ab02543bf45",
   "metadata": {},
   "outputs": [],
   "source": []
  }
 ],
 "metadata": {
  "kernelspec": {
   "display_name": "Python [conda env:base] *",
   "language": "python",
   "name": "conda-base-py"
  },
  "language_info": {
   "codemirror_mode": {
    "name": "ipython",
    "version": 3
   },
   "file_extension": ".py",
   "mimetype": "text/x-python",
   "name": "python",
   "nbconvert_exporter": "python",
   "pygments_lexer": "ipython3",
   "version": "3.12.7"
  }
 },
 "nbformat": 4,
 "nbformat_minor": 5
}
