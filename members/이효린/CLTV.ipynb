{
 "cells": [
  {
   "cell_type": "code",
   "execution_count": 1,
   "id": "db32ce9e-d46e-423a-8be8-82fc4774282a",
   "metadata": {},
   "outputs": [
    {
     "name": "stdout",
     "output_type": "stream",
     "text": [
      "                  event_time event_type  product_id          category_id  \\\n",
      "0  2019-10-01 00:00:00+00:00       cart     5773203  1487580005134238553   \n",
      "1  2019-10-01 00:00:03+00:00       cart     5773353  1487580005134238553   \n",
      "2  2019-10-01 00:00:07+00:00       cart     5881589  2151191071051219817   \n",
      "3  2019-10-01 00:00:07+00:00       cart     5723490  1487580005134238553   \n",
      "4  2019-10-01 00:00:15+00:00       cart     5881449  1487580013522845895   \n",
      "\n",
      "    brand  price    user_id                          user_session  \\\n",
      "0  runail   2.62  463240011  26dd6e6e-4dac-4778-8d2c-92e149dab885   \n",
      "1  runail   2.62  463240011  26dd6e6e-4dac-4778-8d2c-92e149dab885   \n",
      "2  lovely  13.48  429681830  49e8d843-adf3-428b-a2c3-fe8bc6a307c9   \n",
      "3  runail   2.62  463240011  26dd6e6e-4dac-4778-8d2c-92e149dab885   \n",
      "4  lovely   0.56  429681830  49e8d843-adf3-428b-a2c3-fe8bc6a307c9   \n",
      "\n",
      "           event_time_moscow  event_month  \\\n",
      "0  2019-10-01 03:00:00+03:00         10.0   \n",
      "1  2019-10-01 03:00:03+03:00         10.0   \n",
      "2  2019-10-01 03:00:07+03:00         10.0   \n",
      "3  2019-10-01 03:00:07+03:00         10.0   \n",
      "4  2019-10-01 03:00:15+03:00         10.0   \n",
      "\n",
      "                                        user_key  \n",
      "0  46324001126dd6e6e-4dac-4778-8d2c-92e149dab885  \n",
      "1  46324001126dd6e6e-4dac-4778-8d2c-92e149dab885  \n",
      "2  42968183049e8d843-adf3-428b-a2c3-fe8bc6a307c9  \n",
      "3  46324001126dd6e6e-4dac-4778-8d2c-92e149dab885  \n",
      "4  42968183049e8d843-adf3-428b-a2c3-fe8bc6a307c9  \n"
     ]
    }
   ],
   "source": [
    "import pandas as pd\n",
    "\n",
    "file_path = r\"C:\\Users\\HR\\Desktop\\Workspace\\데이터톤\\마케팅\\merged_data.csv\"\n",
    "df = pd.read_csv(file_path)\n",
    "\n",
    "print(df.head())"
   ]
  },
  {
   "cell_type": "code",
   "execution_count": 2,
   "id": "1272ce08-e095-4f36-b436-80110541aa4a",
   "metadata": {},
   "outputs": [
    {
     "name": "stdout",
     "output_type": "stream",
     "text": [
      "(11932733, 11)\n",
      "0.06\n",
      "0\n"
     ]
    }
   ],
   "source": [
    "import pandas as pd\n",
    "\n",
    "# CSV 또는 Parquet 파일을 불러온 뒤 df에 저장했다고 가정\n",
    "# 예: df = pd.read_csv('your_file.csv') 또는 pd.read_parquet('your_file.parquet')\n",
    "\n",
    "#  1. price가 0인 행 제거\n",
    "df = df[df['price'] > 0]\n",
    "\n",
    "#  2. brand 컬럼에서 결측치 제거\n",
    "df = df.dropna(subset=['brand'])\n",
    "\n",
    "# 결과 확인 (선택사항)\n",
    "print(df.shape)\n",
    "print(df['price'].min())\n",
    "print(df['brand'].isnull().sum())"
   ]
  },
  {
   "cell_type": "code",
   "execution_count": 3,
   "id": "9c9c637f-f168-4020-a7fd-eb3cea9eae9f",
   "metadata": {},
   "outputs": [
    {
     "name": "stdout",
     "output_type": "stream",
     "text": [
      "🎯 고객별 CLTV 상위 10명:\n",
      "                                             user_key  total_orders  \\\n",
      "132404  61214809052c9eab9-f518-4844-94e0-019b6d07bb70             2   \n",
      "77388   55841296720c79646-6996-42f3-a68f-5267c4fcdbcb             1   \n",
      "103624  578383361163873b4-e873-4383-bd4e-319c76fd9530             1   \n",
      "21765   43279676750f28793-8cef-4363-a57e-c0f1307b815f             1   \n",
      "93096   56938061974d32f7c-bb4f-4cb8-84f4-924054cff462             1   \n",
      "37227   4832405403f69cf61-2d03-4804-bf44-e538e7ba9e3e             1   \n",
      "76585   55792755699bc375c-6068-18db-2e90-795ecf7c38fc             1   \n",
      "98172   57359633946f38634-971d-4fb3-a24b-753a65d98c18             1   \n",
      "32977   4724635128af772ba-0680-4443-b15c-e72d2c982d88             1   \n",
      "87940   5657453796b73698f-db54-18ef-54a3-fb52ed3a4e5e             1   \n",
      "\n",
      "        total_spent  avg_order_value         cltv  \n",
      "132404       600.80           300.40  1641.161729  \n",
      "77388        273.02           273.02  1491.577813  \n",
      "103624       273.02           273.02  1491.577813  \n",
      "21765        273.02           273.02  1491.577813  \n",
      "93096        273.02           273.02  1491.577813  \n",
      "37227        273.02           273.02  1491.577813  \n",
      "76585        273.02           273.02  1491.577813  \n",
      "98172        273.02           273.02  1491.577813  \n",
      "32977        273.02           273.02  1491.577813  \n",
      "87940        273.02           273.02  1491.577813  \n",
      "✅ 'customer_cltv.csv' 파일로 저장 완료!\n"
     ]
    }
   ],
   "source": [
    "import pandas as pd\n",
    "\n",
    "# ✅ 1. 구매 데이터만 필터링\n",
    "purchase_df = df[df['event_type'] == 'purchase'].copy()\n",
    "\n",
    "# ✅ 2. 고객별 총 구매 횟수, 총 지출 금액, 평균 구매 금액 계산\n",
    "customer_summary = purchase_df.groupby('user_key').agg(\n",
    "    total_orders=('event_time', 'count'),\n",
    "    total_spent=('price', 'sum'),\n",
    ").reset_index()\n",
    "\n",
    "customer_summary['avg_order_value'] = customer_summary['total_spent'] / customer_summary['total_orders']\n",
    "\n",
    "# ✅ 3. 전체 고객 기준 평균 구매 빈도 추정\n",
    "repeat_rate = customer_summary['total_orders'].mean()\n",
    "\n",
    "# ✅ 4. 이탈률 추정 (간단 추정 방식)\n",
    "churn_rate = 1 - (repeat_rate / customer_summary['total_orders'].max())\n",
    "\n",
    "# ✅ 5. CLTV 계산\n",
    "customer_summary['cltv'] = customer_summary['avg_order_value'] * repeat_rate / churn_rate\n",
    "\n",
    "# ✅ 6. CLTV 기준 내림차순 정렬\n",
    "customer_summary = customer_summary.sort_values(by='cltv', ascending=False)\n",
    "\n",
    "# ✅ 7. 결과 일부 미리 보기\n",
    "print(\"🎯 고객별 CLTV 상위 10명:\")\n",
    "print(customer_summary.head(10))\n",
    "\n",
    "# ✅ 8. CSV로 저장\n",
    "customer_summary.to_csv('customer_cltv.csv', index=False)\n",
    "print(\"✅ 'customer_cltv.csv' 파일로 저장 완료!\")\n"
   ]
  },
  {
   "cell_type": "code",
   "execution_count": 5,
   "id": "5e3a1826-205a-4c10-a63d-fd1027cdfff5",
   "metadata": {},
   "outputs": [
    {
     "name": "stdout",
     "output_type": "stream",
     "text": [
      "🎯 고객별 CLTV 상위 10명:\n",
      "         user_id  total_orders  total_spent  avg_order_value         cltv\n",
      "86795  603739164             1       273.02           273.02  2085.976726\n",
      "68764  578383361             1       273.02           273.02  2085.976726\n",
      "14141  437699865             1       273.02           273.02  2085.976726\n",
      "64364  573596339             1       273.02           273.02  2085.976726\n",
      "48610  558412967             1       273.02           273.02  2085.976726\n",
      "28246  509822747             1       273.02           273.02  2085.976726\n",
      "13316  432796767             1       273.02           273.02  2085.976726\n",
      "48025  557927556             2       467.46           233.73  1785.786170\n",
      "90990  608809325             1       207.94           207.94  1588.740753\n",
      "45470  555638848             1       207.94           207.94  1588.740753\n",
      "✅ 'customer_cltv.csv' 파일로 저장 완료!\n"
     ]
    }
   ],
   "source": [
    "import pandas as pd\n",
    "\n",
    "# ✅ 1. 구매 데이터만 필터링\n",
    "purchase_df = df[df['event_type'] == 'purchase'].copy()\n",
    "\n",
    "# ✅ 2. 고객별 총 구매 횟수, 총 지출 금액, 평균 구매 금액 계산\n",
    "customer_summary = purchase_df.groupby('user_id').agg(\n",
    "    total_orders=('event_time', 'count'),\n",
    "    total_spent=('price', 'sum'),\n",
    ").reset_index()\n",
    "\n",
    "customer_summary['avg_order_value'] = customer_summary['total_spent'] / customer_summary['total_orders']\n",
    "\n",
    "# ✅ 3. 전체 고객 기준 평균 구매 빈도 추정\n",
    "repeat_rate = customer_summary['total_orders'].mean()\n",
    "\n",
    "# ✅ 4. 이탈률 추정 (간단 추정 방식)\n",
    "churn_rate = 1 - (repeat_rate / customer_summary['total_orders'].max())\n",
    "\n",
    "# ✅ 5. CLTV 계산\n",
    "customer_summary['cltv'] = customer_summary['avg_order_value'] * repeat_rate / churn_rate\n",
    "\n",
    "# ✅ 6. CLTV 기준 내림차순 정렬\n",
    "customer_summary = customer_summary.sort_values(by='cltv', ascending=False)\n",
    "\n",
    "# ✅ 7. 결과 일부 미리 보기\n",
    "print(\"🎯 고객별 CLTV 상위 10명:\")\n",
    "print(customer_summary.head(10))\n",
    "\n",
    "# ✅ 8. CSV로 저장\n",
    "customer_summary.to_csv('customer_cltv.csv', index=False)\n",
    "print(\"✅ 'customer_cltv.csv' 파일로 저장 완료!\")\n"
   ]
  },
  {
   "cell_type": "code",
   "execution_count": null,
   "id": "9cf0395e-2596-41db-97a4-ab36642e24b2",
   "metadata": {},
   "outputs": [],
   "source": []
  }
 ],
 "metadata": {
  "kernelspec": {
   "display_name": "Python [conda env:base] *",
   "language": "python",
   "name": "conda-base-py"
  },
  "language_info": {
   "codemirror_mode": {
    "name": "ipython",
    "version": 3
   },
   "file_extension": ".py",
   "mimetype": "text/x-python",
   "name": "python",
   "nbconvert_exporter": "python",
   "pygments_lexer": "ipython3",
   "version": "3.12.7"
  }
 },
 "nbformat": 4,
 "nbformat_minor": 5
}
