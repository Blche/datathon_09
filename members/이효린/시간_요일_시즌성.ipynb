{
 "cells": [
  {
   "cell_type": "code",
   "execution_count": 1,
   "id": "82ba1926-54ec-40c8-9e34-772983ad0ec6",
   "metadata": {},
   "outputs": [
    {
     "name": "stdout",
     "output_type": "stream",
     "text": [
      "                  event_time event_type  product_id          category_id  \\\n",
      "0  2019-10-01 00:00:00+00:00       cart     5773203  1487580005134238553   \n",
      "1  2019-10-01 00:00:03+00:00       cart     5773353  1487580005134238553   \n",
      "2  2019-10-01 00:00:07+00:00       cart     5881589  2151191071051219817   \n",
      "3  2019-10-01 00:00:07+00:00       cart     5723490  1487580005134238553   \n",
      "4  2019-10-01 00:00:15+00:00       cart     5881449  1487580013522845895   \n",
      "\n",
      "    brand  price    user_id                          user_session  \\\n",
      "0  runail   2.62  463240011  26dd6e6e-4dac-4778-8d2c-92e149dab885   \n",
      "1  runail   2.62  463240011  26dd6e6e-4dac-4778-8d2c-92e149dab885   \n",
      "2  lovely  13.48  429681830  49e8d843-adf3-428b-a2c3-fe8bc6a307c9   \n",
      "3  runail   2.62  463240011  26dd6e6e-4dac-4778-8d2c-92e149dab885   \n",
      "4  lovely   0.56  429681830  49e8d843-adf3-428b-a2c3-fe8bc6a307c9   \n",
      "\n",
      "           event_time_moscow  event_month  \\\n",
      "0  2019-10-01 03:00:00+03:00         10.0   \n",
      "1  2019-10-01 03:00:03+03:00         10.0   \n",
      "2  2019-10-01 03:00:07+03:00         10.0   \n",
      "3  2019-10-01 03:00:07+03:00         10.0   \n",
      "4  2019-10-01 03:00:15+03:00         10.0   \n",
      "\n",
      "                                        user_key  \n",
      "0  46324001126dd6e6e-4dac-4778-8d2c-92e149dab885  \n",
      "1  46324001126dd6e6e-4dac-4778-8d2c-92e149dab885  \n",
      "2  42968183049e8d843-adf3-428b-a2c3-fe8bc6a307c9  \n",
      "3  46324001126dd6e6e-4dac-4778-8d2c-92e149dab885  \n",
      "4  42968183049e8d843-adf3-428b-a2c3-fe8bc6a307c9  \n"
     ]
    }
   ],
   "source": [
    "import pandas as pd\n",
    "\n",
    "file_path = r\"C:\\Users\\HR\\Desktop\\Workspace\\데이터톤\\마케팅\\merged_data.csv\"\n",
    "df = pd.read_csv(file_path)\n",
    "\n",
    "print(df.head())"
   ]
  },
  {
   "cell_type": "code",
   "execution_count": 2,
   "id": "9a18c448-add6-494e-8799-6f18c8e0124e",
   "metadata": {},
   "outputs": [
    {
     "name": "stdout",
     "output_type": "stream",
     "text": [
      "(11932733, 11)\n",
      "0.06\n",
      "0\n"
     ]
    }
   ],
   "source": [
    "import pandas as pd\n",
    "\n",
    "# CSV 또는 Parquet 파일을 불러온 뒤 df에 저장했다고 가정\n",
    "# 예: df = pd.read_csv('your_file.csv') 또는 pd.read_parquet('your_file.parquet')\n",
    "\n",
    "#  1. price가 0인 행 제거\n",
    "df = df[df['price'] > 0]\n",
    "\n",
    "#  2. brand 컬럼에서 결측치 제거\n",
    "df = df.dropna(subset=['brand'])\n",
    "\n",
    "# 결과 확인 (선택사항)\n",
    "print(df.shape)\n",
    "print(df['price'].min())\n",
    "print(df['brand'].isnull().sum())"
   ]
  },
  {
   "cell_type": "markdown",
   "id": "f2a1b324-1560-4d40-a4bc-b2d4ee0eaa35",
   "metadata": {},
   "source": [
    "# Black Friday(11월)에 평균 구매 금액이 높다?"
   ]
  },
  {
   "cell_type": "code",
   "execution_count": 4,
   "id": "713492e0-e01e-4918-bd37-702dbafe98b2",
   "metadata": {},
   "outputs": [],
   "source": [
    "# 구매 이벤트만 필터링\n",
    "df_purchase = df[df['event_type'] == 'purchase'].copy()\n",
    "\n",
    "# 구매월 컬럼이 있다면 그대로 사용, 없으면 추출\n",
    "df_purchase['purchase_month'] = pd.to_datetime(df_purchase['event_time_moscow']).dt.month\n"
   ]
  },
  {
   "cell_type": "code",
   "execution_count": 5,
   "id": "a4405a57-6a6b-42ea-9215-c7ce60ba74eb",
   "metadata": {},
   "outputs": [],
   "source": [
    "monthly_avg = df_purchase.groupby('purchase_month')['price'].mean().reset_index()\n"
   ]
  },
  {
   "cell_type": "code",
   "execution_count": 6,
   "id": "f890dc28-4acd-4840-b9df-531524e8bdb7",
   "metadata": {},
   "outputs": [
    {
     "name": "stdout",
     "output_type": "stream",
     "text": [
      "📊 t 통계량: -9.7605, p-value: 1.6749e-22\n"
     ]
    }
   ],
   "source": [
    "from scipy.stats import ttest_ind\n",
    "\n",
    "# 11월과 나머지 비교\n",
    "nov = df_purchase[df_purchase['purchase_month'] == 11]['price']\n",
    "not_nov = df_purchase[df_purchase['purchase_month'] != 11]['price']\n",
    "\n",
    "# 독립표본 t-test\n",
    "t_stat, p_val = ttest_ind(nov, not_nov, equal_var=False)\n",
    "print(f\"📊 t 통계량: {t_stat:.4f}, p-value: {p_val:.4e}\")\n"
   ]
  },
  {
   "cell_type": "code",
   "execution_count": 10,
   "id": "1984fb07-8b7e-46cd-bd45-ae3399b83d29",
   "metadata": {},
   "outputs": [
    {
     "data": {
      "image/png": "[encoded data removed]",
      "text/plain": [
       "<Figure size 640x480 with 1 Axes>"
      ]
     },
     "metadata": {},
     "output_type": "display_data"
    }
   ],
   "source": [
    "import seaborn as sns\n",
    "import matplotlib.pyplot as plt\n",
    "\n",
    "# 구매 이벤트만 필터링\n",
    "df_purchase = df[df['event_type'] == 'purchase']\n",
    "\n",
    "# 월별 평균 구매 금액\n",
    "month_avg = df_purchase.groupby('event_month')['price'].mean().reset_index()\n",
    "\n",
    "# 정렬된 순서로 보기 위해 순서 지정\n",
    "month_order = [10, 11, 12, 1, 2]\n",
    "\n",
    "# 그래프\n",
    "sns.barplot(x='event_month', y='price', data=month_avg, order=month_order, palette='coolwarm')\n",
    "plt.title('월별 평균 구매 금액')\n",
    "plt.xlabel('월')\n",
    "plt.ylabel('평균 구매 금액')\n",
    "plt.tight_layout()\n",
    "plt.show()\n",
    "\n"
   ]
  },
  {
   "cell_type": "markdown",
   "id": "e5c276f2-865a-4792-92cc-7762c16d655b",
   "metadata": {},
   "source": [
    "# 분석 결과 요약\n",
    "     시각화\n",
    "    11월의 평균 구매 금액이 다른 월에 비해 가장 낮은 수준으로 보임\n",
    "    10월, 12월, 1월, 2월 모두 11월보다 높은 평균 구매 금액\n",
    "\n",
    "     t-검정 결과\n",
    "    t 통계량: -9.7605, p-value: 1.6749e-22\n",
    "    p-value가 매우 작음 ⇒ 귀무가설 기각\n",
    "    즉, 11월은 통계적으로도 유의하게 평균 구매 금액이 낮음\n",
    "\n",
    "# 결론 해석\n",
    "    “11월(Black Friday 포함)의 평균 구매 금액은 다른 월에 비해 유의미하게 낮았습니다.”\n",
    "    이는 소비자들이 11월에는 저가 상품을 많이 구매했을 가능성을 시사하며, 할인 행사 중심의 대량 소비 패턴과 맞물립니다"
   ]
  },
  {
   "cell_type": "markdown",
   "id": "8ac233cc-78ae-4f62-b22e-472c2c32b28b",
   "metadata": {},
   "source": [
    "# 요일/시간대에 따라 구매 빈도 및 전환율 다르다?\n"
   ]
  },
  {
   "cell_type": "code",
   "execution_count": 18,
   "id": "e9cc4362-4cb0-44b6-b05d-d0a8afb44ea2",
   "metadata": {},
   "outputs": [
    {
     "name": "stdout",
     "output_type": "stream",
     "text": [
      "📊 F 통계량: 30.5442, p-value: 6.8913e-37\n"
     ]
    }
   ],
   "source": [
    "import pandas as pd\n",
    "from scipy.stats import f_oneway\n",
    "import matplotlib.pyplot as plt\n",
    "import seaborn as sns\n",
    "import platform\n",
    "\n",
    "# ✅ 한글 폰트 설정\n",
    "if platform.system() == 'Windows':\n",
    "    plt.rc('font', family='Malgun Gothic')\n",
    "elif platform.system() == 'Darwin':\n",
    "    plt.rc('font', family='AppleGothic')\n",
    "else:\n",
    "    plt.rc('font', family='NanumGothic')\n",
    "plt.rcParams['axes.unicode_minus'] = False\n",
    "\n",
    "# 1. 날짜 파싱 및 요일 생성\n",
    "df['event_time'] = pd.to_datetime(df['event_time'])\n",
    "df['weekday'] = df['event_time'].dt.day_name()  # 예: 'Monday'\n",
    "\n",
    "# 2. 유저별 요일 기준 전환 여부 생성\n",
    "view = df[df['event_type'] == 'view'][['user_key', 'weekday']].drop_duplicates()\n",
    "purchase = df[df['event_type'] == 'purchase'][['user_key', 'weekday']].drop_duplicates()\n",
    "\n",
    "merged = pd.merge(view, purchase, on=['user_key', 'weekday'], how='left', indicator=True)\n",
    "merged['converted'] = (merged['_merge'] == 'both').astype(int)\n",
    "\n",
    "# 3. 요일별 리스트로 변환 (0/1 리스트 형태)\n",
    "grouped = merged.groupby('weekday')['converted'].apply(list)\n",
    "\n",
    "# 4. ANOVA (일원분산분석)\n",
    "f_stat, p_val = f_oneway(*grouped)\n",
    "print(f\"📊 F 통계량: {f_stat:.4f}, p-value: {p_val:.4e}\")\n"
   ]
  },
  {
   "cell_type": "code",
   "execution_count": 19,
   "id": "f68ad841-46a9-4170-bcb5-e96a2e0c0b8b",
   "metadata": {},
   "outputs": [
    {
     "data": {
      "image/png": "[encoded data removed]",
      "text/plain": [
       "<Figure size 800x500 with 1 Axes>"
      ]
     },
     "metadata": {},
     "output_type": "display_data"
    }
   ],
   "source": [
    "# 요일 정렬 순서 설정\n",
    "weekday_order = ['Monday', 'Tuesday', 'Wednesday', 'Thursday', 'Friday', 'Saturday', 'Sunday']\n",
    "\n",
    "# 평균 전환율 계산\n",
    "conversion_mean = merged.groupby('weekday')['converted'].mean().reindex(weekday_order)\n",
    "\n",
    "# 시각화\n",
    "plt.figure(figsize=(8, 5))\n",
    "sns.barplot(x=conversion_mean.index, y=conversion_mean.values)\n",
    "plt.title('요일별 평균 구매 전환율')\n",
    "plt.xlabel('요일')\n",
    "plt.ylabel('평균 전환율')\n",
    "plt.tight_layout()\n",
    "plt.show()\n"
   ]
  },
  {
   "cell_type": "markdown",
   "id": "fc56c9f8-33a9-440c-8611-2b1618dd2263",
   "metadata": {},
   "source": [
    "# 해석\n",
    "        ANOVA 검정 결과\n",
    "    F 통계량: 30.5442\n",
    "    p-value: 6.8913e-37 (매우 작음)\n",
    "    → p < 0.05이므로, 요일에 따라 전환율이 유의미하게 다르다는 통계적 증거가 있음.\n",
    "\n",
    "    📈 그래프 해석\n",
    "    전환율이 가장 높은 요일: Thursday ≈ Friday ≈ Tuesday\n",
    "    전환율이 가장 낮은 요일: Saturday < Sunday\n",
    "   → 주중(특히 화~금) 전환율이 높고, 주말엔 전환율이 낮은 경향.\n",
    "\n",
    "       🧠 결론 요약\n",
    "    요일별 구매 전환율에는 유의미한 차이가 있다 (대립가설 채택).\n",
    "    마케팅 전략 수립 시, **주말보다는 평일(화~금)**에 더 적극적인 구매 유도가 효과적일 가능성 있음."
   ]
  },
  {
   "cell_type": "code",
   "execution_count": 23,
   "id": "607aafa3-f62a-4893-9ee7-b2309f2c37a9",
   "metadata": {},
   "outputs": [],
   "source": [
    "import pandas as pd\n",
    "from scipy.stats import f_oneway\n",
    "import matplotlib.pyplot as plt\n",
    "import seaborn as sns\n",
    "\n",
    "# 시간 추출\n",
    "df['hour'] = pd.to_datetime(df['event_time']).dt.hour\n"
   ]
  },
  {
   "cell_type": "code",
   "execution_count": 24,
   "id": "6612aaa0-39cb-4afe-a25d-74156a27e778",
   "metadata": {},
   "outputs": [],
   "source": [
    "# view / purchase 데이터 분리\n",
    "view = df[df['event_type'] == 'view'][['user_key', 'hour']].drop_duplicates()\n",
    "purchase = df[df['event_type'] == 'purchase'][['user_key', 'hour']].drop_duplicates()\n",
    "\n",
    "# view 기준으로 purchase 여부 병합\n",
    "merged_time = pd.merge(view, purchase, on=['user_key', 'hour'], how='left', indicator=True)\n",
    "merged_time['converted'] = (merged_time['_merge'] == 'both').astype(int)\n"
   ]
  },
  {
   "cell_type": "code",
   "execution_count": 25,
   "id": "ddfd6218-7314-41fc-b9db-8f9fe6afea61",
   "metadata": {},
   "outputs": [
    {
     "name": "stdout",
     "output_type": "stream",
     "text": [
      "⏰ 시간대별 F 통계량: 32.5904, p-value: 1.6270e-143\n"
     ]
    }
   ],
   "source": [
    "# 시간대별 전환율 리스트 생성\n",
    "grouped_time = merged_time.groupby('hour')['converted'].apply(list)\n",
    "f_stat_time, p_val_time = f_oneway(*grouped_time)\n",
    "\n",
    "print(f\"⏰ 시간대별 F 통계량: {f_stat_time:.4f}, p-value: {p_val_time:.4e}\")\n"
   ]
  },
  {
   "cell_type": "code",
   "execution_count": 26,
   "id": "44dddc91-3fa4-49e0-850b-c57e2520000a",
   "metadata": {},
   "outputs": [
    {
     "data": {
      "image/png": "[encoded data removed]",
      "text/plain": [
       "<Figure size 1000x500 with 1 Axes>"
      ]
     },
     "metadata": {},
     "output_type": "display_data"
    }
   ],
   "source": [
    "# 평균 전환율 계산\n",
    "hour_conversion = merged_time.groupby('hour')['converted'].mean()\n",
    "\n",
    "plt.figure(figsize=(10, 5))\n",
    "sns.barplot(x=hour_conversion.index, y=hour_conversion.values)\n",
    "plt.title('시간대별 평균 구매 전환율')\n",
    "plt.xlabel('시간대 (시)')\n",
    "plt.ylabel('평균 전환율')\n",
    "plt.tight_layout()\n",
    "plt.show()\n"
   ]
  },
  {
   "cell_type": "markdown",
   "id": "4f814c0c-42c0-491e-97c9-e16ed670703b",
   "metadata": {},
   "source": [
    "# 결과\n",
    "    F 통계량: 32.5904\n",
    "    p-value: 1.6270e-143 (매우 유의미)\n",
    "\n",
    "    🧠 해석\n",
    "    p-value가 0.05보다 훨씬 작기 때문에, 귀무가설은 기각됨.\n",
    "     즉, 시간대에 따라 구매 전환율은 통계적으로 유의미하게 다르다.\n",
    "        \n",
    "    📈 시각적 인사이트\n",
    "    20시 ~ 22시에 가장 높은 전환율을 보임 → 저녁 시간대에 구매 전환 집중\n",
    "    반면, 새벽 2시 ~ 5시 사이 전환율은 낮은 편 → 활동량 낮은 시간대\n",
    "\n",
    "✅ 결론\n",
    "\"사용자의 구매 전환율은 시간대에 따라 통계적으로 유의미한 차이를 보이며, 특히 저녁 시간대(20~22시)에 집중되는 경향이 있다. 이를 기반으로 마케팅 타이밍을 최적화할 수 있다.\""
   ]
  },
  {
   "cell_type": "markdown",
   "id": "c08dad69-c176-4750-9088-4303596cf516",
   "metadata": {},
   "source": [
    "# 오후 8~12시 사이 전환율이 높다?"
   ]
  },
  {
   "cell_type": "code",
   "execution_count": 32,
   "id": "5918bd4b-4560-43c0-8a23-1277529e1cb4",
   "metadata": {},
   "outputs": [
    {
     "name": "stdout",
     "output_type": "stream",
     "text": [
      "📊 t 통계량: 1.0598, p-value: 1.5036e-01\n"
     ]
    }
   ],
   "source": [
    "# 1. event_hour 컬럼 만들기\n",
    "df['event_hour'] = pd.to_datetime(df['event_time']).dt.hour  # 또는 df['event_time_moscow']\n",
    "\n",
    "# 2. 시간대별 구매 수 / view 수 계산\n",
    "hourly_funnel = df.pivot_table(\n",
    "    index='event_hour',\n",
    "    columns='event_type',\n",
    "    values='user_key',  # 또는 'user_id'\n",
    "    aggfunc='nunique',\n",
    "    fill_value=0\n",
    ").reset_index()\n",
    "\n",
    "# 3. 전환율 컬럼 생성\n",
    "hourly_funnel['conversion_rate'] = hourly_funnel['purchase'] / hourly_funnel['view']\n",
    "hourly_funnel = hourly_funnel.dropna(subset=['conversion_rate'])\n",
    "\n",
    "# 4. t-test용 그룹 분리\n",
    "from scipy.stats import ttest_ind\n",
    "\n",
    "late_night = hourly_funnel[hourly_funnel['event_hour'].between(20, 23)]['conversion_rate']\n",
    "others = hourly_funnel[~hourly_funnel['event_hour'].between(20, 23)]['conversion_rate']\n",
    "\n",
    "# 5. 단측 t-test (late_night > others)\n",
    "t_stat, p_value = ttest_ind(late_night, others, alternative='greater')\n",
    "\n",
    "print(f\"📊 t 통계량: {t_stat:.4f}, p-value: {p_value:.4e}\")\n"
   ]
  },
  {
   "cell_type": "code",
   "execution_count": 33,
   "id": "46b2e4e7-cd57-4372-adc3-e1319e1633fd",
   "metadata": {},
   "outputs": [
    {
     "data": {
      "image/png": "[encoded data removed]",
      "text/plain": [
       "<Figure size 1400x600 with 1 Axes>"
      ]
     },
     "metadata": {},
     "output_type": "display_data"
    },
    {
     "name": "stdout",
     "output_type": "stream",
     "text": [
      "📊 t 통계량: 1.0598, p-value: 1.5036e-01\n"
     ]
    }
   ],
   "source": [
    "import pandas as pd\n",
    "import matplotlib.pyplot as plt\n",
    "import seaborn as sns\n",
    "from scipy.stats import ttest_ind\n",
    "\n",
    "# 📌 전처리: event_hour 추출\n",
    "df['event_time'] = pd.to_datetime(df['event_time'])  # 또는 df['event_time_moscow']\n",
    "df['event_hour'] = df['event_time'].dt.hour\n",
    "\n",
    "# 📌 퍼널 계산 (시간대별 view, purchase 집계)\n",
    "hourly_funnel = df.pivot_table(\n",
    "    index='event_hour',\n",
    "    columns='event_type',\n",
    "    values='user_key',  # 또는 'user_id'\n",
    "    aggfunc='nunique',\n",
    "    fill_value=0\n",
    ").reset_index()\n",
    "\n",
    "# 📌 전환율 계산\n",
    "hourly_funnel['conversion_rate'] = hourly_funnel['purchase'] / hourly_funnel['view']\n",
    "hourly_funnel = hourly_funnel.dropna(subset=['conversion_rate'])\n",
    "\n",
    "# ✅ 시각화: 시간대별 전환율\n",
    "plt.figure(figsize=(14,6))\n",
    "colors = ['tomato' if 20 <= h <= 23 else 'skyblue' for h in hourly_funnel['event_hour']]\n",
    "sns.barplot(data=hourly_funnel, x='event_hour', y='conversion_rate', palette=colors)\n",
    "plt.title(\"시간대별 평균 구매 전환율 (20~23시 강조)\", fontsize=14)\n",
    "plt.xlabel(\"시간대 (시)\", fontsize=12)\n",
    "plt.ylabel(\"평균 전환율\", fontsize=12)\n",
    "plt.xticks(rotation=0)\n",
    "plt.tight_layout()\n",
    "plt.show()\n",
    "\n",
    "# ✅ 가설 검정: t-test (late night vs others)\n",
    "late_night = hourly_funnel[hourly_funnel['event_hour'].between(20, 23)]['conversion_rate']\n",
    "others = hourly_funnel[~hourly_funnel['event_hour'].between(20, 23)]['conversion_rate']\n",
    "\n",
    "t_stat, p_value = ttest_ind(late_night, others, alternative='greater')\n",
    "\n",
    "print(f\"📊 t 통계량: {t_stat:.4f}, p-value: {p_value:.4e}\")\n"
   ]
  },
  {
   "cell_type": "markdown",
   "id": "9df6e279-6903-47ae-a21b-4531eab0a385",
   "metadata": {},
   "source": [
    "# ✅ 가설 검정 요약\n",
    "    가설 (단측 t-test)\n",
    "    H₀ (귀무가설): 오후 8시11시(2023시)의 전환율은 다른 시간대와 차이가 없다\n",
    "    H₁ (대립가설): 오후 8시11시(2023시)의 전환율이 다른 시간대보다 높다\n",
    "    t 통계량: 1.0598\n",
    "    p-value: 0.1504 (약 15%)\n",
    "\n",
    "    📉 해석\n",
    "    p-value > 0.05 → 유의수준 5% 기준에서는 통계적으로 유의미하지 않음\n",
    "    따라서, \"오후 8시~11시 사이의 전환율이 더 높다\"는 증거는 부족함\n",
    "\n",
    "    📊 시각적 인사이트\n",
    "    그래프 상으로는 20시~21시 전환율이 비교적 높아 보이지만,\n",
    "    전반적인 편차가 크지 않아 통계적으로 유의미한 차이로 보기 어렵다는 결론\n",
    "\n",
    "    ✅ 결론 정리\n",
    "    \"오후 8시~11시 사이의 구매 전환율이 유의하게 높다\"고 말할 수는 없습니다.\n",
    "    시각적으로는 다소 높아 보일 수 있으나, 통계적으로는 유의한 차이가 아닙니다 (p = 0.15)"
   ]
  },
  {
   "cell_type": "markdown",
   "id": "208c0ada-8af5-4d28-bd21-48b9b87b5e91",
   "metadata": {},
   "source": [
    "# 주말보다 평일에 구매가 많다?"
   ]
  },
  {
   "cell_type": "code",
   "execution_count": 47,
   "id": "7fe82e61-2dcc-4dc8-a981-f4491e6da6ad",
   "metadata": {},
   "outputs": [
    {
     "name": "stdout",
     "output_type": "stream",
     "text": [
      "📊 t 통계량: 2.6606, p-value: 4.3249e-03\n"
     ]
    }
   ],
   "source": [
    "from scipy.stats import ttest_ind\n",
    "import pandas as pd\n",
    "\n",
    "# 1. 구매 데이터 필터링\n",
    "df_purchase = df[df['event_type'] == 'purchase'].copy()\n",
    "\n",
    "# 2. 요일 추출 (0=월 ~ 6=일)\n",
    "df_purchase['event_time'] = pd.to_datetime(df_purchase['event_time'])\n",
    "df_purchase['weekday'] = df_purchase['event_time'].dt.dayofweek\n",
    "\n",
    "# 3. 평일/주말 구분\n",
    "weekday_purchases = df_purchase[df_purchase['weekday'] < 5]\n",
    "weekend_purchases = df_purchase[df_purchase['weekday'] >= 5]\n",
    "\n",
    "# 4. 날짜별 구매 수 계산\n",
    "weekday_counts = weekday_purchases.groupby(weekday_purchases['event_time'].dt.date).size()\n",
    "weekend_counts = weekend_purchases.groupby(weekend_purchases['event_time'].dt.date).size()\n",
    "\n",
    "# 5. t-test (단측: 평일이 더 많은가?)\n",
    "t_stat, p_value = ttest_ind(weekday_counts, weekend_counts, alternative='greater')\n",
    "\n",
    "print(f\"📊 t 통계량: {t_stat:.4f}, p-value: {p_value:.4e}\")\n"
   ]
  },
  {
   "cell_type": "code",
   "execution_count": 49,
   "id": "143b3343-420b-49a2-b637-fc84151c9a2a",
   "metadata": {},
   "outputs": [
    {
     "data": {
      "image/png": "[encoded data removed]",
      "text/plain": [
       "<Figure size 800x500 with 1 Axes>"
      ]
     },
     "metadata": {},
     "output_type": "display_data"
    }
   ],
   "source": [
    "# 평일 데이터\n",
    "weekday_df = weekday_counts.reset_index(drop=True)\n",
    "weekday_df = pd.DataFrame({\n",
    "    'date': weekday_counts.index,\n",
    "    'purchase_count': weekday_counts.values,\n",
    "    'type': 'Weekday'\n",
    "})\n",
    "\n",
    "# 주말 데이터\n",
    "weekend_df = weekend_counts.reset_index(drop=True)\n",
    "weekend_df = pd.DataFrame({\n",
    "    'date': weekend_counts.index,\n",
    "    'purchase_count': weekend_counts.values,\n",
    "    'type': 'Weekend'\n",
    "})\n",
    "\n",
    "# 병합\n",
    "combined = pd.concat([weekday_df, weekend_df], ignore_index=True)\n",
    "\n",
    "\n",
    "import seaborn as sns\n",
    "import matplotlib.pyplot as plt\n",
    "\n",
    "plt.figure(figsize=(8, 5))\n",
    "sns.boxplot(data=combined, x='type', y='purchase_count', palette='Set2')\n",
    "plt.title(\" 평일 vs 주말: 일별 구매 수 분포\")\n",
    "plt.xlabel(\"구분\")\n",
    "plt.ylabel(\"하루 총 구매 수\")\n",
    "plt.grid(axis='y', linestyle='--', alpha=0.5)\n",
    "plt.tight_layout()\n",
    "plt.show()\n"
   ]
  },
  {
   "cell_type": "markdown",
   "id": "117eaa41-016d-44f2-957b-25c078be7ac5",
   "metadata": {},
   "source": [
    " # 결과\n",
    "     t 통계량: 2.6606\n",
    "     p-value: 0.0043 (1% 유의수준에서도 유의함)\n",
    "\n",
    "    📈 시각화\n",
    "     Boxplot을 보면 평일의 중앙값(중앙선)이 주말보다 높음\n",
    "     이상치는 있지만 전반적으로 평일 구매 수가 더 많은 경향이 확인됨\n",
    "\n",
    "     ✅ 결론\n",
    "     통계적으로 유의미하게 평일이 주말보다 더 많은 구매가 발생하고 있음.\n",
    "     따라서 “주말보다 평일에 구매가 많다”는 가설은 채택할 수 있음."
   ]
  },
  {
   "cell_type": "code",
   "execution_count": null,
   "id": "fe8917b7-4872-4890-966b-77d5a5593e7f",
   "metadata": {},
   "outputs": [],
   "source": []
  }
 ],
 "metadata": {
  "kernelspec": {
   "display_name": "Python [conda env:base] *",
   "language": "python",
   "name": "conda-base-py"
  },
  "language_info": {
   "codemirror_mode": {
    "name": "ipython",
    "version": 3
   },
   "file_extension": ".py",
   "mimetype": "text/x-python",
   "name": "python",
   "nbconvert_exporter": "python",
   "pygments_lexer": "ipython3",
   "version": "3.12.7"
  }
 },
 "nbformat": 4,
 "nbformat_minor": 5
}
