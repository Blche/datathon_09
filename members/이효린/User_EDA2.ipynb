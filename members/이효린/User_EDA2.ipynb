{
 "cells": [
  {
   "cell_type": "code",
   "execution_count": 1,
   "id": "59e77976-8de7-4950-95fb-9b5389653911",
   "metadata": {},
   "outputs": [
    {
     "name": "stdout",
     "output_type": "stream",
     "text": [
      "                  event_time event_type  product_id          category_id  \\\n",
      "0  2019-10-01 00:00:00+00:00       cart     5773203  1487580005134238553   \n",
      "1  2019-10-01 00:00:03+00:00       cart     5773353  1487580005134238553   \n",
      "2  2019-10-01 00:00:07+00:00       cart     5881589  2151191071051219817   \n",
      "3  2019-10-01 00:00:07+00:00       cart     5723490  1487580005134238553   \n",
      "4  2019-10-01 00:00:15+00:00       cart     5881449  1487580013522845895   \n",
      "\n",
      "    brand  price    user_id                          user_session  \\\n",
      "0  runail   2.62  463240011  26dd6e6e-4dac-4778-8d2c-92e149dab885   \n",
      "1  runail   2.62  463240011  26dd6e6e-4dac-4778-8d2c-92e149dab885   \n",
      "2  lovely  13.48  429681830  49e8d843-adf3-428b-a2c3-fe8bc6a307c9   \n",
      "3  runail   2.62  463240011  26dd6e6e-4dac-4778-8d2c-92e149dab885   \n",
      "4  lovely   0.56  429681830  49e8d843-adf3-428b-a2c3-fe8bc6a307c9   \n",
      "\n",
      "           event_time_moscow  event_month  \\\n",
      "0  2019-10-01 03:00:00+03:00         10.0   \n",
      "1  2019-10-01 03:00:03+03:00         10.0   \n",
      "2  2019-10-01 03:00:07+03:00         10.0   \n",
      "3  2019-10-01 03:00:07+03:00         10.0   \n",
      "4  2019-10-01 03:00:15+03:00         10.0   \n",
      "\n",
      "                                        user_key  \n",
      "0  46324001126dd6e6e-4dac-4778-8d2c-92e149dab885  \n",
      "1  46324001126dd6e6e-4dac-4778-8d2c-92e149dab885  \n",
      "2  42968183049e8d843-adf3-428b-a2c3-fe8bc6a307c9  \n",
      "3  46324001126dd6e6e-4dac-4778-8d2c-92e149dab885  \n",
      "4  42968183049e8d843-adf3-428b-a2c3-fe8bc6a307c9  \n"
     ]
    }
   ],
   "source": [
    "import pandas as pd\n",
    "\n",
    "file_path = r\"C:\\Users\\HR\\Desktop\\Workspace\\데이터톤\\마케팅\\merged_data.csv\"\n",
    "df = pd.read_csv(file_path)\n",
    "\n",
    "print(df.head())\n"
   ]
  },
  {
   "cell_type": "code",
   "execution_count": 17,
   "id": "082514f5-b701-4cdd-9c78-94a1491383c7",
   "metadata": {},
   "outputs": [
    {
     "name": "stdout",
     "output_type": "stream",
     "text": [
      "(11932733, 12)\n",
      "0.06\n",
      "0\n"
     ]
    }
   ],
   "source": [
    "import pandas as pd\n",
    "\n",
    "# CSV 또는 Parquet 파일을 불러온 뒤 df에 저장했다고 가정\n",
    "# 예: df = pd.read_csv('your_file.csv') 또는 pd.read_parquet('your_file.parquet')\n",
    "\n",
    "#  1. price가 0인 행 제거\n",
    "df = df[df['price'] > 0]\n",
    "\n",
    "#  2. brand 컬럼에서 결측치 제거\n",
    "df = df.dropna(subset=['brand'])\n",
    "\n",
    "# 결과 확인 (선택사항)\n",
    "print(df.shape)\n",
    "print(df['price'].min())\n",
    "print(df['brand'].isnull().sum())\n"
   ]
  },
  {
   "cell_type": "code",
   "execution_count": 16,
   "id": "3007f693-93fe-435d-b7e4-03001d1f4854",
   "metadata": {},
   "outputs": [
    {
     "name": "stdout",
     "output_type": "stream",
     "text": [
      "✅ 'monthly_new_customers.csv' 파일로 저장 완료!\n",
      "\n",
      "📊 월별 신규 고객 수:\n",
      "   event_month  new_customer_count\n",
      "0          1.0              659031\n",
      "1          2.0              632050\n",
      "2         10.0              588996\n",
      "3         11.0              622935\n",
      "4         12.0              562466\n"
     ]
    }
   ],
   "source": [
    "# 1. 고객별 첫 등장 월 계산\n",
    "df['first_month'] = df.groupby('user_key')['event_month'].transform('min')\n",
    "\n",
    "# 2. 신규 고객: 등장한 월 == 첫 등장 월\n",
    "new_customer_by_month = df[df['event_month'] == df['first_month']]\n",
    "\n",
    "# 3. 월별 신규 고객 수 계산\n",
    "monthly_new = new_customer_by_month.groupby('event_month')['user_key'].nunique().reset_index()\n",
    "monthly_new.columns = ['event_month', 'new_customer_count']\n",
    "\n",
    "# 4. CSV로 저장\n",
    "monthly_new.to_csv('monthly_new_customers.csv', index=False)\n",
    "\n",
    "# 5. 결과 출력\n",
    "print(\"✅ 'monthly_new_customers.csv' 파일로 저장 완료!\")\n",
    "print(\"\\n📊 월별 신규 고객 수:\")\n",
    "print(monthly_new)\n",
    "\n"
   ]
  },
  {
   "cell_type": "code",
   "execution_count": 15,
   "id": "3c175646-52ba-4987-9233-9ad2becfd46f",
   "metadata": {},
   "outputs": [
    {
     "name": "stdout",
     "output_type": "stream",
     "text": [
      "✅ 'monthly_repeat_customer_ratio.csv' 파일로 저장 완료!\n",
      "\n",
      "📊 월별 재방문 고객 비율:\n",
      "   event_month  repeat_customer_ratio\n",
      "0          1.0                   0.73\n",
      "1          2.0                   1.10\n",
      "2         10.0                   0.43\n",
      "3         11.0                   0.64\n",
      "4         12.0                   0.58\n"
     ]
    }
   ],
   "source": [
    "# 1. 고객별로 방문한 월 목록 추출\n",
    "user_months = df.groupby('user_key')['event_month'].unique()\n",
    "\n",
    "# 2. 각 고객이 재방문자인지 여부 (2개월 이상 방문한 고객)\n",
    "repeat_users = user_months[user_months.apply(lambda x: len(x) >= 2)].index\n",
    "\n",
    "# 3. 각 월별 전체 고객 수와 재방문 고객 수 계산\n",
    "monthly_user = df.groupby('event_month')['user_key'].nunique()\n",
    "monthly_repeat = df[df['user_key'].isin(repeat_users)].groupby('event_month')['user_key'].nunique()\n",
    "\n",
    "# 4. 비율 계산\n",
    "monthly_repeat_ratio = (monthly_repeat / monthly_user * 100).reset_index()\n",
    "monthly_repeat_ratio.columns = ['event_month', 'repeat_customer_ratio']\n",
    "\n",
    "# 5. 소수점 2자리로 정리\n",
    "monthly_repeat_ratio['repeat_customer_ratio'] = monthly_repeat_ratio['repeat_customer_ratio'].round(2)\n",
    "\n",
    "# 6. CSV 저장\n",
    "monthly_repeat_ratio.to_csv('monthly_repeat_customer_ratio.csv', index=False)\n",
    "\n",
    "# 7. 결과 출력\n",
    "print(\"✅ 'monthly_repeat_customer_ratio.csv' 파일로 저장 완료!\")\n",
    "print(\"\\n📊 월별 재방문 고객 비율:\")\n",
    "print(monthly_repeat_ratio)\n",
    "\n"
   ]
  },
  {
   "cell_type": "code",
   "execution_count": 14,
   "id": "4f4b71dc-0e7e-4f27-bf98-cd082a1c8157",
   "metadata": {},
   "outputs": [
    {
     "name": "stdout",
     "output_type": "stream",
     "text": [
      "✅ 'monthly_churn_rate.csv' 파일로 저장 완료!\n",
      "\n",
      "📊 월별 고객 이탈률:\n",
      "   event_month  churn_rate\n",
      "0          2.0       99.42\n",
      "1         10.0       99.81\n",
      "2         11.0       99.74\n",
      "3         12.0       99.75\n"
     ]
    }
   ],
   "source": [
    "# 1. 월별 고객 목록 딕셔너리 생성\n",
    "month_customer = df.groupby('event_month')['user_key'].unique().to_dict()\n",
    "\n",
    "# 2. 월별 고객 이탈률 계산\n",
    "churn_data = []\n",
    "\n",
    "months = sorted(month_customer.keys())\n",
    "for i in range(1, len(months)):\n",
    "    prev_month = months[i - 1]\n",
    "    curr_month = months[i]\n",
    "    \n",
    "    prev_users = set(month_customer[prev_month])\n",
    "    curr_users = set(month_customer[curr_month])\n",
    "    \n",
    "    # 이탈한 고객 = 이전 달에는 있었지만 이번 달에는 없는 고객\n",
    "    churned_users = prev_users - curr_users\n",
    "    churn_rate = len(churned_users) / len(prev_users) * 100 if len(prev_users) > 0 else 0\n",
    "\n",
    "    churn_data.append({\n",
    "        'event_month': curr_month,\n",
    "        'churn_rate': round(churn_rate, 2)\n",
    "    })\n",
    "\n",
    "# 3. DataFrame으로 변환\n",
    "churn_df = pd.DataFrame(churn_data)\n",
    "\n",
    "# 4. CSV 저장\n",
    "churn_df.to_csv('monthly_churn_rate.csv', index=False)\n",
    "\n",
    "# 5. 결과 출력\n",
    "print(\"✅ 'monthly_churn_rate.csv' 파일로 저장 완료!\")\n",
    "print(\"\\n📊 월별 고객 이탈률:\")\n",
    "print(churn_df)\n",
    "\n"
   ]
  },
  {
   "cell_type": "code",
   "execution_count": 13,
   "id": "dca5cf08-d25f-4cb1-80e0-d8e68dfa689e",
   "metadata": {},
   "outputs": [
    {
     "name": "stdout",
     "output_type": "stream",
     "text": [
      "✅ 'customer_lifetime_value.csv' 파일로 저장 완료!\n",
      "\n",
      "📊 고객별 생애가치(CLTV) 상위 10명:\n",
      "                                             user_key      CLV\n",
      "14465   396059467285e8547-29b3-49d2-b503-5ca9a60413cc  1080.97\n",
      "76512   5578507438db8915d-ab78-4147-8c32-cde983be715d   957.14\n",
      "63116   54351257616e3af43-c113-4a04-afa5-83f4f9f735b8   929.57\n",
      "97062   572631412a133acd7-8cf6-e069-e38d-303c4104c3da   874.52\n",
      "16852   409977933d09dd883-2ee5-4031-b8b3-8b5ceee72d05   872.18\n",
      "29879   463845330d9c660ad-313f-401b-bf2e-53c1e8b77b11   849.32\n",
      "65431   546827800346dd83e-e8f0-69df-085a-0cf4a806d70d   827.12\n",
      "39535   491009486028266ad-9d7a-4ad9-9aac-93884e5a875e   800.64\n",
      "131067  6103270418a70ec89-41f3-4733-9e74-2710ce5380fb   790.34\n",
      "48808   5182780600a18130a-9230-4d34-a78c-b1bf13d928d6   751.62\n"
     ]
    }
   ],
   "source": [
    "# 1. 구매 이벤트만 필터링 (event_type == 'purchase')\n",
    "purchase_df = df[df['event_type'] == 'purchase']\n",
    "\n",
    "# 2. 고객별 총 구매 금액 (CLV)\n",
    "clv_df = purchase_df.groupby('user_key')['price'].sum().reset_index()\n",
    "clv_df.columns = ['user_key', 'CLV']\n",
    "\n",
    "# 3. 소수점 반올림\n",
    "clv_df['CLV'] = clv_df['CLV'].round(2)\n",
    "\n",
    "# 4. CSV 저장\n",
    "clv_df.to_csv('customer_lifetime_value.csv', index=False)\n",
    "\n",
    "# 결과 출력\n",
    "print(\"✅ 'customer_lifetime_value.csv' 파일로 저장 완료!\")\n",
    "print(\"\\n📊 고객별 생애가치(CLTV) 상위 10명:\")\n",
    "print(clv_df.sort_values(by='CLV', ascending=False).head(10))\n"
   ]
  },
  {
   "cell_type": "code",
   "execution_count": 12,
   "id": "84d241b4-7a8f-427a-8784-c4dc18324579",
   "metadata": {},
   "outputs": [
    {
     "name": "stdout",
     "output_type": "stream",
     "text": [
      "✅ 'monthly_user_session_counts.csv' 파일로 저장 완료!\n",
      "\n",
      "📊 월별 사용자 및 세션 수 요약:\n",
      "   event_month  unique_users  unique_sessions\n",
      "0          1.0        659031           658956\n",
      "1          2.0        635873           635804\n",
      "2         10.0        590517           590495\n",
      "3         11.0        626152           626128\n",
      "4         12.0        565773           565745\n"
     ]
    }
   ],
   "source": [
    "# 월별 사용자 수 및 세션 수 집계\n",
    "monthly_counts = df.groupby('event_month').agg({\n",
    "    'user_key': pd.Series.nunique,\n",
    "    'user_session': pd.Series.nunique\n",
    "}).reset_index()\n",
    "\n",
    "# 컬럼명 정리\n",
    "monthly_counts.columns = ['event_month', 'unique_users', 'unique_sessions']\n",
    "\n",
    "# CSV 저장\n",
    "monthly_counts.to_csv('monthly_user_session_counts.csv', index=False)\n",
    "\n",
    "# 출력\n",
    "print(\"✅ 'monthly_user_session_counts.csv' 파일로 저장 완료!\")\n",
    "print(\"\\n📊 월별 사용자 및 세션 수 요약:\")\n",
    "print(monthly_counts)\n",
    "\n"
   ]
  },
  {
   "cell_type": "code",
   "execution_count": 18,
   "id": "b2d75be8-4c7c-4561-994f-d351497ec3ec",
   "metadata": {},
   "outputs": [
    {
     "name": "stdout",
     "output_type": "stream",
     "text": [
      "📉 View→Cart 이탈률: 80.98%\n",
      "📉 Cart→Purchase 이탈률: 85.81%\n",
      "✅ 가장 큰 이탈 구간: Cart → Purchase\n",
      "\n",
      "📊 전체 이탈률 요약:\n",
      "   view_to_cart_drop_rate (%)  cart_to_purchase_drop_rate (%)   max_drop_stage\n",
      "0                       80.98                           85.81  Cart → Purchase\n",
      "✅ 'overall_dropoff_summary.csv' 파일로 저장 완료!\n"
     ]
    }
   ],
   "source": [
    "# View → Cart\n",
    "view_users = set(df[df['event_type'] == 'view']['user_key'])\n",
    "cart_users = set(df[df['event_type'] == 'cart']['user_key'])\n",
    "drop_view_to_cart = view_users - cart_users\n",
    "view_to_cart_drop_rate = len(drop_view_to_cart) / len(view_users) * 100\n",
    "\n",
    "# Cart → Purchase\n",
    "purchase_users = set(df[df['event_type'] == 'purchase']['user_key'])\n",
    "drop_cart_to_purchase = cart_users - purchase_users\n",
    "cart_to_purchase_drop_rate = len(drop_cart_to_purchase) / len(cart_users) * 100\n",
    "\n",
    "# 출력\n",
    "print(f\"📉 View→Cart 이탈률: {view_to_cart_drop_rate:.2f}%\")\n",
    "print(f\"📉 Cart→Purchase 이탈률: {cart_to_purchase_drop_rate:.2f}%\")\n",
    "\n",
    "# 가장 큰 구간 강조\n",
    "if view_to_cart_drop_rate > cart_to_purchase_drop_rate:\n",
    "    max_drop = \"View → Cart\"\n",
    "else:\n",
    "    max_drop = \"Cart → Purchase\"\n",
    "\n",
    "print(f\"✅ 가장 큰 이탈 구간: {max_drop}\")\n",
    "\n",
    "# 결과 보기: DataFrame으로 정리\n",
    "import pandas as pd\n",
    "\n",
    "drop_summary = pd.DataFrame([{\n",
    "    'view_to_cart_drop_rate (%)': round(view_to_cart_drop_rate, 2),\n",
    "    'cart_to_purchase_drop_rate (%)': round(cart_to_purchase_drop_rate, 2),\n",
    "    'max_drop_stage': max_drop\n",
    "}])\n",
    "\n",
    "# CSV 저장\n",
    "drop_summary.to_csv('overall_dropoff_summary.csv', index=False)\n",
    "\n",
    "# 결과 출력\n",
    "print(\"\\n📊 전체 이탈률 요약:\")\n",
    "print(drop_summary)\n",
    "print(\"✅ 'overall_dropoff_summary.csv' 파일로 저장 완료!\")\n",
    "\n",
    "\n"
   ]
  },
  {
   "cell_type": "code",
   "execution_count": 10,
   "id": "7d9cd8cb-e392-413f-9462-c778a949c3d6",
   "metadata": {},
   "outputs": [
    {
     "name": "stdout",
     "output_type": "stream",
     "text": [
      "✅ 'monthly_dropoff_rates.csv' 파일로 저장 완료!\n",
      "\n",
      "📊 월별 이탈률 데이터:\n",
      "   event_month  view_to_cart_drop_rate  cart_to_purchase_drop_rate\n",
      "0            1                   82.30                       85.29\n",
      "1            2                   83.03                       86.25\n",
      "2           10                   76.43                       87.91\n",
      "3           11                   79.84                       84.79\n",
      "4           12                   83.04                       84.41\n"
     ]
    }
   ],
   "source": [
    "# 결과 저장 리스트\n",
    "monthly_dropoff = []\n",
    "\n",
    "# 분석할 월 목록\n",
    "months = sorted(df['event_month'].dropna().unique())\n",
    "\n",
    "for month in months:\n",
    "    month_df = df[df['event_month'] == month]\n",
    "    \n",
    "    # 월별 유저 집합\n",
    "    view_users = set(month_df[month_df['event_type'] == 'view']['user_key'])\n",
    "    cart_users = set(month_df[month_df['event_type'] == 'cart']['user_key'])\n",
    "    purchase_users = set(month_df[month_df['event_type'] == 'purchase']['user_key'])\n",
    "    \n",
    "    # View → Cart 이탈\n",
    "    drop_view_to_cart = view_users - cart_users\n",
    "    view_to_cart_drop_rate = len(drop_view_to_cart) / len(view_users) * 100 if len(view_users) > 0 else 0\n",
    "\n",
    "    # Cart → Purchase 이탈\n",
    "    drop_cart_to_purchase = cart_users - purchase_users\n",
    "    cart_to_purchase_drop_rate = len(drop_cart_to_purchase) / len(cart_users) * 100 if len(cart_users) > 0 else 0\n",
    "\n",
    "    # 저장\n",
    "    monthly_dropoff.append({\n",
    "        'event_month': int(month),\n",
    "        'view_to_cart_drop_rate': round(view_to_cart_drop_rate, 2),\n",
    "        'cart_to_purchase_drop_rate': round(cart_to_purchase_drop_rate, 2)\n",
    "    })\n",
    "\n",
    "# DataFrame 변환\n",
    "dropoff_df = pd.DataFrame(monthly_dropoff)\n",
    "\n",
    "# CSV 저장\n",
    "dropoff_df.to_csv('monthly_dropoff_rates.csv', index=False)\n",
    "\n",
    "# 결과 출력\n",
    "print(\"✅ 'monthly_dropoff_rates.csv' 파일로 저장 완료!\")\n",
    "print(\"\\n📊 월별 이탈률 데이터:\")\n",
    "print(dropoff_df)\n",
    "\n"
   ]
  },
  {
   "cell_type": "code",
   "execution_count": 19,
   "id": "499d2abb-a2be-41a5-b22b-9643720d759f",
   "metadata": {},
   "outputs": [
    {
     "name": "stderr",
     "output_type": "stream",
     "text": [
      "C:\\Users\\HR\\AppData\\Local\\Temp\\ipykernel_8160\\3372606268.py:12: FutureWarning: A value is trying to be set on a copy of a DataFrame or Series through chained assignment using an inplace method.\n",
      "The behavior will change in pandas 3.0. This inplace method will never work because the intermediate object on which we are setting values always behaves as a copy.\n",
      "\n",
      "For example, when doing 'df[col].method(value, inplace=True)', try using 'df.method({col: value}, inplace=True)' or df[col] = df[col].method(value) instead, to perform the operation inplace on the original object.\n",
      "\n",
      "\n",
      "  user_event_counts['conversion_rate'].replace([float('inf'), float('nan')], 0, inplace=True)\n"
     ]
    },
    {
     "name": "stdout",
     "output_type": "stream",
     "text": [
      "✅ 'user_conversion_rates.csv' 파일로 저장 완료!\n",
      "\n",
      "📊 유저별 전환율 상위 10명:\n",
      "event_type                                       user_key  cart  purchase  \\\n",
      "1066920     54351257616e3af43-c113-4a04-afa5-83f4f9f735b8     0       129   \n",
      "1886136     572631412a133acd7-8cf6-e069-e38d-303c4104c3da    79       123   \n",
      "1828117     570593977cba9985f-3309-4748-a6c5-93ea72a62393     1        97   \n",
      "1107621     54658041484b7a4ab-fd4f-432b-b974-60e53ba4a417    47        93   \n",
      "961164      535670409d7e85cdb-8063-4a11-a5a2-47fa69946695    96        93   \n",
      "1584366     563485138f2697992-7694-a5c5-728b-a91f4285477b     0        92   \n",
      "404737      4538210245f37bad7-9cad-4da3-b4a9-03cf798c3975     0        90   \n",
      "33035       243184747ad223e08-512f-4acc-9a8d-56b3cdabbcf8   107        82   \n",
      "211101      398149664096daa6e-aab6-49be-94d7-244ba38f7cc1     1        82   \n",
      "1369698     557790271e77498f5-90fb-4df9-b6c9-b9c28612405f     0        78   \n",
      "\n",
      "event_type  remove_from_cart  view  conversion_rate  \n",
      "1066920                   10     1          12900.0  \n",
      "1886136                   36     1          12300.0  \n",
      "1828117                    1     1           9700.0  \n",
      "1107621                    2     1           9300.0  \n",
      "961164                     2     1           9300.0  \n",
      "1584366                    0     1           9200.0  \n",
      "404737                    25     1           9000.0  \n",
      "33035                     14     1           8200.0  \n",
      "211101                     0     1           8200.0  \n",
      "1369698                    0     1           7800.0  \n"
     ]
    }
   ],
   "source": [
    "# 유저별 이벤트 카운트\n",
    "user_event_counts = df.pivot_table(index='user_key', \n",
    "                                   columns='event_type', \n",
    "                                   aggfunc='size', \n",
    "                                   fill_value=0).reset_index()\n",
    "\n",
    "# 전환율 계산: purchase / view\n",
    "user_event_counts['conversion_rate'] = (user_event_counts['purchase'] / user_event_counts['view']) * 100\n",
    "user_event_counts['conversion_rate'] = user_event_counts['conversion_rate'].round(2)\n",
    "\n",
    "# NaN or inf 처리 (view가 0인 경우)\n",
    "user_event_counts['conversion_rate'].replace([float('inf'), float('nan')], 0, inplace=True)\n",
    "\n",
    "# 저장\n",
    "user_event_counts.to_csv('user_conversion_rates.csv', index=False)\n",
    "\n",
    "# 결과 출력\n",
    "print(\"✅ 'user_conversion_rates.csv' 파일로 저장 완료!\")\n",
    "print(\"\\n📊 유저별 전환율 상위 10명:\")\n",
    "print(user_event_counts.sort_values(by='conversion_rate', ascending=False).head(10))\n"
   ]
  },
  {
   "cell_type": "code",
   "execution_count": null,
   "id": "82fd9d70-09f0-48a9-9e9f-6ef536419b11",
   "metadata": {},
   "outputs": [],
   "source": []
  }
 ],
 "metadata": {
  "kernelspec": {
   "display_name": "Python [conda env:base] *",
   "language": "python",
   "name": "conda-base-py"
  },
  "language_info": {
   "codemirror_mode": {
    "name": "ipython",
    "version": 3
   },
   "file_extension": ".py",
   "mimetype": "text/x-python",
   "name": "python",
   "nbconvert_exporter": "python",
   "pygments_lexer": "ipython3",
   "version": "3.12.7"
  }
 },
 "nbformat": 4,
 "nbformat_minor": 5
}
