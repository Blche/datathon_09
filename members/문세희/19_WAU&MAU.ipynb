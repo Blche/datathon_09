{
 "cells": [
  {
   "cell_type": "code",
   "execution_count": 2,
   "id": "7ab6a928-62ca-43af-ab60-8d8b13a87f16",
   "metadata": {},
   "outputs": [],
   "source": [
    "import numpy as np\n",
    "import pandas as pd\n",
    "import matplotlib.pyplot as plt\n",
    "import seaborn as sns\n",
    "import gc\n",
    "\n",
    "# 그래프 기본 테마 설정\n",
    "sns.set_style(\"white\")\n",
    "sns.set_context(\"notebook\")\n",
    "\n",
    "# 폰트 적용\n",
    "import platform\n",
    "from matplotlib import font_manager as fm\n",
    "font_path = \"font/NanumGothic.ttf\"\n",
    "\n",
    "font_prop = fm.FontProperties(fname=font_path)\n",
    "plt.rcParams['font.family'] = font_prop.get_name()\n",
    "\n",
    "# 그래프 기본 설정\n",
    "plt.rcParams['figure.figsize'] = 12, 6\n",
    "plt.rcParams['font.size'] = 14\n",
    "plt.rcParams['axes.unicode_minus'] = False\n",
    "plt.rcParams['axes.facecolor'] = 'white'      # 축 배경 흰색\n",
    "plt.rcParams['figure.facecolor'] = 'white'    # 전체 배경 흰색\n",
    "plt.rcParams['axes.grid'] = False             # 그리드 제거\n",
    "plt.rcParams['savefig.facecolor'] = 'white'   # 저장 이미지 배경도 흰색\n",
    "\n",
    "# 경고 무시\n",
    "import warnings\n",
    "warnings.filterwarnings('ignore')\n",
    "\n",
    "# 복잡한 통계 처리를 위한 라이브러리\n",
    "from scipy import stats"
   ]
  },
  {
   "cell_type": "code",
   "execution_count": 3,
   "id": "1357f552-2f71-4242-b149-7419be77b178",
   "metadata": {},
   "outputs": [],
   "source": [
    "df = pd.read_csv('data/merged_data_brand_dropna.csv')"
   ]
  },
  {
   "cell_type": "code",
   "execution_count": 5,
   "id": "f4f3b0c1-c15c-4650-8c1a-801774856d13",
   "metadata": {},
   "outputs": [
    {
     "ename": "DataError",
     "evalue": "No numeric types to aggregate",
     "output_type": "error",
     "traceback": [
      "\u001b[1;31m---------------------------------------------------------------------------\u001b[0m",
      "\u001b[1;31mTypeError\u001b[0m                                 Traceback (most recent call last)",
      "File \u001b[1;32m~\\anaconda3\\Lib\\site-packages\\pandas\\core\\window\\rolling.py:371\u001b[0m, in \u001b[0;36mBaseWindow._prep_values\u001b[1;34m(self, values)\u001b[0m\n\u001b[0;32m    370\u001b[0m     \u001b[38;5;28;01melse\u001b[39;00m:\n\u001b[1;32m--> 371\u001b[0m         values \u001b[38;5;241m=\u001b[39m ensure_float64(values)\n\u001b[0;32m    372\u001b[0m \u001b[38;5;28;01mexcept\u001b[39;00m (\u001b[38;5;167;01mValueError\u001b[39;00m, \u001b[38;5;167;01mTypeError\u001b[39;00m) \u001b[38;5;28;01mas\u001b[39;00m err:\n",
      "File \u001b[1;32mpandas\\\\_libs\\\\algos_common_helper.pxi:42\u001b[0m, in \u001b[0;36mpandas._libs.algos.ensure_float64\u001b[1;34m()\u001b[0m\n",
      "\u001b[1;31mTypeError\u001b[0m: float() argument must be a string or a real number, not 'set'",
      "\nThe above exception was the direct cause of the following exception:\n",
      "\u001b[1;31mTypeError\u001b[0m                                 Traceback (most recent call last)",
      "File \u001b[1;32m~\\anaconda3\\Lib\\site-packages\\pandas\\core\\window\\rolling.py:452\u001b[0m, in \u001b[0;36mBaseWindow._apply_series\u001b[1;34m(self, homogeneous_func, name)\u001b[0m\n\u001b[0;32m    451\u001b[0m \u001b[38;5;28;01mtry\u001b[39;00m:\n\u001b[1;32m--> 452\u001b[0m     values \u001b[38;5;241m=\u001b[39m \u001b[38;5;28mself\u001b[39m\u001b[38;5;241m.\u001b[39m_prep_values(obj\u001b[38;5;241m.\u001b[39m_values)\n\u001b[0;32m    453\u001b[0m \u001b[38;5;28;01mexcept\u001b[39;00m (\u001b[38;5;167;01mTypeError\u001b[39;00m, \u001b[38;5;167;01mNotImplementedError\u001b[39;00m) \u001b[38;5;28;01mas\u001b[39;00m err:\n",
      "File \u001b[1;32m~\\anaconda3\\Lib\\site-packages\\pandas\\core\\window\\rolling.py:373\u001b[0m, in \u001b[0;36mBaseWindow._prep_values\u001b[1;34m(self, values)\u001b[0m\n\u001b[0;32m    372\u001b[0m \u001b[38;5;28;01mexcept\u001b[39;00m (\u001b[38;5;167;01mValueError\u001b[39;00m, \u001b[38;5;167;01mTypeError\u001b[39;00m) \u001b[38;5;28;01mas\u001b[39;00m err:\n\u001b[1;32m--> 373\u001b[0m     \u001b[38;5;28;01mraise\u001b[39;00m \u001b[38;5;167;01mTypeError\u001b[39;00m(\u001b[38;5;124mf\u001b[39m\u001b[38;5;124m\"\u001b[39m\u001b[38;5;124mcannot handle this type -> \u001b[39m\u001b[38;5;132;01m{\u001b[39;00mvalues\u001b[38;5;241m.\u001b[39mdtype\u001b[38;5;132;01m}\u001b[39;00m\u001b[38;5;124m\"\u001b[39m) \u001b[38;5;28;01mfrom\u001b[39;00m\u001b[38;5;250m \u001b[39m\u001b[38;5;21;01merr\u001b[39;00m\n\u001b[0;32m    375\u001b[0m \u001b[38;5;66;03m# Convert inf to nan for C funcs\u001b[39;00m\n",
      "\u001b[1;31mTypeError\u001b[0m: cannot handle this type -> object",
      "\nThe above exception was the direct cause of the following exception:\n",
      "\u001b[1;31mDataError\u001b[0m                                 Traceback (most recent call last)",
      "Cell \u001b[1;32mIn[5], line 14\u001b[0m\n\u001b[0;32m      7\u001b[0m daily_users \u001b[38;5;241m=\u001b[39m (\n\u001b[0;32m      8\u001b[0m     df\u001b[38;5;241m.\u001b[39mgroupby(\u001b[38;5;124m'\u001b[39m\u001b[38;5;124mevent_time_moscow\u001b[39m\u001b[38;5;124m'\u001b[39m)[\u001b[38;5;124m'\u001b[39m\u001b[38;5;124muser_id\u001b[39m\u001b[38;5;124m'\u001b[39m]\n\u001b[0;32m      9\u001b[0m     \u001b[38;5;241m.\u001b[39mapply(\u001b[38;5;28mset\u001b[39m)  \u001b[38;5;66;03m# 중복 제거\u001b[39;00m\n\u001b[0;32m     10\u001b[0m     \u001b[38;5;241m.\u001b[39mreset_index(name\u001b[38;5;241m=\u001b[39m\u001b[38;5;124m'\u001b[39m\u001b[38;5;124muser_set\u001b[39m\u001b[38;5;124m'\u001b[39m)\n\u001b[0;32m     11\u001b[0m )\n\u001b[0;32m     13\u001b[0m \u001b[38;5;66;03m# WAU (최근 7일간 고유 유저 수)\u001b[39;00m\n\u001b[1;32m---> 14\u001b[0m daily_users[\u001b[38;5;124m'\u001b[39m\u001b[38;5;124mWAU\u001b[39m\u001b[38;5;124m'\u001b[39m] \u001b[38;5;241m=\u001b[39m daily_users[\u001b[38;5;124m'\u001b[39m\u001b[38;5;124muser_set\u001b[39m\u001b[38;5;124m'\u001b[39m]\u001b[38;5;241m.\u001b[39mrolling(window\u001b[38;5;241m=\u001b[39m\u001b[38;5;241m7\u001b[39m)\u001b[38;5;241m.\u001b[39mapply(\n\u001b[0;32m     15\u001b[0m     \u001b[38;5;28;01mlambda\u001b[39;00m sets: \u001b[38;5;28mlen\u001b[39m(\u001b[38;5;28mset\u001b[39m\u001b[38;5;241m.\u001b[39munion(\u001b[38;5;241m*\u001b[39msets)), raw\u001b[38;5;241m=\u001b[39m\u001b[38;5;28;01mFalse\u001b[39;00m\n\u001b[0;32m     16\u001b[0m )\n\u001b[0;32m     18\u001b[0m \u001b[38;5;66;03m# MAU (최근 30일간 고유 유저 수)\u001b[39;00m\n\u001b[0;32m     19\u001b[0m daily_users[\u001b[38;5;124m'\u001b[39m\u001b[38;5;124mMAU\u001b[39m\u001b[38;5;124m'\u001b[39m] \u001b[38;5;241m=\u001b[39m daily_users[\u001b[38;5;124m'\u001b[39m\u001b[38;5;124muser_set\u001b[39m\u001b[38;5;124m'\u001b[39m]\u001b[38;5;241m.\u001b[39mrolling(window\u001b[38;5;241m=\u001b[39m\u001b[38;5;241m30\u001b[39m)\u001b[38;5;241m.\u001b[39mapply(\n\u001b[0;32m     20\u001b[0m     \u001b[38;5;28;01mlambda\u001b[39;00m sets: \u001b[38;5;28mlen\u001b[39m(\u001b[38;5;28mset\u001b[39m\u001b[38;5;241m.\u001b[39munion(\u001b[38;5;241m*\u001b[39msets)), raw\u001b[38;5;241m=\u001b[39m\u001b[38;5;28;01mFalse\u001b[39;00m\n\u001b[0;32m     21\u001b[0m )\n",
      "File \u001b[1;32m~\\anaconda3\\Lib\\site-packages\\pandas\\core\\window\\rolling.py:2049\u001b[0m, in \u001b[0;36mRolling.apply\u001b[1;34m(self, func, raw, engine, engine_kwargs, args, kwargs)\u001b[0m\n\u001b[0;32m   2016\u001b[0m \u001b[38;5;129m@doc\u001b[39m(\n\u001b[0;32m   2017\u001b[0m     template_header,\n\u001b[0;32m   2018\u001b[0m     create_section_header(\u001b[38;5;124m\"\u001b[39m\u001b[38;5;124mParameters\u001b[39m\u001b[38;5;124m\"\u001b[39m),\n\u001b[1;32m   (...)\u001b[0m\n\u001b[0;32m   2047\u001b[0m     kwargs: \u001b[38;5;28mdict\u001b[39m[\u001b[38;5;28mstr\u001b[39m, Any] \u001b[38;5;241m|\u001b[39m \u001b[38;5;28;01mNone\u001b[39;00m \u001b[38;5;241m=\u001b[39m \u001b[38;5;28;01mNone\u001b[39;00m,\n\u001b[0;32m   2048\u001b[0m ):\n\u001b[1;32m-> 2049\u001b[0m     \u001b[38;5;28;01mreturn\u001b[39;00m \u001b[38;5;28msuper\u001b[39m()\u001b[38;5;241m.\u001b[39mapply(\n\u001b[0;32m   2050\u001b[0m         func,\n\u001b[0;32m   2051\u001b[0m         raw\u001b[38;5;241m=\u001b[39mraw,\n\u001b[0;32m   2052\u001b[0m         engine\u001b[38;5;241m=\u001b[39mengine,\n\u001b[0;32m   2053\u001b[0m         engine_kwargs\u001b[38;5;241m=\u001b[39mengine_kwargs,\n\u001b[0;32m   2054\u001b[0m         args\u001b[38;5;241m=\u001b[39margs,\n\u001b[0;32m   2055\u001b[0m         kwargs\u001b[38;5;241m=\u001b[39mkwargs,\n\u001b[0;32m   2056\u001b[0m     )\n",
      "File \u001b[1;32m~\\anaconda3\\Lib\\site-packages\\pandas\\core\\window\\rolling.py:1508\u001b[0m, in \u001b[0;36mRollingAndExpandingMixin.apply\u001b[1;34m(self, func, raw, engine, engine_kwargs, args, kwargs)\u001b[0m\n\u001b[0;32m   1505\u001b[0m \u001b[38;5;28;01melse\u001b[39;00m:\n\u001b[0;32m   1506\u001b[0m     \u001b[38;5;28;01mraise\u001b[39;00m \u001b[38;5;167;01mValueError\u001b[39;00m(\u001b[38;5;124m\"\u001b[39m\u001b[38;5;124mengine must be either \u001b[39m\u001b[38;5;124m'\u001b[39m\u001b[38;5;124mnumba\u001b[39m\u001b[38;5;124m'\u001b[39m\u001b[38;5;124m or \u001b[39m\u001b[38;5;124m'\u001b[39m\u001b[38;5;124mcython\u001b[39m\u001b[38;5;124m'\u001b[39m\u001b[38;5;124m\"\u001b[39m)\n\u001b[1;32m-> 1508\u001b[0m \u001b[38;5;28;01mreturn\u001b[39;00m \u001b[38;5;28mself\u001b[39m\u001b[38;5;241m.\u001b[39m_apply(\n\u001b[0;32m   1509\u001b[0m     apply_func,\n\u001b[0;32m   1510\u001b[0m     name\u001b[38;5;241m=\u001b[39m\u001b[38;5;124m\"\u001b[39m\u001b[38;5;124mapply\u001b[39m\u001b[38;5;124m\"\u001b[39m,\n\u001b[0;32m   1511\u001b[0m     numba_args\u001b[38;5;241m=\u001b[39mnumba_args,\n\u001b[0;32m   1512\u001b[0m )\n",
      "File \u001b[1;32m~\\anaconda3\\Lib\\site-packages\\pandas\\core\\window\\rolling.py:619\u001b[0m, in \u001b[0;36mBaseWindow._apply\u001b[1;34m(self, func, name, numeric_only, numba_args, **kwargs)\u001b[0m\n\u001b[0;32m    616\u001b[0m     \u001b[38;5;28;01mreturn\u001b[39;00m result\n\u001b[0;32m    618\u001b[0m \u001b[38;5;28;01mif\u001b[39;00m \u001b[38;5;28mself\u001b[39m\u001b[38;5;241m.\u001b[39mmethod \u001b[38;5;241m==\u001b[39m \u001b[38;5;124m\"\u001b[39m\u001b[38;5;124msingle\u001b[39m\u001b[38;5;124m\"\u001b[39m:\n\u001b[1;32m--> 619\u001b[0m     \u001b[38;5;28;01mreturn\u001b[39;00m \u001b[38;5;28mself\u001b[39m\u001b[38;5;241m.\u001b[39m_apply_columnwise(homogeneous_func, name, numeric_only)\n\u001b[0;32m    620\u001b[0m \u001b[38;5;28;01melse\u001b[39;00m:\n\u001b[0;32m    621\u001b[0m     \u001b[38;5;28;01mreturn\u001b[39;00m \u001b[38;5;28mself\u001b[39m\u001b[38;5;241m.\u001b[39m_apply_tablewise(homogeneous_func, name, numeric_only)\n",
      "File \u001b[1;32m~\\anaconda3\\Lib\\site-packages\\pandas\\core\\window\\rolling.py:472\u001b[0m, in \u001b[0;36mBaseWindow._apply_columnwise\u001b[1;34m(self, homogeneous_func, name, numeric_only)\u001b[0m\n\u001b[0;32m    470\u001b[0m \u001b[38;5;28mself\u001b[39m\u001b[38;5;241m.\u001b[39m_validate_numeric_only(name, numeric_only)\n\u001b[0;32m    471\u001b[0m \u001b[38;5;28;01mif\u001b[39;00m \u001b[38;5;28mself\u001b[39m\u001b[38;5;241m.\u001b[39m_selected_obj\u001b[38;5;241m.\u001b[39mndim \u001b[38;5;241m==\u001b[39m \u001b[38;5;241m1\u001b[39m:\n\u001b[1;32m--> 472\u001b[0m     \u001b[38;5;28;01mreturn\u001b[39;00m \u001b[38;5;28mself\u001b[39m\u001b[38;5;241m.\u001b[39m_apply_series(homogeneous_func, name)\n\u001b[0;32m    474\u001b[0m obj \u001b[38;5;241m=\u001b[39m \u001b[38;5;28mself\u001b[39m\u001b[38;5;241m.\u001b[39m_create_data(\u001b[38;5;28mself\u001b[39m\u001b[38;5;241m.\u001b[39m_selected_obj, numeric_only)\n\u001b[0;32m    475\u001b[0m \u001b[38;5;28;01mif\u001b[39;00m name \u001b[38;5;241m==\u001b[39m \u001b[38;5;124m\"\u001b[39m\u001b[38;5;124mcount\u001b[39m\u001b[38;5;124m\"\u001b[39m:\n\u001b[0;32m    476\u001b[0m     \u001b[38;5;66;03m# GH 12541: Special case for count where we support date-like types\u001b[39;00m\n",
      "File \u001b[1;32m~\\anaconda3\\Lib\\site-packages\\pandas\\core\\window\\rolling.py:454\u001b[0m, in \u001b[0;36mBaseWindow._apply_series\u001b[1;34m(self, homogeneous_func, name)\u001b[0m\n\u001b[0;32m    452\u001b[0m     values \u001b[38;5;241m=\u001b[39m \u001b[38;5;28mself\u001b[39m\u001b[38;5;241m.\u001b[39m_prep_values(obj\u001b[38;5;241m.\u001b[39m_values)\n\u001b[0;32m    453\u001b[0m \u001b[38;5;28;01mexcept\u001b[39;00m (\u001b[38;5;167;01mTypeError\u001b[39;00m, \u001b[38;5;167;01mNotImplementedError\u001b[39;00m) \u001b[38;5;28;01mas\u001b[39;00m err:\n\u001b[1;32m--> 454\u001b[0m     \u001b[38;5;28;01mraise\u001b[39;00m DataError(\u001b[38;5;124m\"\u001b[39m\u001b[38;5;124mNo numeric types to aggregate\u001b[39m\u001b[38;5;124m\"\u001b[39m) \u001b[38;5;28;01mfrom\u001b[39;00m\u001b[38;5;250m \u001b[39m\u001b[38;5;21;01merr\u001b[39;00m\n\u001b[0;32m    456\u001b[0m result \u001b[38;5;241m=\u001b[39m homogeneous_func(values)\n\u001b[0;32m    457\u001b[0m index \u001b[38;5;241m=\u001b[39m \u001b[38;5;28mself\u001b[39m\u001b[38;5;241m.\u001b[39m_slice_axis_for_step(obj\u001b[38;5;241m.\u001b[39mindex, result)\n",
      "\u001b[1;31mDataError\u001b[0m: No numeric types to aggregate"
     ]
    }
   ],
   "source": [
    "import pandas as pd\n",
    "\n",
    "# 날짜 타입 변환\n",
    "df['event_time_moscow'] = pd.to_datetime(df['event_time_moscow'])\n",
    "\n",
    "# 날짜별 유저 리스트 집계\n",
    "daily_users = (\n",
    "    df.groupby('event_time_moscow')['user_id']\n",
    "    .apply(set)  # 중복 제거\n",
    "    .reset_index(name='user_set')\n",
    ")\n",
    "\n",
    "# WAU (최근 7일간 고유 유저 수)\n",
    "daily_users['WAU'] = daily_users['user_set'].rolling(window=7).apply(\n",
    "    lambda sets: len(set.union(*sets)), raw=False\n",
    ")\n",
    "\n",
    "# MAU (최근 30일간 고유 유저 수)\n",
    "daily_users['MAU'] = daily_users['user_set'].rolling(window=30).apply(\n",
    "    lambda sets: len(set.union(*sets)), raw=False\n",
    ")\n",
    "\n",
    "# 결과\n",
    "print(daily_users[['event_time_moscow', 'WAU', 'MAU']])\n"
   ]
  },
  {
   "cell_type": "code",
   "execution_count": null,
   "id": "a9ba4fb9-0246-40a8-908d-09a44865ad34",
   "metadata": {},
   "outputs": [],
   "source": []
  }
 ],
 "metadata": {
  "kernelspec": {
   "display_name": "Python 3 (Fixed)",
   "language": "python",
   "name": "python3"
  },
  "language_info": {
   "codemirror_mode": {
    "name": "ipython",
    "version": 3
   },
   "file_extension": ".py",
   "mimetype": "text/x-python",
   "name": "python",
   "nbconvert_exporter": "python",
   "pygments_lexer": "ipython3",
   "version": "3.13.5"
  }
 },
 "nbformat": 4,
 "nbformat_minor": 5
}
