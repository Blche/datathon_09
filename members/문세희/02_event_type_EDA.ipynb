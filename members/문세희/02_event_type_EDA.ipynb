{
 "cells": [
  {
   "cell_type": "code",
   "execution_count": 1,
   "id": "29f3e7f5-39fd-4a8f-8fb5-dab6d1bb8d7f",
   "metadata": {},
   "outputs": [],
   "source": [
    "import numpy as np\n",
    "import pandas as pd\n",
    "import matplotlib.pyplot as plt\n",
    "import seaborn as sns\n",
    "import gc\n",
    "\n",
    "# 그래프 기본 테마 설정\n",
    "# https://coldbrown.co.kr/2023/07/%ED%8C%8C%EC%9D%B4%EC%8D%AC-%EC%8B%A4%EC%A0%84%ED%8E%B8-08-seaborn-sns-set%EC%9D%84-%ED%86%B5%ED%95%B4-%EC%8A%A4%ED%83%80%EC%9D%BC-%EC%84%A4%EC%A0%95%ED%95%98%EA%B8%B0/\n",
    "sns.set()\n",
    "\n",
    "# 그래프 기본 설정\n",
    "plt.rcParams['font.family'] = 'Malgun Gothic'\n",
    "# plt.rcParams['font.family'] = 'AppleGothic'\n",
    "plt.rcParams['figure.figsize'] = 12, 6\n",
    "plt.rcParams['font.size'] = 14\n",
    "plt.rcParams['axes.unicode_minus'] = False\n",
    "\n",
    "\n",
    "# 복잡한 통계 처리를 위한 라이브러리\n",
    "from scipy import stats"
   ]
  },
  {
   "cell_type": "code",
   "execution_count": 2,
   "id": "7ad23b56-634f-4dc2-bd79-e356aedc9958",
   "metadata": {},
   "outputs": [],
   "source": [
    "# 데이터프레임을 넣고 column별 특성 및 결측값, 고유값들을 확인하는 함수를 작성해본다.\n",
    "# 필수는 아니지만 전체적인 흐름을 파악하기 쉬워진다.\n",
    "\n",
    "def resumetable(df, n):\n",
    "    print(f'데이터셋 크기: {df.shape}')                                # 데이터프레임의 전체 크기(행, 열) 출력\n",
    "\n",
    "    summary = pd.DataFrame(df.dtypes, columns=['데이터 타입'])         # 각 피처의 데이터 타입을 가져와 데이터프레임으로 생성\n",
    "    summary = summary.reset_index()                                    # 인덱스를 초기화하여 컬럼으로 변환\n",
    "    summary = summary.rename(columns={'index':'피처'})                 # 'index' 컬럼명을 '피처'로 변경\n",
    "\n",
    "    summary['결측값 개수'] = df.isnull().sum().values                 # 각 피처의 결측값(null) 개수 계산\n",
    "    summary['고유값 개수'] = df.nunique().values                      # 각 피처의 고유값 개수 계산\n",
    "    \n",
    "    for i in range(n):\n",
    "        summary[f\"{i+1}번째 값\"] = df.iloc[i].values\n",
    "    \n",
    "    return summary                                                     # 요약 테이블 반환"
   ]
  },
  {
   "cell_type": "code",
   "execution_count": 3,
   "id": "c142a9b2-563f-4578-a13a-c29dcf5ea73d",
   "metadata": {},
   "outputs": [],
   "source": [
    "df = pd.read_csv('data/merged_data.csv')"
   ]
  },
  {
   "cell_type": "code",
   "execution_count": 4,
   "id": "11b3de56-d0fc-49c1-821b-1a7b0acf550f",
   "metadata": {},
   "outputs": [
    {
     "name": "stdout",
     "output_type": "stream",
     "text": [
      "데이터셋 크기: (20688111, 11)\n"
     ]
    },
    {
     "data": {
      "text/html": [
       "<div>\n",
       "<style scoped>\n",
       "    .dataframe tbody tr th:only-of-type {\n",
       "        vertical-align: middle;\n",
       "    }\n",
       "\n",
       "    .dataframe tbody tr th {\n",
       "        vertical-align: top;\n",
       "    }\n",
       "\n",
       "    .dataframe thead th {\n",
       "        text-align: right;\n",
       "    }\n",
       "</style>\n",
       "<table border=\"1\" class=\"dataframe\">\n",
       "  <thead>\n",
       "    <tr style=\"text-align: right;\">\n",
       "      <th></th>\n",
       "      <th>피처</th>\n",
       "      <th>데이터 타입</th>\n",
       "      <th>결측값 개수</th>\n",
       "      <th>고유값 개수</th>\n",
       "      <th>1번째 값</th>\n",
       "      <th>2번째 값</th>\n",
       "      <th>3번째 값</th>\n",
       "    </tr>\n",
       "  </thead>\n",
       "  <tbody>\n",
       "    <tr>\n",
       "      <th>0</th>\n",
       "      <td>event_time</td>\n",
       "      <td>object</td>\n",
       "      <td>0</td>\n",
       "      <td>8782131</td>\n",
       "      <td>2019-10-01 00:00:00+00:00</td>\n",
       "      <td>2019-10-01 00:00:03+00:00</td>\n",
       "      <td>2019-10-01 00:00:07+00:00</td>\n",
       "    </tr>\n",
       "    <tr>\n",
       "      <th>1</th>\n",
       "      <td>event_type</td>\n",
       "      <td>object</td>\n",
       "      <td>0</td>\n",
       "      <td>4</td>\n",
       "      <td>cart</td>\n",
       "      <td>cart</td>\n",
       "      <td>cart</td>\n",
       "    </tr>\n",
       "    <tr>\n",
       "      <th>2</th>\n",
       "      <td>product_id</td>\n",
       "      <td>int64</td>\n",
       "      <td>0</td>\n",
       "      <td>54565</td>\n",
       "      <td>5773203</td>\n",
       "      <td>5773353</td>\n",
       "      <td>5881589</td>\n",
       "    </tr>\n",
       "    <tr>\n",
       "      <th>3</th>\n",
       "      <td>category_id</td>\n",
       "      <td>int64</td>\n",
       "      <td>0</td>\n",
       "      <td>525</td>\n",
       "      <td>1487580005134238553</td>\n",
       "      <td>1487580005134238553</td>\n",
       "      <td>2151191071051219817</td>\n",
       "    </tr>\n",
       "    <tr>\n",
       "      <th>4</th>\n",
       "      <td>brand</td>\n",
       "      <td>object</td>\n",
       "      <td>8755357</td>\n",
       "      <td>273</td>\n",
       "      <td>runail</td>\n",
       "      <td>runail</td>\n",
       "      <td>lovely</td>\n",
       "    </tr>\n",
       "    <tr>\n",
       "      <th>5</th>\n",
       "      <td>price</td>\n",
       "      <td>float64</td>\n",
       "      <td>0</td>\n",
       "      <td>2855</td>\n",
       "      <td>2.62</td>\n",
       "      <td>2.62</td>\n",
       "      <td>13.48</td>\n",
       "    </tr>\n",
       "    <tr>\n",
       "      <th>6</th>\n",
       "      <td>user_id</td>\n",
       "      <td>int64</td>\n",
       "      <td>0</td>\n",
       "      <td>1639151</td>\n",
       "      <td>463240011</td>\n",
       "      <td>463240011</td>\n",
       "      <td>429681830</td>\n",
       "    </tr>\n",
       "    <tr>\n",
       "      <th>7</th>\n",
       "      <td>user_session</td>\n",
       "      <td>object</td>\n",
       "      <td>0</td>\n",
       "      <td>4535940</td>\n",
       "      <td>26dd6e6e-4dac-4778-8d2c-92e149dab885</td>\n",
       "      <td>26dd6e6e-4dac-4778-8d2c-92e149dab885</td>\n",
       "      <td>49e8d843-adf3-428b-a2c3-fe8bc6a307c9</td>\n",
       "    </tr>\n",
       "    <tr>\n",
       "      <th>8</th>\n",
       "      <td>event_time_moscow</td>\n",
       "      <td>object</td>\n",
       "      <td>0</td>\n",
       "      <td>8782131</td>\n",
       "      <td>2019-10-01 03:00:00+03:00</td>\n",
       "      <td>2019-10-01 03:00:03+03:00</td>\n",
       "      <td>2019-10-01 03:00:07+03:00</td>\n",
       "    </tr>\n",
       "    <tr>\n",
       "      <th>9</th>\n",
       "      <td>event_month</td>\n",
       "      <td>float64</td>\n",
       "      <td>11933</td>\n",
       "      <td>5</td>\n",
       "      <td>10.0</td>\n",
       "      <td>10.0</td>\n",
       "      <td>10.0</td>\n",
       "    </tr>\n",
       "    <tr>\n",
       "      <th>10</th>\n",
       "      <td>user_key</td>\n",
       "      <td>object</td>\n",
       "      <td>0</td>\n",
       "      <td>4536271</td>\n",
       "      <td>46324001126dd6e6e-4dac-4778-8d2c-92e149dab885</td>\n",
       "      <td>46324001126dd6e6e-4dac-4778-8d2c-92e149dab885</td>\n",
       "      <td>42968183049e8d843-adf3-428b-a2c3-fe8bc6a307c9</td>\n",
       "    </tr>\n",
       "  </tbody>\n",
       "</table>\n",
       "</div>"
      ],
      "text/plain": [
       "                   피처   데이터 타입   결측값 개수   고유값 개수  \\\n",
       "0          event_time   object        0  8782131   \n",
       "1          event_type   object        0        4   \n",
       "2          product_id    int64        0    54565   \n",
       "3         category_id    int64        0      525   \n",
       "4               brand   object  8755357      273   \n",
       "5               price  float64        0     2855   \n",
       "6             user_id    int64        0  1639151   \n",
       "7        user_session   object        0  4535940   \n",
       "8   event_time_moscow   object        0  8782131   \n",
       "9         event_month  float64    11933        5   \n",
       "10           user_key   object        0  4536271   \n",
       "\n",
       "                                            1번째 값  \\\n",
       "0                       2019-10-01 00:00:00+00:00   \n",
       "1                                            cart   \n",
       "2                                         5773203   \n",
       "3                             1487580005134238553   \n",
       "4                                          runail   \n",
       "5                                            2.62   \n",
       "6                                       463240011   \n",
       "7            26dd6e6e-4dac-4778-8d2c-92e149dab885   \n",
       "8                       2019-10-01 03:00:00+03:00   \n",
       "9                                            10.0   \n",
       "10  46324001126dd6e6e-4dac-4778-8d2c-92e149dab885   \n",
       "\n",
       "                                            2번째 값  \\\n",
       "0                       2019-10-01 00:00:03+00:00   \n",
       "1                                            cart   \n",
       "2                                         5773353   \n",
       "3                             1487580005134238553   \n",
       "4                                          runail   \n",
       "5                                            2.62   \n",
       "6                                       463240011   \n",
       "7            26dd6e6e-4dac-4778-8d2c-92e149dab885   \n",
       "8                       2019-10-01 03:00:03+03:00   \n",
       "9                                            10.0   \n",
       "10  46324001126dd6e6e-4dac-4778-8d2c-92e149dab885   \n",
       "\n",
       "                                            3번째 값  \n",
       "0                       2019-10-01 00:00:07+00:00  \n",
       "1                                            cart  \n",
       "2                                         5881589  \n",
       "3                             2151191071051219817  \n",
       "4                                          lovely  \n",
       "5                                           13.48  \n",
       "6                                       429681830  \n",
       "7            49e8d843-adf3-428b-a2c3-fe8bc6a307c9  \n",
       "8                       2019-10-01 03:00:07+03:00  \n",
       "9                                            10.0  \n",
       "10  42968183049e8d843-adf3-428b-a2c3-fe8bc6a307c9  "
      ]
     },
     "execution_count": 4,
     "metadata": {},
     "output_type": "execute_result"
    }
   ],
   "source": [
    "resumetable(df,3)"
   ]
  },
  {
   "cell_type": "code",
   "execution_count": null,
   "id": "94d7d072-6411-4d6d-80b3-3fa30e8446f6",
   "metadata": {},
   "outputs": [],
   "source": [
    "# # event_month에 결측치가 있는 행 제거\n",
    "# df = df[~df['event_month'].isnull()]"
   ]
  },
  {
   "cell_type": "code",
   "execution_count": 11,
   "id": "fee92293-82d9-450a-a9b1-5b6aca5028af",
   "metadata": {},
   "outputs": [],
   "source": [
    "# 용량 감소를 위한 event_time drop"
   ]
  },
  {
   "cell_type": "code",
   "execution_count": 10,
   "id": "a5557b67-5bb0-4749-88ff-650a94b61398",
   "metadata": {},
   "outputs": [],
   "source": [
    "df = df.drop(columns=['event_time'])"
   ]
  },
  {
   "cell_type": "markdown",
   "id": "2bd61bd3-dad1-465a-8294-02a21d99ebce",
   "metadata": {},
   "source": [
    "- event_type"
   ]
  },
  {
   "cell_type": "code",
   "execution_count": 14,
   "id": "a21f76a6-516c-43cc-a581-028426f5bf67",
   "metadata": {},
   "outputs": [
    {
     "data": {
      "text/plain": [
       "event_type\n",
       "view                9657788\n",
       "cart                5764557\n",
       "remove_from_cart    3978885\n",
       "purchase            1286881\n",
       "Name: count, dtype: int64"
      ]
     },
     "execution_count": 14,
     "metadata": {},
     "output_type": "execute_result"
    }
   ],
   "source": [
    "df['event_type'].value_counts()"
   ]
  },
  {
   "cell_type": "code",
   "execution_count": 15,
   "id": "f70d0e07-4696-4a0d-a410-4b408198011b",
   "metadata": {},
   "outputs": [
    {
     "name": "stderr",
     "output_type": "stream",
     "text": [
      "C:\\Users\\Public\\Documents\\ESTsoft\\CreatorTemp\\ipykernel_6684\\1264040796.py:6: FutureWarning: \n",
      "\n",
      "Passing `palette` without assigning `hue` is deprecated and will be removed in v0.14.0. Assign the `x` variable to `hue` and set `legend=False` for the same effect.\n",
      "\n",
      "  ax = sns.barplot(x=event_type_counts.index, y=event_type_counts.values, palette='pastel')\n"
     ]
    },
    {
     "data": {
      "image/png": "[encoded data removed]",
      "text/plain": [
       "<Figure size 1200x600 with 1 Axes>"
      ]
     },
     "metadata": {},
     "output_type": "display_data"
    }
   ],
   "source": [
    "# event_type 개수 및 백분율 계산\n",
    "event_type_counts = df['event_type'].value_counts()\n",
    "event_type_percent = event_type_counts / event_type_counts.sum() * 100\n",
    "\n",
    "# 시각화 (Seaborn 막대그래프)\n",
    "ax = sns.barplot(x=event_type_counts.index, y=event_type_counts.values, palette='pastel')\n",
    "plt.title('Event Type 분포')\n",
    "plt.xlabel('이벤트 타입')\n",
    "plt.ylabel('건수')\n",
    "\n",
    "# 각 막대 위에 백분율 라벨 추가\n",
    "for i, (count, percent) in enumerate(zip(event_type_counts.values, event_type_percent.values)):\n",
    "    ax.text(i, count + max(event_type_counts.values)*0.01, f'{percent:.2f}%', \n",
    "            ha='center', va='bottom', fontsize=12)\n",
    "\n",
    "plt.grid(axis='y', linestyle='--', alpha=0.5)\n",
    "plt.tight_layout()\n",
    "plt.show()"
   ]
  },
  {
   "cell_type": "markdown",
   "id": "353826df-01e2-47d4-ab15-0dd3953ea04d",
   "metadata": {},
   "source": [
    "- event_type은 view, cart, remove_from_cart, purchase 4가지로 이루어져 있다.\n",
    "- view : 46.68% / cart : 27.86% / remove_from_cart : 19.23% / purchase : 6.22%\n",
    "- view > cart > remove_from_cart > purchase 순으로 많다.\n",
    "- 장바구니에서 제거하는 행동인 remove_from_cart도 20%에 가까운 꽤 큰 비율을 보인다."
   ]
  },
  {
   "cell_type": "code",
   "execution_count": 18,
   "id": "e34518af-88e9-46e8-910d-99d4853fd94b",
   "metadata": {},
   "outputs": [
    {
     "data": {
      "text/html": [
       "<div>\n",
       "<style scoped>\n",
       "    .dataframe tbody tr th:only-of-type {\n",
       "        vertical-align: middle;\n",
       "    }\n",
       "\n",
       "    .dataframe tbody tr th {\n",
       "        vertical-align: top;\n",
       "    }\n",
       "\n",
       "    .dataframe thead th {\n",
       "        text-align: right;\n",
       "    }\n",
       "</style>\n",
       "<table border=\"1\" class=\"dataframe\">\n",
       "  <thead>\n",
       "    <tr style=\"text-align: right;\">\n",
       "      <th></th>\n",
       "      <th>count</th>\n",
       "      <th>mean</th>\n",
       "      <th>std</th>\n",
       "      <th>min</th>\n",
       "      <th>25%</th>\n",
       "      <th>50%</th>\n",
       "      <th>75%</th>\n",
       "      <th>max</th>\n",
       "    </tr>\n",
       "    <tr>\n",
       "      <th>event_type</th>\n",
       "      <th></th>\n",
       "      <th></th>\n",
       "      <th></th>\n",
       "      <th></th>\n",
       "      <th></th>\n",
       "      <th></th>\n",
       "      <th></th>\n",
       "      <th></th>\n",
       "    </tr>\n",
       "  </thead>\n",
       "  <tbody>\n",
       "    <tr>\n",
       "      <th>view</th>\n",
       "      <td>9657788.0</td>\n",
       "      <td>12.377464</td>\n",
       "      <td>25.634263</td>\n",
       "      <td>0.0</td>\n",
       "      <td>2.81</td>\n",
       "      <td>5.08</td>\n",
       "      <td>10.00</td>\n",
       "      <td>327.78</td>\n",
       "    </tr>\n",
       "    <tr>\n",
       "      <th>cart</th>\n",
       "      <td>5764557.0</td>\n",
       "      <td>5.180597</td>\n",
       "      <td>10.524148</td>\n",
       "      <td>0.0</td>\n",
       "      <td>1.59</td>\n",
       "      <td>3.02</td>\n",
       "      <td>5.54</td>\n",
       "      <td>327.78</td>\n",
       "    </tr>\n",
       "    <tr>\n",
       "      <th>remove_from_cart</th>\n",
       "      <td>3978885.0</td>\n",
       "      <td>5.232959</td>\n",
       "      <td>10.237500</td>\n",
       "      <td>0.0</td>\n",
       "      <td>1.75</td>\n",
       "      <td>3.33</td>\n",
       "      <td>5.54</td>\n",
       "      <td>327.78</td>\n",
       "    </tr>\n",
       "    <tr>\n",
       "      <th>purchase</th>\n",
       "      <td>1286881.0</td>\n",
       "      <td>4.935833</td>\n",
       "      <td>8.916219</td>\n",
       "      <td>0.0</td>\n",
       "      <td>1.59</td>\n",
       "      <td>3.00</td>\n",
       "      <td>5.40</td>\n",
       "      <td>327.78</td>\n",
       "    </tr>\n",
       "  </tbody>\n",
       "</table>\n",
       "</div>"
      ],
      "text/plain": [
       "                      count       mean        std  min   25%   50%    75%  \\\n",
       "event_type                                                                  \n",
       "view              9657788.0  12.377464  25.634263  0.0  2.81  5.08  10.00   \n",
       "cart              5764557.0   5.180597  10.524148  0.0  1.59  3.02   5.54   \n",
       "remove_from_cart  3978885.0   5.232959  10.237500  0.0  1.75  3.33   5.54   \n",
       "purchase          1286881.0   4.935833   8.916219  0.0  1.59  3.00   5.40   \n",
       "\n",
       "                     max  \n",
       "event_type                \n",
       "view              327.78  \n",
       "cart              327.78  \n",
       "remove_from_cart  327.78  \n",
       "purchase          327.78  "
      ]
     },
     "execution_count": 18,
     "metadata": {},
     "output_type": "execute_result"
    }
   ],
   "source": [
    "event_order = ['view', 'cart', 'remove_from_cart', 'purchase']\n",
    "\n",
    "# describe 결과 생성\n",
    "event_price_stats = df.groupby('event_type')['price'].describe()\n",
    "\n",
    "# 인덱스를 원하는 순서로 재정렬\n",
    "event_price_stats = event_price_stats.reindex(event_order)\n",
    "\n",
    "# 출력\n",
    "event_price_stats"
   ]
  },
  {
   "cell_type": "markdown",
   "id": "99addbbb-6d59-4d99-a58d-55fedd753e5d",
   "metadata": {},
   "source": [
    "- view는 가격의 평균이 높지만, cart부터는 급격하게 낮아지는 것을 볼 수 있다.\n",
    "    - 고가 제품은 구경은 하지만, 담지는 않는다.\n",
    "    - 편차가 꽤 큰 것으로 보아, 고가 제품도 많이 조회\n",
    "- cart → purchase에서 평균 가격이 약간 감소한다.\n",
    "    - 장바구니에 담은 물건 중에서 비교적 비싼 제품을 제외하고, 좀 더 저렴한 제품을 구매하는 경향\n",
    "- cart, remove_from_cart, purchase의 사분위값이 비슷함\n",
    "  - 고객의 대다수가 담고, 고민하다가, 구매하는 제품의 가격대는 3.0 안팎, 1.6 ~ 5.5 정도"
   ]
  },
  {
   "cell_type": "code",
   "execution_count": 21,
   "id": "6eed615f-36fd-4e33-83d7-ac4956d4c91a",
   "metadata": {},
   "outputs": [
    {
     "data": {
      "text/plain": [
       "0.00      0.00\n",
       "0.25      2.06\n",
       "0.50      4.05\n",
       "0.75      7.06\n",
       "1.00    327.78\n",
       "Name: price, dtype: float64"
      ]
     },
     "execution_count": 21,
     "metadata": {},
     "output_type": "execute_result"
    }
   ],
   "source": [
    "df['price'].quantile([0.0, 0.25, 0.5, 0.75, 1.0])"
   ]
  },
  {
   "cell_type": "markdown",
   "id": "6e950048-1928-4d0f-b402-502695ebdc78",
   "metadata": {},
   "source": [
    "---"
   ]
  },
  {
   "cell_type": "markdown",
   "id": "ee3364d7-6645-46fa-afc3-d0606a529ba4",
   "metadata": {},
   "source": [
    "user_session에서는 user_session별 가격이 0인 값이 많은 것들은 제거, \n",
    "price 관련은 무시\n",
    "product 분석도 무시\n",
    "\n",
    "어느 전까지는 그냥 자르고\n",
    "애매한 건 시간 확인해서 시간 1초만이면 제거"
   ]
  },
  {
   "cell_type": "code",
   "execution_count": null,
   "id": "c6ded5ef-a2df-413c-8234-571dc151e2c0",
   "metadata": {},
   "outputs": [],
   "source": []
  }
 ],
 "metadata": {
  "kernelspec": {
   "display_name": "Python 3 (Fixed)",
   "language": "python",
   "name": "python3"
  },
  "language_info": {
   "codemirror_mode": {
    "name": "ipython",
    "version": 3
   },
   "file_extension": ".py",
   "mimetype": "text/x-python",
   "name": "python",
   "nbconvert_exporter": "python",
   "pygments_lexer": "ipython3",
   "version": "3.13.5"
  }
 },
 "nbformat": 4,
 "nbformat_minor": 5
}
