{
 "cells": [
  {
   "cell_type": "code",
   "execution_count": 7,
   "id": "0690b1c5-bc01-47a4-83ba-f564e57f9b63",
   "metadata": {},
   "outputs": [],
   "source": [
    "import numpy as np\n",
    "import pandas as pd\n",
    "import matplotlib.pyplot as plt\n",
    "import seaborn as sns\n",
    "import gc\n",
    "\n",
    "# 그래프 기본 테마 설정\n",
    "# https://coldbrown.co.kr/2023/07/%ED%8C%8C%EC%9D%B4%EC%8D%AC-%EC%8B%A4%EC%A0%84%ED%8E%B8-08-seaborn-sns-set%EC%9D%84-%ED%86%B5%ED%95%B4-%EC%8A%A4%ED%83%80%EC%9D%BC-%EC%84%A4%EC%A0%95%ED%95%98%EA%B8%B0/\n",
    "sns.set()\n",
    "\n",
    "# 그래프 기본 설정\n",
    "plt.rcParams['font.family'] = 'Malgun Gothic'\n",
    "# plt.rcParams['font.family'] = 'AppleGothic'\n",
    "plt.rcParams['figure.figsize'] = 12, 6\n",
    "plt.rcParams['font.size'] = 14\n",
    "plt.rcParams['axes.unicode_minus'] = False\n",
    "\n",
    "\n",
    "# 복잡한 통계 처리를 위한 라이브러리\n",
    "from scipy import stats"
   ]
  },
  {
   "cell_type": "code",
   "execution_count": 8,
   "id": "387d3760-0079-4a29-adf4-19ca7cabbc34",
   "metadata": {},
   "outputs": [],
   "source": [
    "df = pd.read_csv('data/merged_data_brand_dropna.csv')"
   ]
  },
  {
   "cell_type": "code",
   "execution_count": 9,
   "id": "ae2ed10b-b2db-4263-a36e-7c6eb290003e",
   "metadata": {},
   "outputs": [],
   "source": [
    "# datetime 컬럼 변환\n",
    "df['event_time_moscow'] = pd.to_datetime(df['event_time_moscow'])"
   ]
  },
  {
   "cell_type": "markdown",
   "id": "15b60c07-f229-4c00-b157-26ff3d00d8f8",
   "metadata": {},
   "source": [
    "### 조회 비율 높은 제품"
   ]
  },
  {
   "cell_type": "code",
   "execution_count": 15,
   "id": "6892aafb-a43d-4d37-be68-262e4ac60f11",
   "metadata": {},
   "outputs": [],
   "source": [
    "import pandas as pd\n",
    "\n",
    "# 1. 전체 유저 수\n",
    "total_users = df['user_id'].nunique()\n",
    "\n",
    "# 2. 제품별 조회 유저 수\n",
    "product_view_users = df[df['event_type'] == 'view'].groupby('product_id')['user_id'].nunique().reset_index()\n",
    "product_view_users.columns = ['product_id', 'view_user_count']\n",
    "\n",
    "# 3. 유저 수 대비 조회 비율 계산\n",
    "product_view_users['view_ratio'] = product_view_users['view_user_count'] / total_users * 100  # 퍼센트로 보기 좋게\n",
    "\n",
    "# 4. 상위 제품 정렬\n",
    "top_products = product_view_users.sort_values(by='view_ratio', ascending=False)"
   ]
  },
  {
   "cell_type": "code",
   "execution_count": 18,
   "id": "165cebbf-5f40-4f9e-b7ad-c319468efe34",
   "metadata": {},
   "outputs": [
    {
     "name": "stdout",
     "output_type": "stream",
     "text": [
      "       product_id  view_user_count  view_ratio\n",
      "12681     5809910            53367    4.433893\n",
      "12683     5809912            17780    1.477217\n",
      "7922      5751383            15937    1.324094\n",
      "24023     5877454            15716    1.305733\n",
      "24025     5877456            15143    1.258127\n",
      "7961      5751422            14787    1.228549\n",
      "2938      5649236            13615    1.131176\n",
      "18733     5849033            13326    1.107165\n",
      "20256     5856186            13209    1.097444\n",
      "12682     5809911            12325    1.023999\n",
      "12348     5808664            10655    0.885250\n",
      "14244     5816170            10307    0.856337\n",
      "8679      5769877            10105    0.839554\n",
      "18254     5846437             9536    0.792280\n",
      "3687      5677043             8883    0.738027\n",
      "18964     5850281             8549    0.710277\n",
      "26235     5896420             8467    0.703464\n",
      "5550      5700037             8196    0.680949\n",
      "1952      5560754             8169    0.678705\n",
      "10214     5785144             6945    0.577012\n"
     ]
    }
   ],
   "source": [
    "# 결과 확인\n",
    "print(top_products.head(20))"
   ]
  },
  {
   "cell_type": "code",
   "execution_count": 20,
   "id": "ec36d0e1-6f83-4b14-b38e-5a39e3365307",
   "metadata": {},
   "outputs": [],
   "source": [
    "# CSV로 저장\n",
    "top_products.head(10).to_csv('data/06_top_10_products_by_view_ratio.csv', index=False)\n",
    "top_products.head(20).to_csv('data/06_top_20_products_by_view_ratio.csv', index=False)"
   ]
  },
  {
   "cell_type": "code",
   "execution_count": 19,
   "id": "b4e15df5-e669-4b54-8284-a5d7b86c0fb1",
   "metadata": {},
   "outputs": [
    {
     "name": "stderr",
     "output_type": "stream",
     "text": [
      "C:\\Users\\Public\\Documents\\ESTsoft\\CreatorTemp\\ipykernel_22204\\383060568.py:5: UserWarning: Converting to PeriodArray/Index representation will drop timezone information.\n",
      "  df['event_month'] = df['event_time'].dt.to_period('M').astype(str)  # 'YYYY-MM' 형식\n"
     ]
    },
    {
     "name": "stdout",
     "output_type": "stream",
     "text": [
      "   product_id  view_user_count  view_ratio event_month\n",
      "0     5809910             5147    1.805800     2019-10\n",
      "1     5877454             3890    1.364788     2019-10\n",
      "2     5751383             3383    1.186909     2019-10\n",
      "3     5877456             3348    1.174630     2019-10\n",
      "4     5751422             3097    1.086568     2019-10\n"
     ]
    }
   ],
   "source": [
    "import pandas as pd\n",
    "\n",
    "# 1. event_time에서 월 정보 추출\n",
    "df['event_time'] = pd.to_datetime(df['event_time_moscow'], errors='coerce')\n",
    "df['event_month'] = df['event_time'].dt.to_period('M').astype(str)  # 'YYYY-MM' 형식\n",
    "\n",
    "# 2. 결과 저장용 리스트\n",
    "monthly_top_products = []\n",
    "\n",
    "# 3. 월별 반복\n",
    "for month in sorted(df['event_month'].dropna().unique()):\n",
    "    month_df = df[df['event_month'] == month]\n",
    "    \n",
    "    # 월별 전체 유저 수\n",
    "    total_users = month_df['user_id'].nunique()\n",
    "    \n",
    "    # 제품별 조회 유저 수\n",
    "    product_view_users = (\n",
    "        month_df[month_df['event_type'] == 'view']\n",
    "        .groupby('product_id')['user_id']\n",
    "        .nunique()\n",
    "        .reset_index()\n",
    "    )\n",
    "    product_view_users.columns = ['product_id', 'view_user_count']\n",
    "    \n",
    "    # 유저 수 대비 조회 비율 계산\n",
    "    product_view_users['view_ratio'] = product_view_users['view_user_count'] / total_users * 100\n",
    "    \n",
    "    # 월 정보 추가\n",
    "    product_view_users['event_month'] = month\n",
    "    \n",
    "    # 상위 10개 제품만 추출\n",
    "    top_10 = product_view_users.sort_values(by='view_ratio', ascending=False).head(10)\n",
    "    \n",
    "    # 누적\n",
    "    monthly_top_products.append(top_10)\n",
    "\n",
    "# 4. 하나의 데이터프레임으로 병합\n",
    "top_10_by_month_df = pd.concat(monthly_top_products, ignore_index=True)\n",
    "\n",
    "# 5. 확인 및 저장\n",
    "print(top_10_by_month_df.head())\n",
    "top_10_by_month_df.to_csv('data/06_monthly_top10_product_view_ratio.csv', index=False)"
   ]
  },
  {
   "cell_type": "markdown",
   "id": "4028f11d-3af6-4284-982e-b89a43ee60e3",
   "metadata": {},
   "source": [
    "- 브랜드별로, 월별 상위 10개"
   ]
  },
  {
   "cell_type": "code",
   "execution_count": 22,
   "id": "72b1a100-1a61-400e-96fc-fc4e257b3d10",
   "metadata": {},
   "outputs": [
    {
     "name": "stderr",
     "output_type": "stream",
     "text": [
      "C:\\Users\\Public\\Documents\\ESTsoft\\CreatorTemp\\ipykernel_22204\\2598065011.py:5: UserWarning: Converting to PeriodArray/Index representation will drop timezone information.\n",
      "  df['event_month'] = df['event_time'].dt.to_period('M').astype(str)\n"
     ]
    },
    {
     "name": "stdout",
     "output_type": "stream",
     "text": [
      "   product_id  view_user_count  view_ratio event_month   brand\n",
      "0     5856186             2817    0.988331     2019-10  runail\n",
      "1     5700037             1755    0.615733     2019-10  runail\n",
      "2     5785144             1304    0.457502     2019-10  runail\n",
      "3     5856191             1273    0.446626     2019-10  runail\n",
      "4     5749720             1157    0.405928     2019-10  runail\n"
     ]
    }
   ],
   "source": [
    "import pandas as pd\n",
    "\n",
    "# 1. event_time → event_month 추출\n",
    "df['event_time'] = pd.to_datetime(df['event_time_moscow'], errors='coerce')\n",
    "df['event_month'] = df['event_time'].dt.to_period('M').astype(str)\n",
    "\n",
    "# 2. 결과 저장 리스트\n",
    "monthly_brand_top_products = []\n",
    "\n",
    "# 3. 월별 반복\n",
    "for month in sorted(df['event_month'].dropna().unique()):\n",
    "    month_df = df[df['event_month'] == month]\n",
    "    \n",
    "    # 월별 전체 유저 수\n",
    "    total_users = month_df['user_id'].nunique()\n",
    "\n",
    "    # 브랜드별 반복\n",
    "    for brand in month_df['brand'].dropna().unique():\n",
    "        brand_df = month_df[(month_df['brand'] == brand) & (month_df['event_type'] == 'view')]\n",
    "\n",
    "        if brand_df.empty:\n",
    "            continue\n",
    "        \n",
    "        # 제품별 조회 유저 수\n",
    "        product_view_users = (\n",
    "            brand_df.groupby('product_id')['user_id']\n",
    "            .nunique()\n",
    "            .reset_index()\n",
    "        )\n",
    "        product_view_users.columns = ['product_id', 'view_user_count']\n",
    "\n",
    "        # 유저 수 대비 조회 비율\n",
    "        product_view_users['view_ratio'] = product_view_users['view_user_count'] / total_users * 100\n",
    "        \n",
    "        # 월/브랜드 정보 추가\n",
    "        product_view_users['event_month'] = month\n",
    "        product_view_users['brand'] = brand\n",
    "\n",
    "        # 상위 10개만 추출\n",
    "        top_10 = product_view_users.sort_values(by='view_ratio', ascending=False).head(10)\n",
    "        \n",
    "        # 누적\n",
    "        monthly_brand_top_products.append(top_10)\n",
    "\n",
    "# 4. 하나의 데이터프레임으로 병합\n",
    "top_10_brand_by_month_df = pd.concat(monthly_brand_top_products, ignore_index=True)\n",
    "\n",
    "# 5. 저장\n",
    "top_10_brand_by_month_df.to_csv('data/06_monthly_top10_products_by_brand.csv', index=False)\n",
    "\n",
    "# 6. 확인\n",
    "print(top_10_brand_by_month_df.head())"
   ]
  },
  {
   "cell_type": "code",
   "execution_count": 23,
   "id": "25233aef-a72d-4379-b86c-afdf4719eb52",
   "metadata": {},
   "outputs": [
    {
     "data": {
      "text/html": [
       "<div>\n",
       "<style scoped>\n",
       "    .dataframe tbody tr th:only-of-type {\n",
       "        vertical-align: middle;\n",
       "    }\n",
       "\n",
       "    .dataframe tbody tr th {\n",
       "        vertical-align: top;\n",
       "    }\n",
       "\n",
       "    .dataframe thead th {\n",
       "        text-align: right;\n",
       "    }\n",
       "</style>\n",
       "<table border=\"1\" class=\"dataframe\">\n",
       "  <thead>\n",
       "    <tr style=\"text-align: right;\">\n",
       "      <th></th>\n",
       "      <th>product_id</th>\n",
       "      <th>view_user_count</th>\n",
       "      <th>view_ratio</th>\n",
       "      <th>event_month</th>\n",
       "      <th>brand</th>\n",
       "    </tr>\n",
       "  </thead>\n",
       "  <tbody>\n",
       "    <tr>\n",
       "      <th>0</th>\n",
       "      <td>5856186</td>\n",
       "      <td>2817</td>\n",
       "      <td>0.988331</td>\n",
       "      <td>2019-10</td>\n",
       "      <td>runail</td>\n",
       "    </tr>\n",
       "    <tr>\n",
       "      <th>1</th>\n",
       "      <td>5700037</td>\n",
       "      <td>1755</td>\n",
       "      <td>0.615733</td>\n",
       "      <td>2019-10</td>\n",
       "      <td>runail</td>\n",
       "    </tr>\n",
       "    <tr>\n",
       "      <th>2</th>\n",
       "      <td>5785144</td>\n",
       "      <td>1304</td>\n",
       "      <td>0.457502</td>\n",
       "      <td>2019-10</td>\n",
       "      <td>runail</td>\n",
       "    </tr>\n",
       "    <tr>\n",
       "      <th>3</th>\n",
       "      <td>5856191</td>\n",
       "      <td>1273</td>\n",
       "      <td>0.446626</td>\n",
       "      <td>2019-10</td>\n",
       "      <td>runail</td>\n",
       "    </tr>\n",
       "    <tr>\n",
       "      <th>4</th>\n",
       "      <td>5749720</td>\n",
       "      <td>1157</td>\n",
       "      <td>0.405928</td>\n",
       "      <td>2019-10</td>\n",
       "      <td>runail</td>\n",
       "    </tr>\n",
       "    <tr>\n",
       "      <th>...</th>\n",
       "      <td>...</td>\n",
       "      <td>...</td>\n",
       "      <td>...</td>\n",
       "      <td>...</td>\n",
       "      <td>...</td>\n",
       "    </tr>\n",
       "    <tr>\n",
       "      <th>10474</th>\n",
       "      <td>5928238</td>\n",
       "      <td>22</td>\n",
       "      <td>0.007508</td>\n",
       "      <td>2020-02</td>\n",
       "      <td>resize</td>\n",
       "    </tr>\n",
       "    <tr>\n",
       "      <th>10475</th>\n",
       "      <td>5928235</td>\n",
       "      <td>15</td>\n",
       "      <td>0.005119</td>\n",
       "      <td>2020-02</td>\n",
       "      <td>resize</td>\n",
       "    </tr>\n",
       "    <tr>\n",
       "      <th>10476</th>\n",
       "      <td>5928233</td>\n",
       "      <td>12</td>\n",
       "      <td>0.004095</td>\n",
       "      <td>2020-02</td>\n",
       "      <td>resize</td>\n",
       "    </tr>\n",
       "    <tr>\n",
       "      <th>10477</th>\n",
       "      <td>5928237</td>\n",
       "      <td>6</td>\n",
       "      <td>0.002048</td>\n",
       "      <td>2020-02</td>\n",
       "      <td>resize</td>\n",
       "    </tr>\n",
       "    <tr>\n",
       "      <th>10478</th>\n",
       "      <td>5928234</td>\n",
       "      <td>2</td>\n",
       "      <td>0.000683</td>\n",
       "      <td>2020-02</td>\n",
       "      <td>resize</td>\n",
       "    </tr>\n",
       "  </tbody>\n",
       "</table>\n",
       "<p>10479 rows × 5 columns</p>\n",
       "</div>"
      ],
      "text/plain": [
       "       product_id  view_user_count  view_ratio event_month   brand\n",
       "0         5856186             2817    0.988331     2019-10  runail\n",
       "1         5700037             1755    0.615733     2019-10  runail\n",
       "2         5785144             1304    0.457502     2019-10  runail\n",
       "3         5856191             1273    0.446626     2019-10  runail\n",
       "4         5749720             1157    0.405928     2019-10  runail\n",
       "...           ...              ...         ...         ...     ...\n",
       "10474     5928238               22    0.007508     2020-02  resize\n",
       "10475     5928235               15    0.005119     2020-02  resize\n",
       "10476     5928233               12    0.004095     2020-02  resize\n",
       "10477     5928237                6    0.002048     2020-02  resize\n",
       "10478     5928234                2    0.000683     2020-02  resize\n",
       "\n",
       "[10479 rows x 5 columns]"
      ]
     },
     "execution_count": 23,
     "metadata": {},
     "output_type": "execute_result"
    }
   ],
   "source": [
    "top_10_brand_by_month_df"
   ]
  },
  {
   "cell_type": "markdown",
   "id": "2d6cc88f-2427-41cc-ab84-8f9ec2ee6a55",
   "metadata": {},
   "source": [
    "### 제품 종류 수"
   ]
  },
  {
   "cell_type": "code",
   "execution_count": 5,
   "id": "a831b484-fc40-404c-9c0e-bd96b86854e4",
   "metadata": {},
   "outputs": [
    {
     "name": "stderr",
     "output_type": "stream",
     "text": [
      "C:\\Users\\Public\\Documents\\ESTsoft\\CreatorTemp\\ipykernel_22204\\1988968411.py:4: UserWarning: Converting to PeriodArray/Index representation will drop timezone information.\n",
      "  df['event_month'] = df['event_time_moscow'].dt.to_period('M').astype(str)\n"
     ]
    },
    {
     "name": "stdout",
     "output_type": "stream",
     "text": [
      "  event_month  unique_product_count\n",
      "0          전체                 31083\n",
      "1     2019-10                 23973\n",
      "2     2019-11                 24300\n",
      "3     2019-12                 25675\n",
      "4     2020-01                 25752\n",
      "5     2020-02                 27254\n"
     ]
    }
   ],
   "source": [
    "import pandas as pd\n",
    "\n",
    "# event_time을 datetime으로 변환 후 월 추출\n",
    "df['event_month'] = df['event_time_moscow'].dt.to_period('M').astype(str)\n",
    "\n",
    "# 1. 전체 제품 종류 수\n",
    "total_unique_products = df['product_id'].nunique()\n",
    "\n",
    "# 2. 월별 제품 종류 수\n",
    "monthly_unique_products = (\n",
    "    df.groupby('event_month')['product_id']\n",
    "    .nunique()\n",
    "    .reset_index()\n",
    "    .rename(columns={'product_id': 'unique_product_count'})\n",
    ")\n",
    "\n",
    "# 3. 전체 수 추가 (선택사항)\n",
    "monthly_unique_products.loc[-1] = ['전체', total_unique_products]\n",
    "monthly_unique_products = monthly_unique_products.sort_index().reset_index(drop=True)\n",
    "\n",
    "# 결과 출력\n",
    "print(monthly_unique_products)\n"
   ]
  },
  {
   "cell_type": "code",
   "execution_count": 6,
   "id": "ba9a7d48-a22d-42b4-8875-4e7abfd52440",
   "metadata": {},
   "outputs": [],
   "source": [
    "# CSV 저장\n",
    "monthly_unique_products.to_csv('data/12_monthly_unique_product_count.csv', index=False)"
   ]
  },
  {
   "cell_type": "code",
   "execution_count": 25,
   "id": "0de7b791-91e2-4746-bbae-fcb51b62bc4b",
   "metadata": {},
   "outputs": [
    {
     "name": "stderr",
     "output_type": "stream",
     "text": [
      "C:\\Users\\Public\\Documents\\ESTsoft\\CreatorTemp\\ipykernel_22204\\3489210969.py:5: UserWarning: Converting to PeriodArray/Index representation will drop timezone information.\n",
      "  df['event_month'] = df['event_time'].dt.to_period('M').astype(str)\n"
     ]
    },
    {
     "name": "stdout",
     "output_type": "stream",
     "text": [
      "   event_month          brand  unique_product_count\n",
      "0      2019-10       airnails                   218\n",
      "1      2019-10          almea                    32\n",
      "2      2019-10         andrea                     2\n",
      "3      2019-10         ardell                    54\n",
      "4      2019-10     art-visage                    61\n",
      "5      2019-10          artex                    16\n",
      "6      2019-10           aura                    10\n",
      "7      2019-10      australis                    23\n",
      "8      2019-10       balbcare                     2\n",
      "9      2019-10         barbie                     3\n",
      "10     2019-10        batiste                    26\n",
      "11     2019-10        beautix                   321\n",
      "12     2019-10    beauty-free                   137\n",
      "13     2019-10  beautyblender                    17\n",
      "14     2019-10     beauugreen                     6\n",
      "15     2019-10         benovy                     6\n",
      "16     2019-10        bergamo                    26\n",
      "17     2019-10      bespecial                    18\n",
      "18     2019-10        binacil                     6\n",
      "19     2019-10        bioaqua                   107\n"
     ]
    }
   ],
   "source": [
    "import pandas as pd\n",
    "\n",
    "# event_time을 datetime으로 변환 후 월 추출\n",
    "df['event_time'] = pd.to_datetime(df['event_time_moscow'], errors='coerce')\n",
    "df['event_month'] = df['event_time'].dt.to_period('M').astype(str)\n",
    "\n",
    "# 1. 전체 브랜드별 제품 종류 수\n",
    "total_unique_by_brand = (\n",
    "    df.groupby('brand')['product_id']\n",
    "    .nunique()\n",
    "    .reset_index()\n",
    "    .rename(columns={'product_id': 'total_unique_products'})\n",
    ")\n",
    "\n",
    "# 2. 월별 브랜드별 제품 종류 수\n",
    "monthly_unique_by_brand = (\n",
    "    df.groupby(['event_month', 'brand'])['product_id']\n",
    "    .nunique()\n",
    "    .reset_index()\n",
    "    .rename(columns={'product_id': 'unique_product_count'})\n",
    ")\n",
    "\n",
    "# 3. 전체 행 추가 (선택사항) — 월 대신 '전체'로 추가\n",
    "total_unique_by_brand['event_month'] = '전체'\n",
    "total_combined = pd.concat([monthly_unique_by_brand, total_unique_by_brand[['event_month', 'brand', 'total_unique_products']].rename(columns={'total_unique_products': 'unique_product_count'})])\n",
    "\n",
    "# 정렬 (선택사항)\n",
    "total_combined = total_combined.sort_values(['event_month', 'brand']).reset_index(drop=True)\n",
    "\n",
    "# 결과 출력\n",
    "print(total_combined.head(20))  # 일부만 출력\n",
    "\n",
    "# CSV로 저장 (선택사항)\n",
    "total_combined.to_csv('data/12_monthly_unique_products_by_brand.csv', index=False)\n"
   ]
  },
  {
   "cell_type": "code",
   "execution_count": null,
   "id": "c48dbb19-c006-4545-b0e5-6b9c23e30d05",
   "metadata": {},
   "outputs": [],
   "source": []
  }
 ],
 "metadata": {
  "kernelspec": {
   "display_name": "Python 3 (Fixed)",
   "language": "python",
   "name": "python3"
  },
  "language_info": {
   "codemirror_mode": {
    "name": "ipython",
    "version": 3
   },
   "file_extension": ".py",
   "mimetype": "text/x-python",
   "name": "python",
   "nbconvert_exporter": "python",
   "pygments_lexer": "ipython3",
   "version": "3.13.5"
  }
 },
 "nbformat": 4,
 "nbformat_minor": 5
}
