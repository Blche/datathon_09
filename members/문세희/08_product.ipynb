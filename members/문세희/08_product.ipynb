{
 "cells": [
  {
   "cell_type": "code",
   "execution_count": 1,
   "id": "0690b1c5-bc01-47a4-83ba-f564e57f9b63",
   "metadata": {},
   "outputs": [],
   "source": [
    "import numpy as np\n",
    "import pandas as pd\n",
    "import matplotlib.pyplot as plt\n",
    "import seaborn as sns\n",
    "import gc\n",
    "\n",
    "# 그래프 기본 테마 설정\n",
    "# https://coldbrown.co.kr/2023/07/%ED%8C%8C%EC%9D%B4%EC%8D%AC-%EC%8B%A4%EC%A0%84%ED%8E%B8-08-seaborn-sns-set%EC%9D%84-%ED%86%B5%ED%95%B4-%EC%8A%A4%ED%83%80%EC%9D%BC-%EC%84%A4%EC%A0%95%ED%95%98%EA%B8%B0/\n",
    "sns.set()\n",
    "\n",
    "# 그래프 기본 설정\n",
    "plt.rcParams['font.family'] = 'Malgun Gothic'\n",
    "# plt.rcParams['font.family'] = 'AppleGothic'\n",
    "plt.rcParams['figure.figsize'] = 12, 6\n",
    "plt.rcParams['font.size'] = 14\n",
    "plt.rcParams['axes.unicode_minus'] = False\n",
    "\n",
    "\n",
    "# 복잡한 통계 처리를 위한 라이브러리\n",
    "from scipy import stats"
   ]
  },
  {
   "cell_type": "code",
   "execution_count": 2,
   "id": "387d3760-0079-4a29-adf4-19ca7cabbc34",
   "metadata": {},
   "outputs": [],
   "source": [
    "df = pd.read_csv('data/merged_data_brand_dropna.csv')"
   ]
  },
  {
   "cell_type": "code",
   "execution_count": 3,
   "id": "ae2ed10b-b2db-4263-a36e-7c6eb290003e",
   "metadata": {},
   "outputs": [],
   "source": [
    "# datetime 컬럼 변환\n",
    "df['event_time_moscow'] = pd.to_datetime(df['event_time_moscow'])"
   ]
  },
  {
   "cell_type": "code",
   "execution_count": 4,
   "id": "c59a640f-82a2-495c-8598-6381a6991134",
   "metadata": {},
   "outputs": [
    {
     "name": "stdout",
     "output_type": "stream",
     "text": [
      "       product_id  time_diff_minutes\n",
      "19060     5886525           0.000000\n",
      "16812     5868351           0.516667\n",
      "7263      5800320           0.533333\n",
      "22578     5921619           0.550000\n",
      "9063      5812623           0.583333\n",
      "17924     5877707           0.616667\n",
      "15385     5859459           0.683333\n",
      "15706     5862230           0.700000\n",
      "1474      5652258           0.733333\n",
      "8740      5811697           0.816667\n"
     ]
    }
   ],
   "source": [
    "import pandas as pd\n",
    "\n",
    "# view와 purchase만 필터링\n",
    "df_filtered = df[df['event_type'].isin(['view', 'purchase'])].copy()\n",
    "\n",
    "# 시간 정렬\n",
    "df_filtered['event_time_moscow'] = pd.to_datetime(df_filtered['event_time_moscow'])\n",
    "df_filtered.sort_values(by=['user_id', 'product_id', 'event_time_moscow'], inplace=True)\n",
    "\n",
    "# 각 user_id + product_id 조합 내에서 view 후 purchase 시 차이 계산\n",
    "df_filtered['time_diff'] = df_filtered.groupby(['user_id', 'product_id'])['event_time_moscow'].diff()\n",
    "\n",
    "# purchase에서만 차이 계산 (view → purchase)\n",
    "df_purchase = df_filtered[df_filtered['event_type'] == 'purchase'].copy()\n",
    "\n",
    "# product_id별 평균 소요시간 계산 (초 단위 → 분으로 변환)\n",
    "product_avg_time = df_purchase.groupby('product_id')['time_diff'].mean().reset_index()\n",
    "product_avg_time['time_diff_minutes'] = product_avg_time['time_diff'].dt.total_seconds() / 60\n",
    "\n",
    "# 소요시간이 짧은 Top 10 제품 추출\n",
    "top10_fastest = product_avg_time.sort_values(by='time_diff_minutes').head(10)\n",
    "\n",
    "# 상품명 등 추가 정보 합치고 싶으면 아래 merge 예시 사용\n",
    "# top10_fastest = top10_fastest.merge(df[['product_id', 'category_id', 'brand']].drop_duplicates(), on='product_id', how='left')\n",
    "\n",
    "# 컬럼 정리\n",
    "top10_fastest = top10_fastest[['product_id', 'time_diff_minutes']]\n",
    "\n",
    "# CSV 저장\n",
    "top10_fastest.to_csv(\"product_top10_fastest_to_purchase.csv\", index=False)\n",
    "\n",
    "print(top10_fastest)\n"
   ]
  },
  {
   "cell_type": "markdown",
   "id": "8138fb6b-4aba-4d6c-9b1d-dcd70e3a9266",
   "metadata": {},
   "source": [
    "- 구매까지 평균 소요시간 안 구하는 걸로"
   ]
  },
  {
   "cell_type": "markdown",
   "id": "15b60c07-f229-4c00-b157-26ff3d00d8f8",
   "metadata": {},
   "source": [
    "### 조회 비율 높은 제품"
   ]
  },
  {
   "cell_type": "code",
   "execution_count": 15,
   "id": "6892aafb-a43d-4d37-be68-262e4ac60f11",
   "metadata": {},
   "outputs": [],
   "source": [
    "import pandas as pd\n",
    "\n",
    "# 1. 전체 유저 수\n",
    "total_users = df['user_id'].nunique()\n",
    "\n",
    "# 2. 제품별 조회 유저 수\n",
    "product_view_users = df[df['event_type'] == 'view'].groupby('product_id')['user_id'].nunique().reset_index()\n",
    "product_view_users.columns = ['product_id', 'view_user_count']\n",
    "\n",
    "# 3. 유저 수 대비 조회 비율 계산\n",
    "product_view_users['view_ratio'] = product_view_users['view_user_count'] / total_users * 100  # 퍼센트로 보기 좋게\n",
    "\n",
    "# 4. 상위 제품 정렬\n",
    "top_products = product_view_users.sort_values(by='view_ratio', ascending=False)"
   ]
  },
  {
   "cell_type": "code",
   "execution_count": 18,
   "id": "165cebbf-5f40-4f9e-b7ad-c319468efe34",
   "metadata": {},
   "outputs": [
    {
     "name": "stdout",
     "output_type": "stream",
     "text": [
      "       product_id  view_user_count  view_ratio\n",
      "12681     5809910            53367    4.433893\n",
      "12683     5809912            17780    1.477217\n",
      "7922      5751383            15937    1.324094\n",
      "24023     5877454            15716    1.305733\n",
      "24025     5877456            15143    1.258127\n",
      "7961      5751422            14787    1.228549\n",
      "2938      5649236            13615    1.131176\n",
      "18733     5849033            13326    1.107165\n",
      "20256     5856186            13209    1.097444\n",
      "12682     5809911            12325    1.023999\n",
      "12348     5808664            10655    0.885250\n",
      "14244     5816170            10307    0.856337\n",
      "8679      5769877            10105    0.839554\n",
      "18254     5846437             9536    0.792280\n",
      "3687      5677043             8883    0.738027\n",
      "18964     5850281             8549    0.710277\n",
      "26235     5896420             8467    0.703464\n",
      "5550      5700037             8196    0.680949\n",
      "1952      5560754             8169    0.678705\n",
      "10214     5785144             6945    0.577012\n"
     ]
    }
   ],
   "source": [
    "# 결과 확인\n",
    "print(top_products.head(20))"
   ]
  },
  {
   "cell_type": "code",
   "execution_count": 20,
   "id": "ec36d0e1-6f83-4b14-b38e-5a39e3365307",
   "metadata": {},
   "outputs": [],
   "source": [
    "# CSV로 저장\n",
    "top_products.head(10).to_csv('data/06_top_10_products_by_view_ratio.csv', index=False)\n",
    "top_products.head(20).to_csv('data/06_top_20_products_by_view_ratio.csv', index=False)"
   ]
  },
  {
   "cell_type": "code",
   "execution_count": null,
   "id": "a831b484-fc40-404c-9c0e-bd96b86854e4",
   "metadata": {},
   "outputs": [],
   "source": []
  }
 ],
 "metadata": {
  "kernelspec": {
   "display_name": "Python 3 (Fixed)",
   "language": "python",
   "name": "python3"
  },
  "language_info": {
   "codemirror_mode": {
    "name": "ipython",
    "version": 3
   },
   "file_extension": ".py",
   "mimetype": "text/x-python",
   "name": "python",
   "nbconvert_exporter": "python",
   "pygments_lexer": "ipython3",
   "version": "3.13.5"
  }
 },
 "nbformat": 4,
 "nbformat_minor": 5
}
