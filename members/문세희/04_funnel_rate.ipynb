{
 "cells": [
  {
   "cell_type": "code",
   "execution_count": 3,
   "id": "0690b1c5-bc01-47a4-83ba-f564e57f9b63",
   "metadata": {},
   "outputs": [],
   "source": [
    "import numpy as np\n",
    "import pandas as pd\n",
    "import matplotlib.pyplot as plt\n",
    "import seaborn as sns\n",
    "import gc\n",
    "\n",
    "# 그래프 기본 테마 설정\n",
    "# https://coldbrown.co.kr/2023/07/%ED%8C%8C%EC%9D%B4%EC%8D%AC-%EC%8B%A4%EC%A0%84%ED%8E%B8-08-seaborn-sns-set%EC%9D%84-%ED%86%B5%ED%95%B4-%EC%8A%A4%ED%83%80%EC%9D%BC-%EC%84%A4%EC%A0%95%ED%95%98%EA%B8%B0/\n",
    "sns.set()\n",
    "\n",
    "# 그래프 기본 설정\n",
    "plt.rcParams['font.family'] = 'Malgun Gothic'\n",
    "# plt.rcParams['font.family'] = 'AppleGothic'\n",
    "plt.rcParams['figure.figsize'] = 12, 6\n",
    "plt.rcParams['font.size'] = 14\n",
    "plt.rcParams['axes.unicode_minus'] = False\n",
    "\n",
    "\n",
    "# 복잡한 통계 처리를 위한 라이브러리\n",
    "from scipy import stats"
   ]
  },
  {
   "cell_type": "code",
   "execution_count": 4,
   "id": "387d3760-0079-4a29-adf4-19ca7cabbc34",
   "metadata": {},
   "outputs": [],
   "source": [
    "df = pd.read_csv('data/merged_data_brand_dropna.csv')"
   ]
  },
  {
   "cell_type": "code",
   "execution_count": 3,
   "id": "ae2ed10b-b2db-4263-a36e-7c6eb290003e",
   "metadata": {},
   "outputs": [],
   "source": [
    "# datetime 컬럼 변환\n",
    "df['event_time_moscow'] = pd.to_datetime(df['event_time_moscow'])"
   ]
  },
  {
   "cell_type": "markdown",
   "id": "2644a8b0-d7b8-441d-92c7-630a0e8003aa",
   "metadata": {},
   "source": [
    "### user_session 기준 (한 사용자 행동 흐름 분석)"
   ]
  },
  {
   "cell_type": "code",
   "execution_count": 9,
   "id": "c59a640f-82a2-495c-8598-6381a6991134",
   "metadata": {},
   "outputs": [
    {
     "name": "stdout",
     "output_type": "stream",
     "text": [
      "View → Cart 전환율: 19.02%\n",
      "Cart → Purchase 전환율: 14.19%\n",
      "View → Purchase 전환율: 3.20%\n",
      "Cart → Remove 이탈률: 37.75%\n",
      "Cart → 구매 전환 실패율: 85.81%\n"
     ]
    }
   ],
   "source": [
    "# 각 전환율과 이탈률\n",
    "# Set으로 바꾸기\n",
    "view_sessions = set(df[df['event_type'] == 'view']['user_session'])\n",
    "cart_sessions = set(df[df['event_type'] == 'cart']['user_session'])\n",
    "purchase_sessions = set(df[df['event_type'] == 'purchase']['user_session'])\n",
    "remove_sessions = set(df[df['event_type'] == 'remove_from_cart']['user_session'])\n",
    "\n",
    "# 전환율\n",
    "view_to_cart = len(view_sessions & cart_sessions) / len(view_sessions)\n",
    "cart_to_purchase = len(cart_sessions & purchase_sessions) / len(cart_sessions)\n",
    "view_to_purchase = len(view_sessions & purchase_sessions) / len(view_sessions)\n",
    "\n",
    "# 이탈률\n",
    "cart_abandonment_rate = len(cart_sessions & remove_sessions) / len(cart_sessions)\n",
    "only_cart_sessions = cart_sessions - purchase_sessions\n",
    "cart_to_purchase_drop_rate = len(only_cart_sessions) / len(cart_sessions)\n",
    "\n",
    "# 출력\n",
    "print(f\"View → Cart 전환율: {view_to_cart:.2%}\")\n",
    "print(f\"Cart → Purchase 전환율: {cart_to_purchase:.2%}\")\n",
    "print(f\"View → Purchase 전환율: {view_to_purchase:.2%}\")\n",
    "print(f\"Cart → Remove 이탈률: {cart_abandonment_rate:.2%}\")\n",
    "print(f\"Cart → 구매 전환 실패율: {cart_to_purchase_drop_rate:.2%}\")"
   ]
  },
  {
   "cell_type": "code",
   "execution_count": 20,
   "id": "66c2481b-ed1a-49db-a79d-b6b55acd9c60",
   "metadata": {},
   "outputs": [
    {
     "data": {
      "text/html": [
       "<div>\n",
       "<style scoped>\n",
       "    .dataframe tbody tr th:only-of-type {\n",
       "        vertical-align: middle;\n",
       "    }\n",
       "\n",
       "    .dataframe tbody tr th {\n",
       "        vertical-align: top;\n",
       "    }\n",
       "\n",
       "    .dataframe thead th {\n",
       "        text-align: right;\n",
       "    }\n",
       "</style>\n",
       "<table border=\"1\" class=\"dataframe\">\n",
       "  <thead>\n",
       "    <tr style=\"text-align: right;\">\n",
       "      <th></th>\n",
       "      <th>view_to_cart_rate (%)</th>\n",
       "      <th>cart_to_purchase_rate (%)</th>\n",
       "      <th>view_to_purchase_rate (%)</th>\n",
       "      <th>cart_to_remove_rate (%)</th>\n",
       "      <th>cart_to_fail_purchase_rate (%)</th>\n",
       "      <th>page_bounce_rate (%)</th>\n",
       "    </tr>\n",
       "  </thead>\n",
       "  <tbody>\n",
       "    <tr>\n",
       "      <th>0</th>\n",
       "      <td>19.02</td>\n",
       "      <td>14.19</td>\n",
       "      <td>3.2</td>\n",
       "      <td>37.75</td>\n",
       "      <td>85.81</td>\n",
       "      <td>80.62</td>\n",
       "    </tr>\n",
       "  </tbody>\n",
       "</table>\n",
       "</div>"
      ],
      "text/plain": [
       "   view_to_cart_rate (%)  cart_to_purchase_rate (%)  \\\n",
       "0                  19.02                      14.19   \n",
       "\n",
       "   view_to_purchase_rate (%)  cart_to_remove_rate (%)  \\\n",
       "0                        3.2                    37.75   \n",
       "\n",
       "   cart_to_fail_purchase_rate (%)  page_bounce_rate (%)  \n",
       "0                           85.81                 80.62  "
      ]
     },
     "execution_count": 20,
     "metadata": {},
     "output_type": "execute_result"
    }
   ],
   "source": [
    "import pandas as pd\n",
    "\n",
    "# 전환 및 이탈률 (유저 세션 기반)\n",
    "user_based_result = pd.DataFrame([{\n",
    "    'view_to_cart_rate (%)': round(view_to_cart * 100, 2),\n",
    "    'cart_to_purchase_rate (%)': round(cart_to_purchase * 100, 2),\n",
    "    'view_to_purchase_rate (%)': round(view_to_purchase * 100, 2),\n",
    "    'cart_to_remove_rate (%)': round(cart_abandonment_rate * 100, 2),\n",
    "    'cart_to_fail_purchase_rate (%)': round(cart_to_purchase_drop_rate * 100, 2),\n",
    "    'page_bounce_rate (%)': round(page_bounce_rate, 2)\n",
    "}])\n",
    "\n",
    "# 저장\n",
    "user_based_result.to_csv('data/01_user_based_conversion.csv', index=False)\n",
    "user_based_result"
   ]
  },
  {
   "cell_type": "code",
   "execution_count": 10,
   "id": "1d32f0a0-846a-4b7f-b738-bee828bfba2a",
   "metadata": {},
   "outputs": [
    {
     "name": "stdout",
     "output_type": "stream",
     "text": [
      "페이지 이탈률: 80.62%\n"
     ]
    }
   ],
   "source": [
    "# 페이지 이탈 세션: view는 했지만 cart도 purchase도 하지 않은 세션\n",
    "\n",
    "active_sessions = cart_sessions | purchase_sessions\n",
    "view_only_sessions = view_sessions - active_sessions\n",
    "\n",
    "# 페이지 이탈률\n",
    "page_bounce_rate = len(view_only_sessions) / len(view_sessions) * 100\n",
    "\n",
    "print(f\"페이지 이탈률: {page_bounce_rate:.2f}%\")"
   ]
  },
  {
   "cell_type": "markdown",
   "id": "07d18aa8-5293-4eea-ac46-8dc14cda43cc",
   "metadata": {},
   "source": [
    "### 전체 이벤트 순 기준"
   ]
  },
  {
   "cell_type": "code",
   "execution_count": 5,
   "id": "8cbe82fe-c81a-4f6a-84af-93cd8dc6ea63",
   "metadata": {},
   "outputs": [
    {
     "name": "stdout",
     "output_type": "stream",
     "text": [
      "🛒 장바구니 추가율: 57.56%\n",
      "💳 구매 전환율: 12.97%\n",
      "🚫 이탈률 (장바구니 → 제거): 68.38%\n"
     ]
    }
   ],
   "source": [
    "# 이벤트 수 계산\n",
    "view_count = len(df[df['event_type'] == 'view'])\n",
    "cart_count = len(df[df['event_type'] == 'cart'])\n",
    "purchase_count = len(df[df['event_type'] == 'purchase'])\n",
    "remove_count = len(df[df['event_type'] == 'remove_from_cart'])\n",
    "\n",
    "# 안전하게 0으로 나누는 함수\n",
    "def safe_divide(numerator, denominator):\n",
    "    return (numerator / denominator * 100) if denominator > 0 else float('nan')\n",
    "\n",
    "# 전환율 및 이탈률 계산\n",
    "add_to_cart_rate = safe_divide(cart_count, view_count)        # 장바구니 추가율\n",
    "purchase_conversion_rate = safe_divide(purchase_count, view_count)  # 구매 전환율\n",
    "cart_abandonment_rate = safe_divide(remove_count, cart_count)      # 이탈률 (Cart → Remove)\n",
    "\n",
    "# 결과 출력\n",
    "print(f\"🛒 장바구니 추가율: {add_to_cart_rate:.2f}%\")\n",
    "print(f\"💳 구매 전환율: {purchase_conversion_rate:.2f}%\")\n",
    "print(f\"🚫 이탈률 (장바구니 → 제거): {cart_abandonment_rate:.2f}%\")"
   ]
  },
  {
   "cell_type": "code",
   "execution_count": 12,
   "id": "08707b5c-dad2-4064-b294-837c8799aca8",
   "metadata": {},
   "outputs": [
    {
     "name": "stdout",
     "output_type": "stream",
     "text": [
      "📈 View → Cart 전환율: 57.56%\n",
      "💼 Cart → Purchase 전환율: 22.53%\n",
      "🛍️ View → Purchase 전환율: 12.97%\n",
      "🚫 Cart → Remove 이탈률: 68.38%\n",
      "❌ Cart → 구매 전환 실패율: 77.47%\n"
     ]
    }
   ],
   "source": [
    "# 전환율 및 이탈률 계산\n",
    "view_to_cart_rate = safe_divide(cart_count, view_count)          # View → Cart 전환율\n",
    "cart_to_purchase_rate = safe_divide(purchase_count, cart_count)  # Cart → Purchase 전환율\n",
    "view_to_purchase_rate = safe_divide(purchase_count, view_count)  # View → Purchase 전환율\n",
    "cart_to_remove_rate = safe_divide(remove_count, cart_count)      # Cart → Remove 이탈률\n",
    "cart_to_fail_purchase_rate = safe_divide(cart_count - purchase_count, cart_count)  # Cart → 구매 전환 실패율\n",
    "\n",
    "# 결과 출력\n",
    "print(f\"📈 View → Cart 전환율: {view_to_cart_rate:.2f}%\")\n",
    "print(f\"💼 Cart → Purchase 전환율: {cart_to_purchase_rate:.2f}%\")\n",
    "print(f\"🛍️ View → Purchase 전환율: {view_to_purchase_rate:.2f}%\")\n",
    "print(f\"🚫 Cart → Remove 이탈률: {cart_to_remove_rate:.2f}%\")\n",
    "print(f\"❌ Cart → 구매 전환 실패율: {cart_to_fail_purchase_rate:.2f}%\")"
   ]
  },
  {
   "cell_type": "code",
   "execution_count": 21,
   "id": "5442ce92-3248-4fb3-8e1e-70b8fd2bd785",
   "metadata": {},
   "outputs": [
    {
     "data": {
      "text/html": [
       "<div>\n",
       "<style scoped>\n",
       "    .dataframe tbody tr th:only-of-type {\n",
       "        vertical-align: middle;\n",
       "    }\n",
       "\n",
       "    .dataframe tbody tr th {\n",
       "        vertical-align: top;\n",
       "    }\n",
       "\n",
       "    .dataframe thead th {\n",
       "        text-align: right;\n",
       "    }\n",
       "</style>\n",
       "<table border=\"1\" class=\"dataframe\">\n",
       "  <thead>\n",
       "    <tr style=\"text-align: right;\">\n",
       "      <th></th>\n",
       "      <th>view_to_cart_rate (%)</th>\n",
       "      <th>cart_to_purchase_rate (%)</th>\n",
       "      <th>view_to_purchase_rate (%)</th>\n",
       "      <th>cart_to_remove_rate (%)</th>\n",
       "      <th>cart_to_fail_purchase_rate (%)</th>\n",
       "    </tr>\n",
       "  </thead>\n",
       "  <tbody>\n",
       "    <tr>\n",
       "      <th>0</th>\n",
       "      <td>57.56</td>\n",
       "      <td>22.53</td>\n",
       "      <td>12.97</td>\n",
       "      <td>68.38</td>\n",
       "      <td>77.47</td>\n",
       "    </tr>\n",
       "  </tbody>\n",
       "</table>\n",
       "</div>"
      ],
      "text/plain": [
       "   view_to_cart_rate (%)  cart_to_purchase_rate (%)  \\\n",
       "0                  57.56                      22.53   \n",
       "\n",
       "   view_to_purchase_rate (%)  cart_to_remove_rate (%)  \\\n",
       "0                      12.97                    68.38   \n",
       "\n",
       "   cart_to_fail_purchase_rate (%)  \n",
       "0                           77.47  "
      ]
     },
     "execution_count": 21,
     "metadata": {},
     "output_type": "execute_result"
    }
   ],
   "source": [
    "# 전환 및 이탈률 (이벤트 수 기반)\n",
    "event_based_result = pd.DataFrame([{\n",
    "    'view_to_cart_rate (%)': round(view_to_cart_rate, 2),\n",
    "    'cart_to_purchase_rate (%)': round(cart_to_purchase_rate, 2),\n",
    "    'view_to_purchase_rate (%)': round(view_to_purchase_rate, 2),\n",
    "    'cart_to_remove_rate (%)': round(cart_to_remove_rate, 2),\n",
    "    'cart_to_fail_purchase_rate (%)': round(cart_to_fail_purchase_rate, 2)\n",
    "}])\n",
    "\n",
    "# 저장\n",
    "event_based_result.to_csv('02_event_based_conversion.csv', index=False)\n",
    "event_based_result"
   ]
  },
  {
   "cell_type": "code",
   "execution_count": 23,
   "id": "a27726b7-36df-4e95-a747-8b4d659ea299",
   "metadata": {},
   "outputs": [
    {
     "name": "stdout",
     "output_type": "stream",
     "text": [
      "data/event_type_cart.csv 저장 완료\n",
      "data/event_type_view.csv 저장 완료\n",
      "data/event_type_remove_from_cart.csv 저장 완료\n",
      "data/event_type_purchase.csv 저장 완료\n"
     ]
    }
   ],
   "source": [
    "# event_type별 csv 생성\n",
    "event_types = df['event_type'].unique()\n",
    "\n",
    "for event in event_types:\n",
    "    df_event = df[df['event_type'] == event].copy()\n",
    "    filename = f\"data/event_type_{event}.csv\"\n",
    "    df_event.to_csv(filename, index=False)\n",
    "    print(f\"{filename} 저장 완료\")"
   ]
  },
  {
   "cell_type": "code",
   "execution_count": 13,
   "id": "aae2f1e2-937c-49cd-bf07-0b488a73ef18",
   "metadata": {},
   "outputs": [
    {
     "name": "stdout",
     "output_type": "stream",
     "text": [
      "✅ 전체 구매 완료 건수: 736,971건\n"
     ]
    }
   ],
   "source": [
    "purchase_count = len(df[df['event_type'] == 'purchase'])\n",
    "print(f\"✅ 전체 구매 완료 건수: {purchase_count:,}건\")"
   ]
  },
  {
   "cell_type": "code",
   "execution_count": 22,
   "id": "1eb69c0b-4759-4f20-833a-bde160b9b76b",
   "metadata": {},
   "outputs": [],
   "source": [
    "# 구매 완료 건수\n",
    "purchase_result = pd.DataFrame([{\n",
    "    'purchase_count': purchase_count\n",
    "}])\n",
    "\n",
    "# 저장\n",
    "purchase_result.to_csv('03_total_purchase_count.csv', index=False)\n",
    "purchase_result"
   ]
  },
  {
   "cell_type": "markdown",
   "id": "71728cc7-3e26-44c8-a681-8ab5053bffff",
   "metadata": {},
   "source": [
    "---"
   ]
  }
 ],
 "metadata": {
  "kernelspec": {
   "display_name": "Python 3 (Fixed)",
   "language": "python",
   "name": "python3"
  },
  "language_info": {
   "codemirror_mode": {
    "name": "ipython",
    "version": 3
   },
   "file_extension": ".py",
   "mimetype": "text/x-python",
   "name": "python",
   "nbconvert_exporter": "python",
   "pygments_lexer": "ipython3",
   "version": "3.13.5"
  }
 },
 "nbformat": 4,
 "nbformat_minor": 5
}
