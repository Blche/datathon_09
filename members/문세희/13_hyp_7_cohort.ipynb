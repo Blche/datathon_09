{
 "cells": [
  {
   "cell_type": "code",
   "execution_count": 1,
   "id": "df3c8dc3-6510-42f7-a290-0367a92937a7",
   "metadata": {},
   "outputs": [],
   "source": [
    "import numpy as np\n",
    "import pandas as pd\n",
    "import matplotlib.pyplot as plt\n",
    "import seaborn as sns\n",
    "import gc\n",
    "\n",
    "# 그래프 기본 테마 설정\n",
    "sns.set_style(\"white\")\n",
    "sns.set_context(\"notebook\")\n",
    "\n",
    "# 폰트 적용\n",
    "import platform\n",
    "from matplotlib import font_manager as fm\n",
    "font_path = \"font/NanumGothic.ttf\"\n",
    "\n",
    "font_prop = fm.FontProperties(fname=font_path)\n",
    "plt.rcParams['font.family'] = font_prop.get_name()\n",
    "\n",
    "# 그래프 기본 설정\n",
    "plt.rcParams['figure.figsize'] = 12, 6\n",
    "plt.rcParams['font.size'] = 14\n",
    "plt.rcParams['axes.unicode_minus'] = False\n",
    "plt.rcParams['axes.facecolor'] = 'white'      # 축 배경 흰색\n",
    "plt.rcParams['figure.facecolor'] = 'white'    # 전체 배경 흰색\n",
    "plt.rcParams['axes.grid'] = False             # 그리드 제거\n",
    "plt.rcParams['savefig.facecolor'] = 'white'   # 저장 이미지 배경도 흰색\n",
    "\n",
    "# 경고 무시\n",
    "import warnings\n",
    "warnings.filterwarnings('ignore')\n",
    "\n",
    "# 복잡한 통계 처리를 위한 라이브러리\n",
    "from scipy import stats"
   ]
  },
  {
   "cell_type": "code",
   "execution_count": 2,
   "id": "69366d21-e9b8-4635-9b14-da5b8b47a49f",
   "metadata": {},
   "outputs": [],
   "source": [
    "df = pd.read_csv('data/merged_data_brand_dropna.csv')"
   ]
  },
  {
   "cell_type": "code",
   "execution_count": 3,
   "id": "8be92512-ec1f-4e64-9676-e855a5fdf999",
   "metadata": {},
   "outputs": [
    {
     "ename": "ZeroDivisionError",
     "evalue": "division by zero",
     "output_type": "error",
     "traceback": [
      "\u001b[1;31m---------------------------------------------------------------------------\u001b[0m",
      "\u001b[1;31mZeroDivisionError\u001b[0m                         Traceback (most recent call last)",
      "Cell \u001b[1;32mIn[3], line 1\u001b[0m\n\u001b[1;32m----> 1\u001b[0m \u001b[38;5;241m10\u001b[39m\u001b[38;5;241m/\u001b[39m\u001b[38;5;241m0\u001b[39m\n",
      "\u001b[1;31mZeroDivisionError\u001b[0m: division by zero"
     ]
    }
   ],
   "source": [
    "10/0"
   ]
  },
  {
   "cell_type": "code",
   "execution_count": 8,
   "id": "a372dcb4-d456-4b2a-98ca-654193edf7c6",
   "metadata": {},
   "outputs": [],
   "source": [
    "# datetime 컬럼 변환\n",
    "df['event_time_moscow'] = pd.to_datetime(df['event_time_moscow'])"
   ]
  },
  {
   "cell_type": "markdown",
   "id": "1684428a-b4df-4560-bbdd-8d5b6bdd057d",
   "metadata": {},
   "source": [
    "## cart 행동 기반 코호트 분석"
   ]
  },
  {
   "cell_type": "markdown",
   "id": "db187610-3c81-4f37-bdc4-562f09807519",
   "metadata": {},
   "source": [
    "- **장바구니 행동 기반**\n",
    "    - 조건: **장바구니(cart)** 에 3회 이상 담은 사용자\n",
    "    - 코호트 기준: `user_id`가 장바구니 이벤트를 3회 이상 발생시킨 첫 시점\n",
    "    - 분석: 이후 n일 내 구매율 변화 추적"
   ]
  },
  {
   "cell_type": "code",
   "execution_count": null,
   "id": "2cae12a6-ea43-4564-ac59-3c0f0dd897f0",
   "metadata": {},
   "outputs": [],
   "source": [
    "import pandas as pd\n",
    "\n",
    "# 1. event_time 처리\n",
    "df['event_time'] = pd.to_datetime(df['event_time_moscow'], errors='coerce')\n",
    "df = df.sort_values(by=['user_id', 'event_time'])  # 시간 순 정렬"
   ]
  },
  {
   "cell_type": "code",
   "execution_count": null,
   "id": "0b76e2f8-8d11-43d8-9df2-2623546bf962",
   "metadata": {},
   "outputs": [],
   "source": [
    "# 2. cart 이벤트만 필터링\n",
    "cart_df = df[df['event_type'] == 'cart'].copy()\n",
    "\n",
    "# 3. 사용자별 cart 이벤트 누적 카운트\n",
    "cart_df['cart_cumcount'] = cart_df.groupby('user_id').cumcount() + 1\n",
    "\n",
    "# 4. 3번째 cart 이벤트만 추출\n",
    "cart_3rd_df = cart_df[cart_df['cart_cumcount'] == 3].copy()\n",
    "\n",
    "# 5. user_id별로 cart 3회차 시점 확인\n",
    "user_cart3_time = cart_3rd_df[['user_id', 'event_time']].rename(columns={'event_time': 'cohort_time'})"
   ]
  },
  {
   "cell_type": "code",
   "execution_count": null,
   "id": "0f44415f-a6b5-4cf4-81c3-cf194aaf23fe",
   "metadata": {},
   "outputs": [],
   "source": [
    "# 6. 전체 df에 cohort_time 병합\n",
    "df = df.merge(user_cart3_time, on='user_id', how='inner')  # 3회 이상 cart 한 유저만\n",
    "\n",
    "# 7. 기준일 이후 이벤트만 필터링\n",
    "df = df[df['event_time'] >= df['cohort_time']].copy()\n",
    "\n",
    "# 8. 기준 시점 대비 N일 경과 계산\n",
    "df['days_since_cart3'] = (df['event_time'] - df['cohort_time']).dt.days"
   ]
  },
  {
   "cell_type": "code",
   "execution_count": null,
   "id": "ff52e88a-6dee-4dcf-a15c-6fccbf682d32",
   "metadata": {},
   "outputs": [],
   "source": [
    "# 9. 중복 제거: 유저가 특정 일에 구매했는지 여부만 체크\n",
    "purchase_log = df[df['event_type'] == 'purchase'][['user_id', 'days_since_cart3']].drop_duplicates()\n",
    "\n",
    "# 10. 전체 유저 수 (코호트 기준 유저)\n",
    "total_users = user_cart3_time['user_id'].nunique()\n",
    "\n",
    "# 11. 일자별 구매 유저 수\n",
    "daily_purchases = (\n",
    "    purchase_log.groupby('days_since_cart3')['user_id'].nunique()\n",
    "    .reindex(range(0, 15), fill_value=0)  # 최대 15일까지 보고 싶다면\n",
    ")\n",
    "\n",
    "# 12. 구매율 계산\n",
    "purchase_rate = daily_purchases / total_users * 100\n",
    "purchase_rate.name = 'purchase_rate'"
   ]
  },
  {
   "cell_type": "code",
   "execution_count": null,
   "id": "82ae04a5-5866-45a6-bb29-8813f476075e",
   "metadata": {},
   "outputs": [],
   "source": [
    "import matplotlib.pyplot as plt\n",
    "\n",
    "# 13. 시각화\n",
    "plt.figure(figsize=(8, 4))\n",
    "purchase_rate.plot(kind='bar', color='skyblue')\n",
    "plt.title('장바구니 3회차 이후 N일차 구매율')\n",
    "plt.xlabel('N일차')\n",
    "plt.ylabel('구매율 (%)')\n",
    "plt.xticks(rotation=0)\n",
    "plt.grid(axis='y')\n",
    "plt.tight_layout()\n",
    "plt.show()"
   ]
  },
  {
   "cell_type": "code",
   "execution_count": null,
   "id": "aea1f3da-5e45-4251-9b75-7ff5de252cac",
   "metadata": {},
   "outputs": [],
   "source": [
    "# 새 시각화\n",
    "plt.figure()\n",
    "\n",
    "plt.plot(purchase_rate.index, purchase_rate.values, marker='o', linestyle='-',\n",
    "         color='#197bcf', label='장바구니 3회차 이후 구매율')\n",
    "\n",
    "# 축 및 레이블 설정\n",
    "plt.title('장바구니 3회차 이후 N일차 구매 전환율 (%)')\n",
    "plt.xlabel('경과일 (days)')\n",
    "plt.ylabel('구매 전환율 (%)')\n",
    "plt.xticks(range(0, 15))\n",
    "plt.ylim(0, purchase_rate.max() * 1.1)\n",
    "\n",
    "# 수치 라벨 추가\n",
    "for i, val in enumerate(purchase_rate.values):\n",
    "    plt.text(i, val + 0.5, f\"{val:.1f}%\", ha='center', va='bottom', fontsize=12)\n",
    "\n",
    "plt.tight_layout()\n",
    "plt.show()"
   ]
  },
  {
   "cell_type": "code",
   "execution_count": null,
   "id": "16694952-374f-4077-ae41-634efa19d39e",
   "metadata": {},
   "outputs": [],
   "source": [
    "# ✅ 3회 미만 사용자 데이터 생성\n",
    "# 전체 사용자 집합\n",
    "all_users = df['user_id'].unique()\n",
    "users_with_3rd_cart = user_cart3_time['user_id'].unique()\n",
    "users_below_3_carts = list(set(all_users) - set(users_with_3rd_cart))\n",
    "\n",
    "# 해당 유저만 필터링\n",
    "df_under3 = df[df['user_id'].isin(users_below_3_carts)].copy()\n",
    "\n",
    "# 기준일 없이 이벤트 발생일 기준으로 days_since_cart3 = 0으로 처리\n",
    "df_under3['event_time'] = pd.to_datetime(df_under3['event_time_moscow'], errors='coerce')\n",
    "df_under3['event_date'] = df_under3['event_time'].dt.floor('d')\n",
    "df_under3['days_since_cart3'] = (df_under3['event_date'] - df_under3['event_date'].min()).dt.days\n",
    "\n",
    "# purchase 이벤트만 추출\n",
    "purchase_log_under3 = df_under3[df_under3['event_type'] == 'purchase'][['user_id', 'days_since_cart3']].drop_duplicates()\n",
    "\n",
    "# 전체 사용자 수\n",
    "total_users_under3 = len(users_below_3_carts)\n",
    "\n",
    "# 일자별 구매자 수 집계\n",
    "daily_purchases_under3 = (\n",
    "    purchase_log_under3.groupby('days_since_cart3')['user_id'].nunique()\n",
    "    .reindex(range(0, 15), fill_value=0)\n",
    ")\n",
    "\n",
    "# 구매 전환율\n",
    "purchase_rate_under3 = daily_purchases_under3 / total_users_under3 * 100\n",
    "purchase_rate_under3.name = 'purchase_rate_under3'\n",
    "\n",
    "# ✅ 시각화\n",
    "plt.figure()\n",
    "\n",
    "# plt.plot(purchase_rate.index, purchase_rate.values, marker='o', linestyle='-', \n",
    "#          color='#197bcf', label='장바구니 3회 이상')\n",
    "\n",
    "plt.plot(purchase_rate_under3.index, purchase_rate_under3.values, marker='s', linestyle='--', \n",
    "         color='#62a5df', label='장바구니 3회 미만')\n",
    "\n",
    "# 레이블 및 설정\n",
    "plt.title('장바구니 3회차 여부에 따른 일별 구매 전환율 비교')\n",
    "plt.xlabel('경과일 (days)')\n",
    "plt.ylabel('구매 전환율 (%)')\n",
    "plt.xticks(range(0, 15))\n",
    "plt.ylim(0, max(purchase_rate.max(), purchase_rate_under3.max()) * 1.1)\n",
    "plt.legend()\n",
    "plt.tight_layout()\n",
    "plt.show()"
   ]
  },
  {
   "cell_type": "code",
   "execution_count": null,
   "id": "0b0010d5-15ca-406f-8fe3-350b2d886f9f",
   "metadata": {},
   "outputs": [],
   "source": [
    "# 14. CSV 저장 (선택)\n",
    "purchase_rate.reset_index().rename(columns={'index': 'days_since_cart3'}).to_csv('cohort_cart3_purchase_rate.csv', index=False)"
   ]
  },
  {
   "cell_type": "markdown",
   "id": "aea2ce98-bd2a-4853-bff9-64bf4d542cf1",
   "metadata": {},
   "source": [
    "- 유의미하게 높거나, 특출나지 않음"
   ]
  },
  {
   "cell_type": "markdown",
   "id": "909069a4-b318-4c52-bdc2-59956f162145",
   "metadata": {},
   "source": [
    "- 장바구니 3회까지 걸리는 시간을 기준으로 그룹 분할\n",
    "- 1일 이내, 3일 이내, 7일 이내, 7일 초과"
   ]
  },
  {
   "cell_type": "code",
   "execution_count": null,
   "id": "cacba9e5-e2d0-4243-bf38-4b6cb9255548",
   "metadata": {},
   "outputs": [],
   "source": [
    "import pandas as pd\n",
    "\n",
    "# cart 이벤트만 필터링\n",
    "cart_df = df[df['event_type'] == 'cart'].copy()\n",
    "cart_df['event_time'] = pd.to_datetime(cart_df['event_time_moscow'], errors='coerce')\n",
    "cart_df = cart_df.sort_values(by=['user_id', 'event_time'])\n",
    "\n",
    "# 각 user_id 내에서 cart 이벤트 순서 부여\n",
    "cart_df['cart_order'] = cart_df.groupby('user_id').cumcount() + 1\n",
    "\n",
    "# 1회차와 3회차 추출\n",
    "cart1 = cart_df[cart_df['cart_order'] == 1][['user_id', 'event_time']].rename(columns={'event_time': 'cart1_time'})\n",
    "cart3 = cart_df[cart_df['cart_order'] == 3][['user_id', 'event_time']].rename(columns={'event_time': 'cart3_time'})\n",
    "\n",
    "# 병합 후 시간 차 계산\n",
    "cart_duration = pd.merge(cart1, cart3, on='user_id')\n",
    "cart_duration['days_to_3rd_cart'] = (cart_duration['cart3_time'] - cart_duration['cart1_time']).dt.days"
   ]
  },
  {
   "cell_type": "code",
   "execution_count": null,
   "id": "deb4e99d-bd83-495b-8182-05017a995f79",
   "metadata": {},
   "outputs": [],
   "source": [
    "# 코호트 그룹 분류 (예시: 빠름/중간/느림)\n",
    "def categorize_days(days):\n",
    "    if days <= 1:\n",
    "        return '1일 이내'\n",
    "    elif days <= 3:\n",
    "        return '3일 이내'\n",
    "    elif days <= 7:\n",
    "        return '7일 이내'\n",
    "    else:\n",
    "        return '7일 초과'\n",
    "\n",
    "cart_duration['cohort_group'] = cart_duration['days_to_3rd_cart'].apply(categorize_days)"
   ]
  },
  {
   "cell_type": "code",
   "execution_count": null,
   "id": "933c18ad-852f-4f12-a242-56308bc36ba5",
   "metadata": {},
   "outputs": [],
   "source": [
    "cart_duration['cohort_group'].value_counts()"
   ]
  },
  {
   "cell_type": "code",
   "execution_count": null,
   "id": "12a41e65-0a2c-44f2-a777-5d4e44c4d7f8",
   "metadata": {},
   "outputs": [],
   "source": [
    "# cart3_time 기준 이후 행동만 분석\n",
    "df['event_time'] = pd.to_datetime(df['event_time_moscow'], errors='coerce')\n",
    "df = df.merge(cart_duration[['user_id', 'cart3_time', 'cohort_group']], on='user_id', how='inner')\n",
    "df = df[df['event_time'] >= df['cart3_time']].copy()\n",
    "df['days_since_cart3'] = (df['event_time'] - df['cart3_time']).dt.days"
   ]
  },
  {
   "cell_type": "code",
   "execution_count": null,
   "id": "4eeccd75-9b03-437c-a797-262c8be8504b",
   "metadata": {},
   "outputs": [],
   "source": [
    "# 구매 로그만 추출\n",
    "purchase_log = df[df['event_type'] == 'purchase'][['user_id', 'days_since_cart3', 'cohort_group']].drop_duplicates()\n",
    "\n",
    "# 전체 유저 수 (코호트별)\n",
    "cohort_user_counts = cart_duration.groupby('cohort_group')['user_id'].nunique()\n",
    "\n",
    "# 일자별 구매자 수\n",
    "daily_purchase = (\n",
    "    purchase_log.groupby(['cohort_group', 'days_since_cart3'])['user_id'].nunique()\n",
    "    .unstack(fill_value=0)\n",
    ")\n",
    "\n",
    "# 비율로 전환\n",
    "cohort_purchase_rate = daily_purchase.divide(cohort_user_counts, axis=0) * 100"
   ]
  },
  {
   "cell_type": "code",
   "execution_count": null,
   "id": "1dc85e33-9ae8-42e2-8c48-c8807d2c5e81",
   "metadata": {},
   "outputs": [],
   "source": [
    "import matplotlib.pyplot as plt\n",
    "\n",
    "# 0일차 제거\n",
    "cohort_purchase_rate = cohort_purchase_rate.drop(columns=0, errors='ignore')\n",
    "\n",
    "plt.figure(figsize=(10, 6))\n",
    "for cohort in cohort_purchase_rate.index:\n",
    "    plt.plot(cohort_purchase_rate.columns, cohort_purchase_rate.loc[cohort], label=cohort)\n",
    "\n",
    "plt.title('장바구니 3회까지 걸린 시간별 코호트 구매율')\n",
    "plt.xlabel('N일차')\n",
    "plt.ylabel('구매율 (%)')\n",
    "plt.legend(title='코호트 그룹')\n",
    "plt.grid(True)\n",
    "plt.tight_layout()\n",
    "plt.show()"
   ]
  },
  {
   "cell_type": "markdown",
   "id": "4d487713-d133-41b7-9496-54181977349a",
   "metadata": {},
   "source": [
    "- 장바구니 3회를 며칠에 걸쳐 달성했는지는 큰 유의미성을 보이지는 않는다.\n",
    "- 3일 이내, 7일 이내 그룹이 비교적 높고, 1일 이내가 비교적 낮은 듯"
   ]
  },
  {
   "cell_type": "markdown",
   "id": "2eff0d4a-5c40-42cf-9d8d-00563ec7e494",
   "metadata": {},
   "source": [
    "### 가설 검정"
   ]
  },
  {
   "cell_type": "markdown",
   "id": "7061b6aa-1bc5-4788-910b-9a4dc1a268f0",
   "metadata": {},
   "source": [
    "- 귀무가설(H₀): cart에 3회 이상 담은 사용자와 그렇지 않은 사용자 간 구매율 차이가 없다.\n",
    "- 대립가설(H₁): cart에 3회 이상 담은 사용자가 이후 구매율이 더 높다."
   ]
  },
  {
   "cell_type": "code",
   "execution_count": null,
   "id": "24cd14b7-8327-4766-8bc5-b17acbfcb28b",
   "metadata": {},
   "outputs": [],
   "source": [
    "import pandas as pd\n",
    "from scipy.stats import chi2_contingency\n",
    "\n",
    "# 1. event_time 형 변환 및 정렬\n",
    "df['event_time'] = pd.to_datetime(df['event_time_moscow'])\n",
    "df = df.sort_values(['user_id', 'event_time'])\n",
    "\n",
    "# 2. cart 이벤트 필터링 후 순서 부여\n",
    "cart_df = df[df['event_type'] == 'cart'].copy()\n",
    "cart_df['cart_order'] = cart_df.groupby('user_id').cumcount() + 1\n",
    "\n",
    "# 3. 사용자별 3번째 cart 시점 추출\n",
    "third_cart_time = cart_df[cart_df['cart_order'] == 3][['user_id', 'event_time']]\n",
    "third_cart_time.columns = ['user_id', 'cart3_time']  # 병합을 위한 컬럼명 변경\n",
    "\n",
    "# 4. 원본 df에 cart3_time 병합\n",
    "df = df.merge(third_cart_time, on='user_id', how='left')\n",
    "\n",
    "# 5. cart3 이후 이벤트 여부 플래그 생성\n",
    "df['after_cart3'] = df['event_time'] > df['cart3_time']\n",
    "\n",
    "# 6. cart 3회 이상 사용자 리스트\n",
    "users_with_cart3 = third_cart_time['user_id'].unique()\n",
    "\n",
    "# 7. cart 3회 미만 사용자 리스트\n",
    "users_without_cart3 = df[~df['user_id'].isin(users_with_cart3)]['user_id'].unique()\n",
    "\n",
    "# 8. cart3 이후에 구매한 사용자 추출\n",
    "purchase_after_cart3 = df[\n",
    "    (df['event_type'] == 'purchase') &\n",
    "    (df['after_cart3'] == True)\n",
    "]['user_id'].unique()\n",
    "\n",
    "# 9. 그룹별 구매 여부 계산\n",
    "a_purchase = sum(pd.Series(users_with_cart3).isin(purchase_after_cart3))\n",
    "a_non = len(users_with_cart3) - a_purchase\n",
    "\n",
    "b_purchase = sum(pd.Series(users_without_cart3).isin(purchase_after_cart3))\n",
    "b_non = len(users_without_cart3) - b_purchase\n",
    "\n",
    "# 10. 교차표 생성 및 카이제곱 검정\n",
    "contingency = [[a_purchase, a_non], [b_purchase, b_non]]\n",
    "chi2, p, _, _ = chi2_contingency(contingency)\n",
    "\n",
    "# 11. 구매율 계산\n",
    "a_rate = a_purchase / (a_purchase + a_non) if (a_purchase + a_non) > 0 else 0\n",
    "b_rate = b_purchase / (b_purchase + b_non) if (b_purchase + b_non) > 0 else 0\n",
    "\n",
    "# 12. 결과 출력\n",
    "print(\"✅ 교차표:\", contingency)\n",
    "print(f\"✅ p-value: {p:.5f}\")\n",
    "print(f\"✅ cart 3회 이상 사용자 구매율: {a_rate:.2%}\")\n",
    "print(f\"✅ cart 3회 미만 사용자 구매율: {b_rate:.2%}\")"
   ]
  },
  {
   "cell_type": "markdown",
   "id": "29b1972b-f9f5-4991-a1de-486e2ae977dc",
   "metadata": {},
   "source": [
    "- cart에 3회 이상 담은 이들의 차후 구매율이 높다."
   ]
  },
  {
   "cell_type": "code",
   "execution_count": null,
   "id": "9c213d82-3b11-449b-a15a-5c8b04e3b911",
   "metadata": {},
   "outputs": [],
   "source": [
    "import matplotlib.pyplot as plt\n",
    "\n",
    "# 1. 데이터 구성\n",
    "labels = ['Cart 3회 이상', 'Cart 3회 미만']\n",
    "purchase_rates = [a_rate * 100, b_rate * 100]  # 퍼센트로 변환\n",
    "\n",
    "# 2. 시각화\n",
    "plt.figure(figsize=(6, 5))\n",
    "bars = plt.bar(labels, purchase_rates, color=['skyblue', 'lightcoral'])\n",
    "\n",
    "# 3. 값 라벨 표시\n",
    "for bar in bars:\n",
    "    height = bar.get_height()\n",
    "    plt.text(bar.get_x() + bar.get_width()/2, height + 1, f'{height:.2f}%', \n",
    "             ha='center', va='bottom', fontsize=12)\n",
    "\n",
    "# 4. 제목 및 라벨\n",
    "plt.title('Cart 3회 기준 구매율 비교', fontsize=14)\n",
    "plt.ylabel('구매율 (%)')\n",
    "plt.ylim(0, max(purchase_rates) * 1.2)\n",
    "plt.grid(axis='y', linestyle='--', alpha=0.5)\n",
    "plt.tight_layout()\n",
    "plt.show()"
   ]
  },
  {
   "cell_type": "markdown",
   "id": "10a5e183-cec1-4e88-9d46-06f132dda492",
   "metadata": {},
   "source": [
    "- cart 1회 이상"
   ]
  },
  {
   "cell_type": "code",
   "execution_count": null,
   "id": "6dfb343f-c2d2-4403-ad9b-9703184399af",
   "metadata": {},
   "outputs": [],
   "source": [
    "import pandas as pd\n",
    "from scipy.stats import chi2_contingency\n",
    "\n",
    "# 1. event_time 형 변환 및 정렬\n",
    "df['event_time'] = pd.to_datetime(df['event_time_moscow'])\n",
    "df = df.sort_values(['user_id', 'event_time'])\n",
    "\n",
    "# 2. cart 이벤트 필터링 후 순서 부여\n",
    "cart_df = df[df['event_type'] == 'cart'].copy()\n",
    "cart_df['cart_order'] = cart_df.groupby('user_id').cumcount() + 1\n",
    "\n",
    "# 3. 사용자별 1번째 cart 시점 추출\n",
    "first_cart_time = cart_df[cart_df['cart_order'] == 1][['user_id', 'event_time']]\n",
    "first_cart_time.columns = ['user_id', 'cart1_time']\n",
    "\n",
    "# 4. 원본 df에 cart1_time 병합\n",
    "df = df.merge(first_cart_time, on='user_id', how='left')\n",
    "\n",
    "# 5. cart1 이후 이벤트 여부 플래그 생성\n",
    "df['after_cart1'] = df['event_time'] > df['cart1_time']\n",
    "\n",
    "# 6. cart 1회 이상 사용자 리스트\n",
    "users_with_cart1 = first_cart_time['user_id'].unique()\n",
    "\n",
    "# 7. cart 1회 미만 사용자 리스트\n",
    "users_without_cart1 = df[~df['user_id'].isin(users_with_cart1)]['user_id'].unique()\n",
    "\n",
    "# 8. cart1 이후에 구매한 사용자 추출\n",
    "purchase_after_cart1 = df[\n",
    "    (df['event_type'] == 'purchase') &\n",
    "    (df['after_cart1'] == True)\n",
    "]['user_id'].unique()\n",
    "\n",
    "# 9. 그룹별 구매 여부 계산\n",
    "a_purchase = sum(pd.Series(users_with_cart1).isin(purchase_after_cart1))\n",
    "a_non = len(users_with_cart1) - a_purchase\n",
    "\n",
    "b_purchase = sum(pd.Series(users_without_cart1).isin(purchase_after_cart1))\n",
    "b_non = len(users_without_cart1) - b_purchase\n",
    "\n",
    "# 10. 교차표 및 카이제곱 검정\n",
    "contingency = [[a_purchase, a_non], [b_purchase, b_non]]\n",
    "chi2, p, _, _ = chi2_contingency(contingency)\n",
    "\n",
    "# 11. 구매율 계산\n",
    "a_rate = a_purchase / (a_purchase + a_non) if (a_purchase + a_non) > 0 else 0\n",
    "b_rate = b_purchase / (b_purchase + b_non) if (b_purchase + b_non) > 0 else 0\n",
    "\n",
    "# 12. 결과 출력\n",
    "print(\"✅ 교차표:\", contingency)\n",
    "print(f\"✅ p-value: {p:.5f}\")\n",
    "print(f\"✅ cart 1회 이상 사용자 구매율: {a_rate:.2%}\")\n",
    "print(f\"✅ cart 1회 미만 사용자 구매율: {b_rate:.2%}\")"
   ]
  },
  {
   "cell_type": "code",
   "execution_count": null,
   "id": "e4aecf35-aec2-40a8-ab25-2ace576827eb",
   "metadata": {},
   "outputs": [],
   "source": [
    "import matplotlib.pyplot as plt\n",
    "\n",
    "# 1. 시각화용 데이터\n",
    "labels = ['Cart 1회 이상', 'Cart 1회 미만']\n",
    "purchase_rates = [a_rate * 100, b_rate * 100]  # 퍼센트로 변환\n",
    "\n",
    "# 2. 막대그래프\n",
    "plt.figure(figsize=(6, 5))\n",
    "bars = plt.bar(labels, purchase_rates, color=['mediumseagreen', 'lightgray'])\n",
    "\n",
    "# 3. 값 표시\n",
    "for bar in bars:\n",
    "    height = bar.get_height()\n",
    "    plt.text(bar.get_x() + bar.get_width()/2, height + 1, f'{height:.2f}%', \n",
    "             ha='center', va='bottom', fontsize=12)\n",
    "\n",
    "# 4. 제목 및 서식\n",
    "plt.title('✅ Cart 1회 여부에 따른 구매율 비교', fontsize=14)\n",
    "plt.ylabel('구매율 (%)')\n",
    "plt.ylim(0, max(purchase_rates) * 1.2)\n",
    "plt.grid(axis='y', linestyle='--', alpha=0.5)\n",
    "plt.tight_layout()\n",
    "plt.show()\n"
   ]
  },
  {
   "cell_type": "code",
   "execution_count": null,
   "id": "10dc17f2-a02c-457d-a1fa-2bee06af3d7a",
   "metadata": {},
   "outputs": [],
   "source": [
    "# 1. cart 이벤트가 발생한 사용자 목록\n",
    "users_with_cart = df[df['event_type'] == 'cart']['user_id'].unique()\n",
    "\n",
    "# 2. 전체 사용자 목록\n",
    "all_users = df['user_id'].unique()\n",
    "\n",
    "# 3. cart가 한 번도 없는 사용자\n",
    "users_without_cart = set(all_users) - set(users_with_cart)\n",
    "\n",
    "# 4. 이 사용자들의 전체 이벤트 로그를 하나의 df로 추출\n",
    "df_no_cart = df[df['user_id'].isin(users_without_cart)].copy()\n",
    "\n",
    "# 결과 확인\n",
    "print(f\"✅ cart 이벤트가 한 번도 없는 사용자 수: {len(users_without_cart)}\")\n",
    "print(f\"✅ df_no_cart 행 개수: {len(df_no_cart)}\")"
   ]
  },
  {
   "cell_type": "code",
   "execution_count": null,
   "id": "ff8d3e5c-bbe6-4884-b2f7-348e43360a95",
   "metadata": {},
   "outputs": [],
   "source": [
    "# 1. df_no_cart에서 구매 이벤트 필터링\n",
    "no_cart_purchase = df_no_cart[df_no_cart['event_type'] == 'purchase']\n",
    "\n",
    "# 2. 고유 사용자 수 확인\n",
    "unique_buyers = no_cart_purchase['user_id'].nunique()\n",
    "\n",
    "# 3. 결과 출력\n",
    "print(f\"✅ cart 없이 구매한 사용자 수: {unique_buyers}\")\n",
    "print(f\"✅ 해당 구매 이벤트 총 개수: {len(no_cart_purchase)}\")"
   ]
  },
  {
   "cell_type": "markdown",
   "id": "be42c886-f712-43f5-afde-0d673a7b72ef",
   "metadata": {},
   "source": [
    "- 결론\n",
    "    - cart에 3회 이상 담은 이들의 차후 구매율이 압도적으로 높다.\n",
    "    - cart에 1회라도 담은 이들의 차후 구매율이 압도적으로 높다\n",
    "    (둘다 n회 미만 그룹의 구매율이 0.00%)"
   ]
  },
  {
   "cell_type": "markdown",
   "id": "a674a07e-ca18-4d25-b2e7-3fafc7090bb9",
   "metadata": {},
   "source": [
    "## H28_특정 브랜드 상품을 5번 이상 조회(view) 한 사용자 코호트"
   ]
  },
  {
   "cell_type": "markdown",
   "id": "873853cb-cf5b-476f-ba13-584700d552d4",
   "metadata": {},
   "source": [
    "- 조건: 특정 브랜드 상품을 **5번 이상 조회(view)** 한 사용자\n",
    "- 코호트 기준: 특정 브랜드 집중 행동의 시작 시점\n",
    "- 분석: 뷰 수가 구매로 이어지는 전환율 비교"
   ]
  },
  {
   "cell_type": "markdown",
   "id": "bb7dc6ef-8345-485a-b622-c10280fc97ed",
   "metadata": {},
   "source": [
    "- 귀무가설(H0): 브랜드 기준으로 view를 5회 이상 했더라도 구매 전환율에 차이가 없다.\n",
    "- 대립가설(H1): 특정 브랜드를 view 5회 이상 한 사용자가 그렇지 않은 사용자보다 더 많이 구매한다."
   ]
  },
  {
   "cell_type": "markdown",
   "id": "0066086a-12a8-48c9-8e39-a943127c18f0",
   "metadata": {},
   "source": [
    "- 기준: 브랜드별로 view ≥ 5회인 사용자 → 집중 관심 사용자\n",
    "- 비교 대상: 같은 브랜드를 view < 5회인 사용자\n",
    "- 두 그룹의 구매 전환율 비교 → 카이제곱 검정 또는 비율 검정"
   ]
  },
  {
   "cell_type": "code",
   "execution_count": null,
   "id": "936dac59-0556-4128-8d32-33cd2b0c77d1",
   "metadata": {},
   "outputs": [],
   "source": [
    "import pandas as pd\n",
    "from scipy.stats import chi2_contingency\n",
    "\n",
    "# 브랜드-사용자별 view 수 계산\n",
    "view_counts = df[df['event_type'] == 'view'].groupby(['brand', 'user_id']).size().reset_index(name='view_count')\n",
    "\n",
    "# 구매 여부 플래그 추가\n",
    "purchase_flags = df[df['event_type'] == 'purchase'][['brand', 'user_id']].drop_duplicates()\n",
    "purchase_flags['is_purchase'] = 1\n",
    "\n",
    "# 병합하여 구매 여부 추가\n",
    "view_counts = view_counts.merge(purchase_flags, on=['brand', 'user_id'], how='left')\n",
    "view_counts['is_purchase'] = view_counts['is_purchase'].fillna(0)\n",
    "\n",
    "# 그룹 나누기: 집중 뷰 vs 일반 뷰\n",
    "view_counts['group'] = view_counts['view_count'].apply(lambda x: 'focused' if x >= 5 else 'general')\n",
    "\n",
    "# 교차표 생성\n",
    "contingency = pd.crosstab(view_counts['group'], view_counts['is_purchase'])\n",
    "\n",
    "# 카이제곱 검정\n",
    "chi2, p, dof, expected = chi2_contingency(contingency)\n",
    "\n",
    "# 결과 출력\n",
    "print(\"📊 교차표:\\n\", contingency)\n",
    "print(f\"✅ 카이제곱 통계량: {chi2:.4f}\")\n",
    "print(f\"✅ p-value: {p:.6f}\")\n"
   ]
  },
  {
   "cell_type": "code",
   "execution_count": null,
   "id": "2d59e855-fa68-48ca-8244-3fc3edaf11bb",
   "metadata": {},
   "outputs": [],
   "source": [
    "# 구매 전환율 계산용 데이터프레임 생성\n",
    "group_summary = view_counts.groupby('group')['is_purchase'].agg(['sum', 'count']).reset_index()\n",
    "group_summary['conversion_rate'] = group_summary['sum'] / group_summary['count']\n",
    "\n",
    "# 시각화\n",
    "plt.figure(figsize=(8, 5))\n",
    "barplot = sns.barplot(data=group_summary, x='group', y='conversion_rate', palette=['#509adb', '#197bcf'])  # 팔레트 8, 11번째\n",
    "\n",
    "# 라벨링\n",
    "for i, row in group_summary.iterrows():\n",
    "    plt.text(i, row['conversion_rate'] + 0.02, f\"{row['conversion_rate']:.2%}\", \n",
    "             ha='center', va='bottom', fontsize=13)\n",
    "\n",
    "# 축 및 제목 설정\n",
    "plt.title('집중 조회 여부에 따른 구매 전환율 비교')\n",
    "plt.xlabel('사용자 그룹')\n",
    "plt.ylabel('구매 전환율')\n",
    "plt.ylim(0, 1)\n",
    "plt.tight_layout()\n",
    "plt.show()"
   ]
  },
  {
   "cell_type": "markdown",
   "id": "628b7320-7bce-4558-bb16-a158692d3efa",
   "metadata": {},
   "source": [
    "### 3회 이상의 view 사용자 / 아닌 사용자 전환율 비교"
   ]
  },
  {
   "cell_type": "code",
   "execution_count": null,
   "id": "6da7e21b-be89-43de-8426-190d547c300c",
   "metadata": {},
   "outputs": [],
   "source": [
    "import pandas as pd\n",
    "import matplotlib.pyplot as plt\n",
    "import seaborn as sns\n",
    "from scipy.stats import chi2_contingency\n",
    "\n",
    "# 1. 브랜드-사용자별 view 수 계산\n",
    "view_counts = df[df['event_type'] == 'view'].groupby(['brand', 'user_id']).size().reset_index(name='view_count')\n",
    "\n",
    "# 2. 구매 여부 플래그 추가\n",
    "purchase_flags = df[df['event_type'] == 'purchase'][['brand', 'user_id']].drop_duplicates()\n",
    "purchase_flags['is_purchase'] = 1\n",
    "\n",
    "# 3. 병합하여 구매 여부 추가\n",
    "view_counts = view_counts.merge(purchase_flags, on=['brand', 'user_id'], how='left')\n",
    "view_counts['is_purchase'] = view_counts['is_purchase'].fillna(0)\n",
    "\n",
    "# 4. 그룹 나누기: 집중 뷰 (3회 이상) vs 일반 뷰 (3회 미만)\n",
    "view_counts['group'] = view_counts['view_count'].apply(lambda x: '3회 이상' if x >= 3 else '3회 미만')\n",
    "\n",
    "# 5. 교차표 생성\n",
    "contingency = pd.crosstab(view_counts['group'], view_counts['is_purchase'])\n",
    "\n",
    "# 6. 카이제곱 검정\n",
    "chi2, p, dof, expected = chi2_contingency(contingency)\n",
    "\n",
    "# 7. 결과 출력\n",
    "print(\"📊 교차표:\\n\", contingency)\n",
    "print(f\"✅ 카이제곱 통계량: {chi2:.4f}\")\n",
    "print(f\"✅ p-value: {p:.6f}\")\n",
    "\n",
    "# 8. 구매 전환율 계산\n",
    "group_summary = view_counts.groupby('group')['is_purchase'].agg(['sum', 'count']).reset_index()\n",
    "group_summary['conversion_rate'] = group_summary['sum'] / group_summary['count']"
   ]
  },
  {
   "cell_type": "code",
   "execution_count": null,
   "id": "7b393b04-4a0f-4af5-a2dc-6f603f3988af",
   "metadata": {},
   "outputs": [],
   "source": [
    "# 시각화\n",
    "plt.figure(figsize=(6, 5))\n",
    "barplot = sns.barplot(\n",
    "    data=group_summary,\n",
    "    x='group',\n",
    "    y='conversion_rate',\n",
    "    order=['3회 이상', '3회 미만'],\n",
    "    palette=['#509adb', '#1770bd']\n",
    ")\n",
    "\n",
    "# 라벨링\n",
    "for i, row in group_summary.set_index('group').loc[['3회 이상', '3회 미만']].reset_index().iterrows():\n",
    "    plt.text(i, row['conversion_rate'] + 0.005, f\"{row['conversion_rate']:.2%}\", \n",
    "             ha='center', va='bottom', fontsize=13)\n",
    "\n",
    "# 제목 및 축 설정\n",
    "plt.title('같은 브랜드 중복 조회 여부에 따른 구매 전환율 비교')\n",
    "plt.xlabel('사용자 그룹')\n",
    "plt.ylabel('구매 전환율')\n",
    "plt.ylim(0, 0.5)\n",
    "plt.tight_layout()\n",
    "plt.show()"
   ]
  },
  {
   "cell_type": "markdown",
   "id": "0755ba9b-5cd8-418f-bcd2-80bbc7e102be",
   "metadata": {},
   "source": [
    "True\n",
    "- 특정 브랜드를 3회 이상 조회한 사용자가 그 브랜드 제품을 구매할 확률이 더 높다.\n",
    "- 5회도 마찬가지"
   ]
  },
  {
   "cell_type": "markdown",
   "id": "e4fc6b20-b0a5-4477-a959-faadd0ee8dc7",
   "metadata": {},
   "source": [
    "## H29_고가 제품을 조회한 사용자는 고가 제품을 구매하는지 여부"
   ]
  },
  {
   "cell_type": "markdown",
   "id": "1e9dc2a9-be82-4845-8a4e-b388cc6633d0",
   "metadata": {},
   "source": [
    "- 귀무가설(H0): 고가 제품을 조회한 사용자가 고가 제품을 구매할 확률은 그렇지 않은 사용자와 차이가 없다.\n",
    "- 대립가설(H1): 고가 제품을 조회한 사용자가 고가 제품을 구매할 확률이 더 높다."
   ]
  },
  {
   "cell_type": "markdown",
   "id": "a5c3c982-997d-490a-a17a-e6561ece1a55",
   "metadata": {},
   "source": [
    "- 고가 제품 : 가격의 상위 20% 를 고가 제품으로 정의"
   ]
  },
  {
   "cell_type": "code",
   "execution_count": null,
   "id": "3c9c78c1-5e95-4a9f-94ac-6d087c6ab5f9",
   "metadata": {},
   "outputs": [],
   "source": [
    "import pandas as pd\n",
    "import numpy as np\n",
    "from scipy.stats import chi2_contingency\n",
    "import matplotlib.pyplot as plt\n",
    "import seaborn as sns\n",
    "\n",
    "# 💡 가격 상위 20% 이상을 고가 제품으로 정의\n",
    "price_threshold = df['price'].quantile(0.8)\n",
    "high_price_products = df[df['price'] >= price_threshold]['product_id'].unique()\n",
    "\n",
    "# 📌 고가 제품 조회한 사용자 목록\n",
    "view_high_users = df[(df['event_type'] == 'view') & (df['product_id'].isin(high_price_products))]['user_id'].unique()\n",
    "\n",
    "# 📌 고가 제품 구매한 사용자 목록\n",
    "purchase_high_df = df[(df['event_type'] == 'purchase') & (df['product_id'].isin(high_price_products))]\n",
    "purchase_high_users = purchase_high_df['user_id'].unique()\n",
    "\n",
    "# 📌 전체 구매 사용자 목록\n",
    "purchase_all_users = df[df['event_type'] == 'purchase']['user_id'].unique()\n",
    "\n",
    "# ✅ 고가 제품 view 여부 기준으로 그룹 나누기\n",
    "viewed_group = pd.Series(view_high_users)\n",
    "not_viewed_group = pd.Series(list(set(purchase_all_users) - set(view_high_users)))\n",
    "\n",
    "# 📌 교차표 작성\n",
    "a = sum(viewed_group.isin(purchase_high_users))  # 고가 제품을 보고 → 고가 제품 구매한 사람 수\n",
    "b = len(viewed_group) - a                        # 고가 제품을 보고 → 고가 제품 미구매한 사람 수\n",
    "c = sum(not_viewed_group.isin(purchase_high_users))  # 고가 제품 안 보고 → 고가 제품 구매한 사람 수\n",
    "d = len(not_viewed_group) - c                        # 고가 제품 안 보고 → 고가 제품 미구매한 사람 수\n",
    "\n",
    "contingency = [[a, b], [c, d]]\n",
    "chi2, p, dof, expected = chi2_contingency(contingency)\n",
    "\n",
    "print(\"✅ 교차표:\\n\", pd.DataFrame(contingency, columns=['구매O', '구매X'], index=['고가뷰O', '고가뷰X']))\n",
    "print(f\"\\n✅ 카이제곱 통계량: {chi2:.3f}, p-value: {p:.5f}\")\n"
   ]
  },
  {
   "cell_type": "markdown",
   "id": "9f489d8a-32c2-46f9-a601-24ff82517254",
   "metadata": {},
   "source": [
    "|              | 고가 제품 구매 (O) | 고가 제품 구매 (X) | 총합      |\n",
    "| ------------ | ------------ | ------------ | ------- |\n",
    "| 고가 제품 조회(O)  | 37,734       | 519,628      | 557,362 |\n",
    "| 고가 제품 미조회(X) | 6,684        | 28,418       | 35,102  |\n",
    "\n",
    "- 고가 제품 조회 그룹: 약 6.8% (37,734 / 557,362)만 실제 고가 제품을 구매함\n",
    "- 고가 제품 미조회 그룹: 약 19.0% (6,684 / 35,102)가 고가 제품을 구매함\n",
    "\n",
    "→ 오히려 고가 제품을 조회하지 않은 사용자의 고가 제품 구매 전환율이 더 높게 나타났다."
   ]
  },
  {
   "cell_type": "code",
   "execution_count": null,
   "id": "133f30c8-174d-4534-adf3-b4eab302973a",
   "metadata": {},
   "outputs": [],
   "source": [
    "import matplotlib.pyplot as plt\n",
    "import seaborn as sns\n",
    "\n",
    "# 전환율 계산\n",
    "conversion_rate_viewed = a / (a + b)\n",
    "conversion_rate_not_viewed = c / (c + d)\n",
    "\n",
    "conversion_df = pd.DataFrame({\n",
    "    'group': ['고가 제품 조회', '고가 제품 미조회'],\n",
    "    'conversion_rate': [conversion_rate_viewed, conversion_rate_not_viewed]\n",
    "})\n",
    "\n",
    "# 바플롯 시각화\n",
    "plt.figure(figsize=(6, 5))\n",
    "ax = sns.barplot(data=conversion_df, x='group', y='conversion_rate')\n",
    "plt.title('고가 제품 조회 여부에 따른 고가 제품 구매 전환율')\n",
    "plt.ylabel('전환율')\n",
    "plt.xlabel('')\n",
    "plt.ylim(0, 1)\n",
    "plt.grid(True, axis='y')\n",
    "\n",
    "# ✅ 바 위에 라벨 추가\n",
    "for i, row in conversion_df.iterrows():\n",
    "    ax.text(\n",
    "        i, row['conversion_rate'] + 0.01,\n",
    "        f\"{row['conversion_rate']*100:.2f}%\",\n",
    "        ha='center', va='bottom', fontsize=11\n",
    "    )\n",
    "\n",
    "plt.tight_layout()\n",
    "plt.show()"
   ]
  },
  {
   "cell_type": "markdown",
   "id": "e1da420f-1763-459b-820f-c2f5db29f505",
   "metadata": {},
   "source": [
    "### 고가 제품을 3회 이상 조회한 사용자를 기준으로 구매 전환율 비교"
   ]
  },
  {
   "cell_type": "code",
   "execution_count": null,
   "id": "2f11c6c8-74a0-4f2b-a22f-097ec93b2793",
   "metadata": {},
   "outputs": [],
   "source": [
    "import pandas as pd\n",
    "from scipy.stats import chi2_contingency\n",
    "import matplotlib.pyplot as plt\n",
    "import seaborn as sns\n",
    "\n",
    "# 1. 고가 제품 기준 설정 (상위 20%)\n",
    "price_threshold = df['price'].quantile(0.8)\n",
    "high_price_products = df[df['price'] >= price_threshold]['product_id'].unique()\n",
    "\n",
    "# 2. 고가 제품 조회 수 계산\n",
    "high_view_counts = df[(df['event_type'] == 'view') & (df['product_id'].isin(high_price_products))]\n",
    "user_high_view_counts = high_view_counts.groupby('user_id').size()\n",
    "\n",
    "# 3. 그룹 나누기 (3회 이상 vs 미만)\n",
    "group_3_or_more = user_high_view_counts[user_high_view_counts >= 3].index\n",
    "group_less_than_3 = user_high_view_counts[user_high_view_counts < 3].index\n",
    "\n",
    "# 4. 고가 제품 구매 여부 (user 기준)\n",
    "purchase_high_users = df[(df['event_type'] == 'purchase') & (df['product_id'].isin(high_price_products))]['user_id'].unique()\n",
    "\n",
    "# 5. 교차표 생성\n",
    "a = sum(pd.Series(group_3_or_more).isin(purchase_high_users))   # 3회 이상 조회 & 구매\n",
    "b = len(group_3_or_more) - a                                    # 3회 이상 조회 & 미구매\n",
    "c = sum(pd.Series(group_less_than_3).isin(purchase_high_users)) # 3회 미만 조회 & 구매\n",
    "d = len(group_less_than_3) - c                                  # 3회 미만 조회 & 미구매\n",
    "\n",
    "contingency = [[a, b], [c, d]]\n",
    "chi2, p, dof, expected = chi2_contingency(contingency)\n",
    "\n",
    "print(\"✅ 교차표:\\n\", pd.DataFrame(contingency, columns=['구매O', '구매X'], index=['3회 이상 조회', '3회 미만 조회']))\n",
    "print(f\"\\n✅ 카이제곱 통계량: {chi2:.3f}, p-value: {p:.5f}\")"
   ]
  },
  {
   "cell_type": "markdown",
   "id": "9160d6fc-48ea-4f97-9a8d-5fbfd2c06de7",
   "metadata": {},
   "source": [
    "|              | 고가 제품 구매(O) | 고가 제품 미구매(X) | 전체       |\n",
    "| ------------ | ----------- | ------------ | -------- |\n",
    "| **3회 이상 조회** | 26,824명     | 124,860명     | 151,684명 |\n",
    "| **3회 미만 조회** | 10,910명     | 394,768명     | 405,678명 |\n",
    "\n",
    "- 3회 이상 조회자 전환율 = 26,824 / (26,824 + 124,860) ≈ 17.7%\n",
    "- 3회 미만 조회자 전환율 = 10,910 / (10,910 + 394,768) ≈ 2.7%\n",
    "\n",
    "→ 3회 이상 조회한 그룹의 고가 제품 구매 전환율이 훨씬 높음.\n",
    "\n",
    "**고가 제품을 3회 이상 조회한 사용자는 그렇지 않은 사용자보다 고가 제품을 더 많이 구매함.**"
   ]
  },
  {
   "cell_type": "code",
   "execution_count": null,
   "id": "10f72199-cd3c-44eb-acf8-b928a803152c",
   "metadata": {},
   "outputs": [],
   "source": [
    "import matplotlib.pyplot as plt\n",
    "import seaborn as sns\n",
    "\n",
    "# 전환율 데이터프레임\n",
    "conversion_df = pd.DataFrame({\n",
    "    'group': ['3회 이상 조회', '3회 미만 조회'],\n",
    "    'conversion_rate': [conversion_rate_3_or_more, conversion_rate_less_3]\n",
    "})\n",
    "\n",
    "# 시각화\n",
    "plt.figure(figsize=(6, 5))\n",
    "ax = sns.barplot(data=conversion_df, x='group', y='conversion_rate')\n",
    "\n",
    "# 라벨(값) 붙이기\n",
    "for i, row in conversion_df.iterrows():\n",
    "    ax.text(\n",
    "        i,                                  # x 위치\n",
    "        row['conversion_rate'] + 0.01,      # y 위치 (막대보다 살짝 위)\n",
    "        f\"{row['conversion_rate']*100:.2f}%\",  # 전환율(%)\n",
    "        ha='center', va='bottom', fontsize=11\n",
    "    )\n",
    "\n",
    "plt.title('고가 제품 3회 이상 조회 여부에 따른 고가 제품 구매 전환율')\n",
    "plt.ylabel('전환율')\n",
    "plt.ylim(0, 1)\n",
    "plt.grid(axis='y')\n",
    "plt.tight_layout()\n",
    "plt.show()"
   ]
  },
  {
   "cell_type": "markdown",
   "id": "f78116a5-2734-4951-a326-51a973f69d06",
   "metadata": {},
   "source": [
    "## H30_기존 구매 평균 금액이 높은 사용자는 그 후에도 평균 금액이 다른 이들보다 높을 것이다."
   ]
  },
  {
   "cell_type": "code",
   "execution_count": 10,
   "id": "3584171f-f9a1-4ab4-9b04-891df7b1b9c1",
   "metadata": {},
   "outputs": [
    {
     "name": "stdout",
     "output_type": "stream",
     "text": [
      "ShapiroResult(statistic=np.float64(0.5094588281056949), pvalue=np.float64(5.160427088736066e-118))\n",
      "ShapiroResult(statistic=np.float64(0.4054846074537155), pvalue=np.float64(2.9387671409207956e-135))\n",
      "p-value: 0.0\n"
     ]
    }
   ],
   "source": [
    "import pandas as pd\n",
    "from scipy.stats import shapiro, ttest_ind, mannwhitneyu\n",
    "\n",
    "# 1. 구매만 필터링\n",
    "purchase_df = df[df['event_type'] == 'purchase'].copy()\n",
    "purchase_df['event_time_moscow'] = pd.to_datetime(purchase_df['event_time_moscow'])\n",
    "purchase_df = purchase_df.sort_values(by=['user_id', 'event_time_moscow'])\n",
    "\n",
    "# 2. 구매 순서 부여\n",
    "purchase_df['purchase_order'] = purchase_df.groupby('user_id').cumcount() + 1\n",
    "\n",
    "# 3. 기존/이후 나누기 (예: 3건 기준)\n",
    "initial_purchases = purchase_df[purchase_df['purchase_order'] <= 3]\n",
    "later_purchases = purchase_df[purchase_df['purchase_order'] > 3]\n",
    "\n",
    "# 4. 사용자별 기존 평균 구매 금액\n",
    "initial_avg = initial_purchases.groupby('user_id')['price'].mean().reset_index()\n",
    "initial_avg.columns = ['user_id', 'initial_avg_price']\n",
    "\n",
    "# 5. 사용자 그룹 나누기 (중위값 기준)\n",
    "median_price = initial_avg['initial_avg_price'].median()\n",
    "initial_avg['group'] = initial_avg['initial_avg_price'] > median_price  # True: 상위 그룹\n",
    "\n",
    "# 6. 이후 구매 금액 병합\n",
    "later_avg = later_purchases.groupby('user_id')['price'].mean().reset_index()\n",
    "later_avg.columns = ['user_id', 'later_avg_price']\n",
    "merged = pd.merge(initial_avg, later_avg, on='user_id')\n",
    "\n",
    "# 7. 그룹별 이후 평균 구매금 비교\n",
    "group_high = merged[merged['group'] == True]['later_avg_price']\n",
    "group_low = merged[merged['group'] == False]['later_avg_price']\n",
    "\n",
    "# 8. 정규성 검사\n",
    "print(shapiro(group_high))\n",
    "print(shapiro(group_low))\n",
    "\n",
    "# 9. 가설 검정 (정규성 여부 따라 다르게)\n",
    "stat, p = mannwhitneyu(group_high, group_low, alternative='greater')  # 또는 ttest_ind\n",
    "print(f\"p-value: {p}\")"
   ]
  },
  {
   "cell_type": "code",
   "execution_count": null,
   "id": "04b75fab-0882-41eb-9f39-e0e64519cdbc",
   "metadata": {},
   "outputs": [],
   "source": [
    "import seaborn as sns\n",
    "import matplotlib.pyplot as plt\n",
    "\n",
    "# 시각화를 위한 DataFrame 구성\n",
    "plot_df = merged.copy()\n",
    "plot_df['group_label'] = plot_df['group'].map({True: '상위 그룹', False: '하위 그룹'})\n",
    "\n",
    "plt.figure(figsize=(8, 5))\n",
    "sns.violinplot(data=plot_df, x='group_label', y='later_avg_price', inner='box')\n",
    "plt.title('기존 평균 구매 금액에 따른 이후 평균 구매 금액 분포')\n",
    "plt.xlabel('기존 구매 금액 그룹')\n",
    "plt.ylabel('이후 평균 구매 금액')\n",
    "plt.grid(True, axis='y')\n",
    "plt.tight_layout()\n",
    "plt.show()"
   ]
  },
  {
   "cell_type": "markdown",
   "id": "f2315377-d354-436f-b31c-0d54d8719fcc",
   "metadata": {},
   "source": [
    "- 대부분의 값이 낮은 구간에 몰려 있고 소수의 이상값이 분포를 왜곡하고 있어서 violin plot이나 box plot이 분포를 제대로 보여주지 못함\n",
    "- 로그 변환하여 Boxplot으로 분석"
   ]
  },
  {
   "cell_type": "code",
   "execution_count": null,
   "id": "784bb3ee-448e-444f-90d3-8b3d77e25670",
   "metadata": {},
   "outputs": [],
   "source": [
    "import numpy as np\n",
    "\n",
    "# 로그 변환한 값 추가 (0 값 방지를 위해 log1p 사용)\n",
    "plot_df['log_later_avg_price'] = np.log1p(plot_df['later_avg_price'])\n",
    "\n",
    "plt.figure(figsize=(8, 5))\n",
    "sns.boxplot(data=plot_df, x='group_label', y='log_later_avg_price')\n",
    "plt.title('로그 변환된 이후 평균 구매 금액 분포')\n",
    "plt.xlabel('기존 구매 금액 그룹')\n",
    "plt.ylabel('log(1 + 이후 평균 구매 금액)')\n",
    "plt.grid(True, axis='y')\n",
    "plt.tight_layout()\n",
    "plt.show()"
   ]
  },
  {
   "cell_type": "code",
   "execution_count": 18,
   "id": "0ea1467f-178a-4c01-8bab-2930d39c40e9",
   "metadata": {},
   "outputs": [
    {
     "ename": "UnboundLocalError",
     "evalue": "cannot access local variable 'boxprops' where it is not associated with a value",
     "output_type": "error",
     "traceback": [
      "\u001b[1;31m---------------------------------------------------------------------------\u001b[0m",
      "\u001b[1;31mUnboundLocalError\u001b[0m                         Traceback (most recent call last)",
      "Cell \u001b[1;32mIn[18], line 16\u001b[0m\n\u001b[0;32m     14\u001b[0m \u001b[38;5;66;03m# 시각화\u001b[39;00m\n\u001b[0;32m     15\u001b[0m plt\u001b[38;5;241m.\u001b[39mfigure(figsize\u001b[38;5;241m=\u001b[39m(\u001b[38;5;241m8\u001b[39m, \u001b[38;5;241m5\u001b[39m))\n\u001b[1;32m---> 16\u001b[0m sns\u001b[38;5;241m.\u001b[39mboxplot(\n\u001b[0;32m     17\u001b[0m     data\u001b[38;5;241m=\u001b[39mmerged,\n\u001b[0;32m     18\u001b[0m     x\u001b[38;5;241m=\u001b[39m\u001b[38;5;124m'\u001b[39m\u001b[38;5;124mgroup_label\u001b[39m\u001b[38;5;124m'\u001b[39m,\n\u001b[0;32m     19\u001b[0m     y\u001b[38;5;241m=\u001b[39m\u001b[38;5;124m'\u001b[39m\u001b[38;5;124mlog_later_avg_price\u001b[39m\u001b[38;5;124m'\u001b[39m,\n\u001b[0;32m     20\u001b[0m     palette\u001b[38;5;241m=\u001b[39mcustom_palette,\n\u001b[0;32m     21\u001b[0m     order\u001b[38;5;241m=\u001b[39m[\u001b[38;5;124m'\u001b[39m\u001b[38;5;124m상위 그룹\u001b[39m\u001b[38;5;124m'\u001b[39m, \u001b[38;5;124m'\u001b[39m\u001b[38;5;124m하위 그룹\u001b[39m\u001b[38;5;124m'\u001b[39m]\n\u001b[0;32m     22\u001b[0m )\n\u001b[0;32m     24\u001b[0m plt\u001b[38;5;241m.\u001b[39mtitle(\u001b[38;5;124m'\u001b[39m\u001b[38;5;124m초기 구매력에 따른 차후 구매 금액 분포 비교 (로그 변환)\u001b[39m\u001b[38;5;124m'\u001b[39m, fontsize\u001b[38;5;241m=\u001b[39m\u001b[38;5;241m14\u001b[39m)\n\u001b[0;32m     25\u001b[0m plt\u001b[38;5;241m.\u001b[39mxlabel(\u001b[38;5;124m'\u001b[39m\u001b[38;5;124m기존 구매 금액 그룹\u001b[39m\u001b[38;5;124m'\u001b[39m, fontsize\u001b[38;5;241m=\u001b[39m\u001b[38;5;241m12\u001b[39m)\n",
      "File \u001b[1;32m~\\anaconda3\\Lib\\site-packages\\seaborn\\categorical.py:1634\u001b[0m, in \u001b[0;36mboxplot\u001b[1;34m(data, x, y, hue, order, hue_order, orient, color, palette, saturation, fill, dodge, width, gap, whis, linecolor, linewidth, fliersize, hue_norm, native_scale, log_scale, formatter, legend, ax, **kwargs)\u001b[0m\n\u001b[0;32m   1627\u001b[0m color \u001b[38;5;241m=\u001b[39m _default_color(\n\u001b[0;32m   1628\u001b[0m     ax\u001b[38;5;241m.\u001b[39mfill_between, hue, color,\n\u001b[0;32m   1629\u001b[0m     {k: v \u001b[38;5;28;01mfor\u001b[39;00m k, v \u001b[38;5;129;01min\u001b[39;00m kwargs\u001b[38;5;241m.\u001b[39mitems() \u001b[38;5;28;01mif\u001b[39;00m k \u001b[38;5;129;01min\u001b[39;00m [\u001b[38;5;124m\"\u001b[39m\u001b[38;5;124mc\u001b[39m\u001b[38;5;124m\"\u001b[39m, \u001b[38;5;124m\"\u001b[39m\u001b[38;5;124mcolor\u001b[39m\u001b[38;5;124m\"\u001b[39m, \u001b[38;5;124m\"\u001b[39m\u001b[38;5;124mfc\u001b[39m\u001b[38;5;124m\"\u001b[39m, \u001b[38;5;124m\"\u001b[39m\u001b[38;5;124mfacecolor\u001b[39m\u001b[38;5;124m\"\u001b[39m]},\n\u001b[0;32m   1630\u001b[0m     saturation\u001b[38;5;241m=\u001b[39msaturation,\n\u001b[0;32m   1631\u001b[0m )\n\u001b[0;32m   1632\u001b[0m linecolor \u001b[38;5;241m=\u001b[39m p\u001b[38;5;241m.\u001b[39m_complement_color(linecolor, color, p\u001b[38;5;241m.\u001b[39m_hue_map)\n\u001b[1;32m-> 1634\u001b[0m p\u001b[38;5;241m.\u001b[39mplot_boxes(\n\u001b[0;32m   1635\u001b[0m     width\u001b[38;5;241m=\u001b[39mwidth,\n\u001b[0;32m   1636\u001b[0m     dodge\u001b[38;5;241m=\u001b[39mdodge,\n\u001b[0;32m   1637\u001b[0m     gap\u001b[38;5;241m=\u001b[39mgap,\n\u001b[0;32m   1638\u001b[0m     fill\u001b[38;5;241m=\u001b[39mfill,\n\u001b[0;32m   1639\u001b[0m     whis\u001b[38;5;241m=\u001b[39mwhis,\n\u001b[0;32m   1640\u001b[0m     color\u001b[38;5;241m=\u001b[39mcolor,\n\u001b[0;32m   1641\u001b[0m     linecolor\u001b[38;5;241m=\u001b[39mlinecolor,\n\u001b[0;32m   1642\u001b[0m     linewidth\u001b[38;5;241m=\u001b[39mlinewidth,\n\u001b[0;32m   1643\u001b[0m     fliersize\u001b[38;5;241m=\u001b[39mfliersize,\n\u001b[0;32m   1644\u001b[0m     plot_kws\u001b[38;5;241m=\u001b[39mkwargs,\n\u001b[0;32m   1645\u001b[0m )\n\u001b[0;32m   1647\u001b[0m p\u001b[38;5;241m.\u001b[39m_add_axis_labels(ax)\n\u001b[0;32m   1648\u001b[0m p\u001b[38;5;241m.\u001b[39m_adjust_cat_axis(ax, axis\u001b[38;5;241m=\u001b[39mp\u001b[38;5;241m.\u001b[39morient)\n",
      "File \u001b[1;32m~\\anaconda3\\Lib\\site-packages\\seaborn\\categorical.py:745\u001b[0m, in \u001b[0;36m_CategoricalPlotter.plot_boxes\u001b[1;34m(self, width, dodge, gap, fill, whis, color, linecolor, linewidth, fliersize, plot_kws)\u001b[0m\n\u001b[0;32m    742\u001b[0m     ax\u001b[38;5;241m.\u001b[39madd_container(BoxPlotContainer(artists))\n\u001b[0;32m    744\u001b[0m legend_artist \u001b[38;5;241m=\u001b[39m _get_patch_legend_artist(fill)\n\u001b[1;32m--> 745\u001b[0m \u001b[38;5;28mself\u001b[39m\u001b[38;5;241m.\u001b[39m_configure_legend(ax, legend_artist, boxprops)\n",
      "\u001b[1;31mUnboundLocalError\u001b[0m: cannot access local variable 'boxprops' where it is not associated with a value"
     ]
    },
    {
     "data": {
      "image/png": "[encoded data removed]",
      "text/plain": [
       "<Figure size 800x500 with 1 Axes>"
      ]
     },
     "metadata": {},
     "output_type": "display_data"
    }
   ],
   "source": [
    "import numpy as np\n",
    "import seaborn as sns\n",
    "import matplotlib.pyplot as plt\n",
    "\n",
    "# 로그 변환\n",
    "merged['log_later_avg_price'] = np.log1p(merged['later_avg_price'])\n",
    "\n",
    "# 그룹 라벨 붙이기\n",
    "merged['group_label'] = merged['group'].map({True: '상위 그룹', False: '하위 그룹'})\n",
    "\n",
    "# 팔레트 지정 (8번째, 12번째 색상)\n",
    "custom_palette = ['#509adb', '#1770bd']\n",
    "\n",
    "# 시각화\n",
    "plt.figure(figsize=(8, 5))\n",
    "sns.boxplot(\n",
    "    data=merged,\n",
    "    x='group_label',\n",
    "    y='log_later_avg_price',\n",
    "    palette=custom_palette,\n",
    "    order=['상위 그룹', '하위 그룹']\n",
    ")\n",
    "\n",
    "plt.title('초기 구매력에 따른 차후 구매 금액 분포 비교 (로그 변환)', fontsize=14)\n",
    "plt.xlabel('기존 구매 금액 그룹', fontsize=12)\n",
    "plt.ylabel('log(1 + 이후 평균 구매 금액)', fontsize=12)\n",
    "plt.grid(False)\n",
    "plt.tight_layout()\n",
    "plt.show()"
   ]
  },
  {
   "cell_type": "markdown",
   "id": "8bddedbb-028e-4313-9f4f-a9406f279249",
   "metadata": {},
   "source": [
    "- 중앙값(중간선):\n",
    "    - 상위 그룹의 중앙값이 하위 그룹보다 높음\n",
    " \n",
    "    → 상위 그룹은 이후 구매에서도 평균적으로 더 많은 금액을 지출하는 경향\n",
    "\n",
    "- IQR (Interquartile Range, 박스 크기):\n",
    "    - 두 그룹 모두 유사하지만, 상위 그룹이 약간 더 위쪽으로 치우침\n",
    "\n",
    "    → 전반적으로 상위 그룹이 높은 구매 금액 구간에서 분포함\n",
    "\n",
    "- 이상값 (outliers):\n",
    "\n",
    "    - 양쪽 모두 이상값은 많지만, 상위 그룹 쪽 이상값이 더 고액에 집중됨\n",
    "\n",
    "    → 고가 구매의 가능성 또한 상위 그룹에서 더 큼\n",
    "**기존 평균 구매 금액이 높은 사용자일수록 이후 구매에서도 더 많은 금액을 쓰는 경향이 있다.**"
   ]
  },
  {
   "cell_type": "markdown",
   "id": "ad6bb891-30d8-44d1-965e-07957c011cae",
   "metadata": {},
   "source": [
    "### 기존 평균 구매 금액을 기준으로 상위 30%, 하위 30% 사용자 비교"
   ]
  },
  {
   "cell_type": "code",
   "execution_count": 11,
   "id": "b372d9d1-cfb7-418a-9dd0-a52c12d8ff66",
   "metadata": {},
   "outputs": [],
   "source": [
    "# 사용자별 기존 평균 구매 금액\n",
    "initial_avg = initial_purchases.groupby('user_id')['price'].mean().reset_index()\n",
    "initial_avg.columns = ['user_id', 'initial_avg_price']\n",
    "\n",
    "# 상위 30%, 하위 30% 기준 계산\n",
    "high_threshold = initial_avg['initial_avg_price'].quantile(0.70)\n",
    "low_threshold = initial_avg['initial_avg_price'].quantile(0.30)\n",
    "\n",
    "# 조건에 따라 그룹 부여\n",
    "initial_avg['group'] = initial_avg['initial_avg_price'].apply(\n",
    "    lambda x: '상위 30%' if x > high_threshold else ('하위 30%' if x < low_threshold else '제외')\n",
    ")\n",
    "\n",
    "# 중간 40% 제외\n",
    "filtered = initial_avg[initial_avg['group'] != '제외'].copy()"
   ]
  },
  {
   "cell_type": "code",
   "execution_count": 12,
   "id": "8762c6eb-4b55-4d7c-8a1d-615aa4783e4a",
   "metadata": {},
   "outputs": [],
   "source": [
    "# 이후 구매 평균 금액\n",
    "later_avg = later_purchases.groupby('user_id')['price'].mean().reset_index()\n",
    "later_avg.columns = ['user_id', 'later_avg_price']\n",
    "\n",
    "# 병합\n",
    "merged = pd.merge(filtered, later_avg, on='user_id')\n",
    "\n",
    "# 시각화용 라벨 정리\n",
    "merged['group_label'] = merged['group']"
   ]
  },
  {
   "cell_type": "code",
   "execution_count": 13,
   "id": "5c8f914d-021e-40f4-9a08-b878b66e20a4",
   "metadata": {},
   "outputs": [
    {
     "name": "stdout",
     "output_type": "stream",
     "text": [
      "✅ Mann-Whitney U 통계량: 170855084.0\n",
      "✅ p-value: 0.0\n"
     ]
    }
   ],
   "source": [
    "from scipy.stats import mannwhitneyu\n",
    "\n",
    "# 그룹별 분리\n",
    "group_high = merged[merged['group'] == '상위 30%']['later_avg_price']\n",
    "group_low = merged[merged['group'] == '하위 30%']['later_avg_price']\n",
    "\n",
    "# Mann-Whitney U test (단측검정: 상위 그룹이 더 크다)\n",
    "u_stat, p_value = mannwhitneyu(group_high, group_low, alternative='greater')\n",
    "\n",
    "print(f\"✅ Mann-Whitney U 통계량: {u_stat}\")\n",
    "print(f\"✅ p-value: {p_value}\")\n"
   ]
  },
  {
   "cell_type": "code",
   "execution_count": 17,
   "id": "92bf6257-0164-415f-ae59-754b44db64cc",
   "metadata": {},
   "outputs": [
    {
     "data": {
      "image/png": "[encoded data removed]",
      "text/plain": [
       "<Figure size 800x500 with 1 Axes>"
      ]
     },
     "metadata": {},
     "output_type": "display_data"
    }
   ],
   "source": [
    "# 로그 변환\n",
    "merged['log_later_avg_price'] = np.log1p(merged['later_avg_price'])\n",
    "\n",
    "# 색상: 상위(연한 파랑), 하위(진한 파랑)\n",
    "custom_palette = ['#509adb', '#1770bd']  # 상위 → 하위 순서\n",
    "\n",
    "# 시각화\n",
    "plt.figure(figsize=(8, 5))\n",
    "sns.boxplot(\n",
    "    data=merged,\n",
    "    x='group_label',\n",
    "    y='log_later_avg_price',\n",
    "    palette=custom_palette,\n",
    "    order=['상위 30%', '하위 30%']\n",
    ")\n",
    "\n",
    "plt.title('기존 평균 구매 금액 상/하위 30% 그룹의 이후 구매 금액 분포 (로그 변환)', fontsize=14)\n",
    "plt.xlabel('기존 구매 금액 그룹', fontsize=12)\n",
    "plt.ylabel('log(1 + 이후 평균 구매 금액)', fontsize=12)\n",
    "plt.grid(False)\n",
    "plt.tight_layout()\n",
    "plt.show()"
   ]
  },
  {
   "cell_type": "markdown",
   "id": "de88086c-d091-42eb-8618-77fde0662eaf",
   "metadata": {},
   "source": [
    "- 상위 30% 유저가 이후에도 더 많이 씀 (중앙값 뚜렷하게 높음)\n",
    "- 전체 금액 분포 역시 상위 그룹이 더 위에 있음\n",
    "- 고액 이상값도 상위 그룹에 더 많이 몰려 있음\n",
    "\n",
    "→ **원래 많이 쓰던 유저는 앞으로도 많이 씀**"
   ]
  },
  {
   "cell_type": "code",
   "execution_count": null,
   "id": "6367a154-fa51-4ca2-86ea-fe9488256fdd",
   "metadata": {},
   "outputs": [],
   "source": []
  }
 ],
 "metadata": {
  "kernelspec": {
   "display_name": "Python 3 (Fixed)",
   "language": "python",
   "name": "python3"
  },
  "language_info": {
   "codemirror_mode": {
    "name": "ipython",
    "version": 3
   },
   "file_extension": ".py",
   "mimetype": "text/x-python",
   "name": "python",
   "nbconvert_exporter": "python",
   "pygments_lexer": "ipython3",
   "version": "3.13.5"
  }
 },
 "nbformat": 4,
 "nbformat_minor": 5
}
