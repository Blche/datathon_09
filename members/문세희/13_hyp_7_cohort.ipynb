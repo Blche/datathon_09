{
 "cells": [
  {
   "cell_type": "code",
   "execution_count": 1,
   "id": "df3c8dc3-6510-42f7-a290-0367a92937a7",
   "metadata": {},
   "outputs": [],
   "source": [
    "import numpy as np\n",
    "import pandas as pd\n",
    "import matplotlib.pyplot as plt\n",
    "import seaborn as sns\n",
    "import gc\n",
    "\n",
    "# 그래프 기본 테마 설정\n",
    "# https://coldbrown.co.kr/2023/07/%ED%8C%8C%EC%9D%B4%EC%8D%AC-%EC%8B%A4%EC%A0%84%ED%8E%B8-08-seaborn-sns-set%EC%9D%84-%ED%86%B5%ED%95%B4-%EC%8A%A4%ED%83%80%EC%9D%BC-%EC%84%A4%EC%A0%95%ED%95%98%EA%B8%B0/\n",
    "sns.set()\n",
    "\n",
    "# 그래프 기본 설정\n",
    "plt.rcParams['font.family'] = 'Malgun Gothic'\n",
    "# plt.rcParams['font.family'] a= 'AppleGothic'\n",
    "plt.rcParams['figure.figsize'] = 12, 6\n",
    "plt.rcParams['font.size'] = 14\n",
    "plt.rcParams['axes.unicode_minus'] = False\n",
    "\n",
    "\n",
    "# 복잡한 통계 처리를 위한 라이브러리\n",
    "from scipy import stats"
   ]
  },
  {
   "cell_type": "code",
   "execution_count": 2,
   "id": "69366d21-e9b8-4635-9b14-da5b8b47a49f",
   "metadata": {},
   "outputs": [],
   "source": [
    "df = pd.read_csv('data/merged_data_brand_dropna.csv')"
   ]
  },
  {
   "cell_type": "code",
   "execution_count": 3,
   "id": "a372dcb4-d456-4b2a-98ca-654193edf7c6",
   "metadata": {},
   "outputs": [],
   "source": [
    "# datetime 컬럼 변환\n",
    "df['event_time_moscow'] = pd.to_datetime(df['event_time_moscow'])"
   ]
  },
  {
   "cell_type": "markdown",
   "id": "1684428a-b4df-4560-bbdd-8d5b6bdd057d",
   "metadata": {},
   "source": [
    "## cart 행동 기반 코호트 분석"
   ]
  },
  {
   "cell_type": "markdown",
   "id": "db187610-3c81-4f37-bdc4-562f09807519",
   "metadata": {},
   "source": [
    "- **장바구니 행동 기반**\n",
    "    - 조건: **장바구니(cart)** 에 3회 이상 담은 사용자\n",
    "    - 코호트 기준: `user_id`가 장바구니 이벤트를 3회 이상 발생시킨 첫 시점\n",
    "    - 분석: 이후 n일 내 구매율 변화 추적"
   ]
  },
  {
   "cell_type": "code",
   "execution_count": 4,
   "id": "2cae12a6-ea43-4564-ac59-3c0f0dd897f0",
   "metadata": {},
   "outputs": [],
   "source": [
    "import pandas as pd\n",
    "\n",
    "# 1. event_time 처리\n",
    "df['event_time'] = pd.to_datetime(df['event_time_moscow'], errors='coerce')\n",
    "df = df.sort_values(by=['user_id', 'event_time'])  # 시간 순 정렬"
   ]
  },
  {
   "cell_type": "code",
   "execution_count": 5,
   "id": "0b76e2f8-8d11-43d8-9df2-2623546bf962",
   "metadata": {},
   "outputs": [],
   "source": [
    "# 2. cart 이벤트만 필터링\n",
    "cart_df = df[df['event_type'] == 'cart'].copy()\n",
    "\n",
    "# 3. 사용자별 cart 이벤트 누적 카운트\n",
    "cart_df['cart_cumcount'] = cart_df.groupby('user_id').cumcount() + 1\n",
    "\n",
    "# 4. 3번째 cart 이벤트만 추출\n",
    "cart_3rd_df = cart_df[cart_df['cart_cumcount'] == 3].copy()\n",
    "\n",
    "# 5. user_id별로 cart 3회차 시점 확인\n",
    "user_cart3_time = cart_3rd_df[['user_id', 'event_time']].rename(columns={'event_time': 'cohort_time'})"
   ]
  },
  {
   "cell_type": "code",
   "execution_count": 6,
   "id": "0f44415f-a6b5-4cf4-81c3-cf194aaf23fe",
   "metadata": {},
   "outputs": [],
   "source": [
    "# 6. 전체 df에 cohort_time 병합\n",
    "df = df.merge(user_cart3_time, on='user_id', how='inner')  # 3회 이상 cart 한 유저만\n",
    "\n",
    "# 7. 기준일 이후 이벤트만 필터링\n",
    "df = df[df['event_time'] >= df['cohort_time']].copy()\n",
    "\n",
    "# 8. 기준 시점 대비 N일 경과 계산\n",
    "df['days_since_cart3'] = (df['event_time'] - df['cohort_time']).dt.days"
   ]
  },
  {
   "cell_type": "code",
   "execution_count": 7,
   "id": "ff52e88a-6dee-4dcf-a15c-6fccbf682d32",
   "metadata": {},
   "outputs": [],
   "source": [
    "# 9. 중복 제거: 유저가 특정 일에 구매했는지 여부만 체크\n",
    "purchase_log = df[df['event_type'] == 'purchase'][['user_id', 'days_since_cart3']].drop_duplicates()\n",
    "\n",
    "# 10. 전체 유저 수 (코호트 기준 유저)\n",
    "total_users = user_cart3_time['user_id'].nunique()\n",
    "\n",
    "# 11. 일자별 구매 유저 수\n",
    "daily_purchases = (\n",
    "    purchase_log.groupby('days_since_cart3')['user_id'].nunique()\n",
    "    .reindex(range(0, 15), fill_value=0)  # 최대 15일까지 보고 싶다면\n",
    ")\n",
    "\n",
    "# 12. 구매율 계산\n",
    "purchase_rate = daily_purchases / total_users * 100\n",
    "purchase_rate.name = 'purchase_rate'"
   ]
  },
  {
   "cell_type": "code",
   "execution_count": 8,
   "id": "82ae04a5-5866-45a6-bb29-8813f476075e",
   "metadata": {},
   "outputs": [
    {
     "data": {
      "image/png": "[encoded data removed]",
      "text/plain": [
       "<Figure size 800x400 with 1 Axes>"
      ]
     },
     "metadata": {},
     "output_type": "display_data"
    }
   ],
   "source": [
    "import matplotlib.pyplot as plt\n",
    "\n",
    "# 13. 시각화\n",
    "plt.figure(figsize=(8, 4))\n",
    "purchase_rate.plot(kind='bar', color='skyblue')\n",
    "plt.title('장바구니 3회차 이후 N일차 구매율')\n",
    "plt.xlabel('N일차')\n",
    "plt.ylabel('구매율 (%)')\n",
    "plt.xticks(rotation=0)\n",
    "plt.grid(axis='y')\n",
    "plt.tight_layout()\n",
    "plt.show()\n",
    "\n",
    "# 14. CSV 저장 (선택)\n",
    "purchase_rate.reset_index().rename(columns={'index': 'days_since_cart3'}).to_csv('cohort_cart3_purchase_rate.csv', index=False)"
   ]
  },
  {
   "cell_type": "markdown",
   "id": "aea2ce98-bd2a-4853-bff9-64bf4d542cf1",
   "metadata": {},
   "source": [
    "- 유의미하게 높거나, 특출나지 않음"
   ]
  },
  {
   "cell_type": "markdown",
   "id": "909069a4-b318-4c52-bdc2-59956f162145",
   "metadata": {},
   "source": [
    "- 장바구니 3회까지 걸리는 시간을 기준으로 그룹 분할\n",
    "- 1일 이내, 3일 이내, 7일 이내, 7일 초과"
   ]
  },
  {
   "cell_type": "code",
   "execution_count": 9,
   "id": "cacba9e5-e2d0-4243-bf38-4b6cb9255548",
   "metadata": {},
   "outputs": [],
   "source": [
    "import pandas as pd\n",
    "\n",
    "# cart 이벤트만 필터링\n",
    "cart_df = df[df['event_type'] == 'cart'].copy()\n",
    "cart_df['event_time'] = pd.to_datetime(cart_df['event_time_moscow'], errors='coerce')\n",
    "cart_df = cart_df.sort_values(by=['user_id', 'event_time'])\n",
    "\n",
    "# 각 user_id 내에서 cart 이벤트 순서 부여\n",
    "cart_df['cart_order'] = cart_df.groupby('user_id').cumcount() + 1\n",
    "\n",
    "# 1회차와 3회차 추출\n",
    "cart1 = cart_df[cart_df['cart_order'] == 1][['user_id', 'event_time']].rename(columns={'event_time': 'cart1_time'})\n",
    "cart3 = cart_df[cart_df['cart_order'] == 3][['user_id', 'event_time']].rename(columns={'event_time': 'cart3_time'})\n",
    "\n",
    "# 병합 후 시간 차 계산\n",
    "cart_duration = pd.merge(cart1, cart3, on='user_id')\n",
    "cart_duration['days_to_3rd_cart'] = (cart_duration['cart3_time'] - cart_duration['cart1_time']).dt.days"
   ]
  },
  {
   "cell_type": "code",
   "execution_count": 10,
   "id": "deb4e99d-bd83-495b-8182-05017a995f79",
   "metadata": {},
   "outputs": [],
   "source": [
    "# 코호트 그룹 분류 (예시: 빠름/중간/느림)\n",
    "def categorize_days(days):\n",
    "    if days <= 1:\n",
    "        return '1일 이내'\n",
    "    elif days <= 3:\n",
    "        return '3일 이내'\n",
    "    elif days <= 7:\n",
    "        return '7일 이내'\n",
    "    else:\n",
    "        return '7일 초과'\n",
    "\n",
    "cart_duration['cohort_group'] = cart_duration['days_to_3rd_cart'].apply(categorize_days)"
   ]
  },
  {
   "cell_type": "code",
   "execution_count": 13,
   "id": "933c18ad-852f-4f12-a242-56308bc36ba5",
   "metadata": {},
   "outputs": [
    {
     "data": {
      "text/plain": [
       "cohort_group\n",
       "1일 이내    120043\n",
       "7일 초과      9905\n",
       "7일 이내      2786\n",
       "3일 이내      2250\n",
       "Name: count, dtype: int64"
      ]
     },
     "execution_count": 13,
     "metadata": {},
     "output_type": "execute_result"
    }
   ],
   "source": [
    "cart_duration['cohort_group'].value_counts()"
   ]
  },
  {
   "cell_type": "code",
   "execution_count": 14,
   "id": "12a41e65-0a2c-44f2-a777-5d4e44c4d7f8",
   "metadata": {},
   "outputs": [],
   "source": [
    "# cart3_time 기준 이후 행동만 분석\n",
    "df['event_time'] = pd.to_datetime(df['event_time_moscow'], errors='coerce')\n",
    "df = df.merge(cart_duration[['user_id', 'cart3_time', 'cohort_group']], on='user_id', how='inner')\n",
    "df = df[df['event_time'] >= df['cart3_time']].copy()\n",
    "df['days_since_cart3'] = (df['event_time'] - df['cart3_time']).dt.days"
   ]
  },
  {
   "cell_type": "code",
   "execution_count": 15,
   "id": "4eeccd75-9b03-437c-a797-262c8be8504b",
   "metadata": {},
   "outputs": [],
   "source": [
    "# 구매 로그만 추출\n",
    "purchase_log = df[df['event_type'] == 'purchase'][['user_id', 'days_since_cart3', 'cohort_group']].drop_duplicates()\n",
    "\n",
    "# 전체 유저 수 (코호트별)\n",
    "cohort_user_counts = cart_duration.groupby('cohort_group')['user_id'].nunique()\n",
    "\n",
    "# 일자별 구매자 수\n",
    "daily_purchase = (\n",
    "    purchase_log.groupby(['cohort_group', 'days_since_cart3'])['user_id'].nunique()\n",
    "    .unstack(fill_value=0)\n",
    ")\n",
    "\n",
    "# 비율로 전환\n",
    "cohort_purchase_rate = daily_purchase.divide(cohort_user_counts, axis=0) * 100"
   ]
  },
  {
   "cell_type": "code",
   "execution_count": 16,
   "id": "1dc85e33-9ae8-42e2-8c48-c8807d2c5e81",
   "metadata": {},
   "outputs": [
    {
     "data": {
      "image/png": "[encoded data removed]",
      "text/plain": [
       "<Figure size 1000x600 with 1 Axes>"
      ]
     },
     "metadata": {},
     "output_type": "display_data"
    }
   ],
   "source": [
    "import matplotlib.pyplot as plt\n",
    "\n",
    "plt.figure(figsize=(10, 6))\n",
    "for cohort in cohort_purchase_rate.index:\n",
    "    plt.plot(cohort_purchase_rate.columns, cohort_purchase_rate.loc[cohort], label=cohort)\n",
    "\n",
    "plt.title('장바구니 3회까지 걸린 시간별 코호트 구매율')\n",
    "plt.xlabel('N일차')\n",
    "plt.ylabel('구매율 (%)')\n",
    "plt.legend(title='코호트 그룹')\n",
    "plt.grid(True)\n",
    "plt.tight_layout()\n",
    "plt.show()"
   ]
  },
  {
   "cell_type": "markdown",
   "id": "4d487713-d133-41b7-9496-54181977349a",
   "metadata": {},
   "source": [
    "- 장바구니 3회를 며칠에 걸쳐 달성했는지는 큰 유의미성을 보이지는 않는다.\n",
    "- 3일 이내, 7일 이내 그룹이 비교적 높고, 1일 이내가 비교적 낮은 듯"
   ]
  },
  {
   "cell_type": "markdown",
   "id": "2eff0d4a-5c40-42cf-9d8d-00563ec7e494",
   "metadata": {},
   "source": [
    "### 가설 검정"
   ]
  },
  {
   "cell_type": "markdown",
   "id": "7061b6aa-1bc5-4788-910b-9a4dc1a268f0",
   "metadata": {},
   "source": [
    "- 귀무가설(H₀): cart에 3회 이상 담은 사용자와 그렇지 않은 사용자 간 구매율 차이가 없다.\n",
    "- 대립가설(H₁): cart에 3회 이상 담은 사용자가 이후 구매율이 더 높다."
   ]
  },
  {
   "cell_type": "code",
   "execution_count": 21,
   "id": "24cd14b7-8327-4766-8bc5-b17acbfcb28b",
   "metadata": {},
   "outputs": [
    {
     "name": "stdout",
     "output_type": "stream",
     "text": [
      "✅ 교차표: [[53959, 51989], [0, 29036]]\n",
      "✅ p-value: 0.00000\n",
      "✅ cart 3회 이상 사용자 구매율: 50.93%\n",
      "✅ cart 3회 미만 사용자 구매율: 0.00%\n"
     ]
    }
   ],
   "source": [
    "import pandas as pd\n",
    "from scipy.stats import chi2_contingency\n",
    "\n",
    "# 1. event_time 형 변환 및 정렬\n",
    "df['event_time'] = pd.to_datetime(df['event_time_moscow'])\n",
    "df = df.sort_values(['user_id', 'event_time'])\n",
    "\n",
    "# 2. cart 이벤트 필터링 후 순서 부여\n",
    "cart_df = df[df['event_type'] == 'cart'].copy()\n",
    "cart_df['cart_order'] = cart_df.groupby('user_id').cumcount() + 1\n",
    "\n",
    "# 3. 사용자별 3번째 cart 시점 추출\n",
    "third_cart_time = cart_df[cart_df['cart_order'] == 3][['user_id', 'event_time']]\n",
    "third_cart_time.columns = ['user_id', 'cart3_time']  # 병합을 위한 컬럼명 변경\n",
    "\n",
    "# 4. 원본 df에 cart3_time 병합\n",
    "df = df.merge(third_cart_time, on='user_id', how='left')\n",
    "\n",
    "# 5. cart3 이후 이벤트 여부 플래그 생성\n",
    "df['after_cart3'] = df['event_time'] > df['cart3_time']\n",
    "\n",
    "# 6. cart 3회 이상 사용자 리스트\n",
    "users_with_cart3 = third_cart_time['user_id'].unique()\n",
    "\n",
    "# 7. cart 3회 미만 사용자 리스트\n",
    "users_without_cart3 = df[~df['user_id'].isin(users_with_cart3)]['user_id'].unique()\n",
    "\n",
    "# 8. cart3 이후에 구매한 사용자 추출\n",
    "purchase_after_cart3 = df[\n",
    "    (df['event_type'] == 'purchase') &\n",
    "    (df['after_cart3'] == True)\n",
    "]['user_id'].unique()\n",
    "\n",
    "# 9. 그룹별 구매 여부 계산\n",
    "a_purchase = sum(pd.Series(users_with_cart3).isin(purchase_after_cart3))\n",
    "a_non = len(users_with_cart3) - a_purchase\n",
    "\n",
    "b_purchase = sum(pd.Series(users_without_cart3).isin(purchase_after_cart3))\n",
    "b_non = len(users_without_cart3) - b_purchase\n",
    "\n",
    "# 10. 교차표 생성 및 카이제곱 검정\n",
    "contingency = [[a_purchase, a_non], [b_purchase, b_non]]\n",
    "chi2, p, _, _ = chi2_contingency(contingency)\n",
    "\n",
    "# 11. 구매율 계산\n",
    "a_rate = a_purchase / (a_purchase + a_non) if (a_purchase + a_non) > 0 else 0\n",
    "b_rate = b_purchase / (b_purchase + b_non) if (b_purchase + b_non) > 0 else 0\n",
    "\n",
    "# 12. 결과 출력\n",
    "print(\"✅ 교차표:\", contingency)\n",
    "print(f\"✅ p-value: {p:.5f}\")\n",
    "print(f\"✅ cart 3회 이상 사용자 구매율: {a_rate:.2%}\")\n",
    "print(f\"✅ cart 3회 미만 사용자 구매율: {b_rate:.2%}\")"
   ]
  },
  {
   "cell_type": "markdown",
   "id": "29b1972b-f9f5-4991-a1de-486e2ae977dc",
   "metadata": {},
   "source": [
    "- cart에 3회 이상 담은 이들의 차후 구매율이 높다."
   ]
  },
  {
   "cell_type": "code",
   "execution_count": null,
   "id": "9c213d82-3b11-449b-a15a-5c8b04e3b911",
   "metadata": {},
   "outputs": [],
   "source": []
  }
 ],
 "metadata": {
  "kernelspec": {
   "display_name": "Python 3 (Fixed)",
   "language": "python",
   "name": "python3"
  },
  "language_info": {
   "codemirror_mode": {
    "name": "ipython",
    "version": 3
   },
   "file_extension": ".py",
   "mimetype": "text/x-python",
   "name": "python",
   "nbconvert_exporter": "python",
   "pygments_lexer": "ipython3",
   "version": "3.13.5"
  }
 },
 "nbformat": 4,
 "nbformat_minor": 5
}
