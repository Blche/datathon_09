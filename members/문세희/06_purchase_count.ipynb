{
 "cells": [
  {
   "cell_type": "code",
   "execution_count": 2,
   "id": "0690b1c5-bc01-47a4-83ba-f564e57f9b63",
   "metadata": {},
   "outputs": [],
   "source": [
    "import numpy as np\n",
    "import pandas as pd\n",
    "import matplotlib.pyplot as plt\n",
    "import seaborn as sns\n",
    "import gc\n",
    "\n",
    "# 그래프 기본 테마 설정\n",
    "# https://coldbrown.co.kr/2023/07/%ED%8C%8C%EC%9D%B4%EC%8D%AC-%EC%8B%A4%EC%A0%84%ED%8E%B8-08-seaborn-sns-set%EC%9D%84-%ED%86%B5%ED%95%B4-%EC%8A%A4%ED%83%80%EC%9D%BC-%EC%84%A4%EC%A0%95%ED%95%98%EA%B8%B0/\n",
    "sns.set()\n",
    "\n",
    "# 그래프 기본 설정\n",
    "plt.rcParams['font.family'] = 'Malgun Gothic'\n",
    "# plt.rcParams['font.family'] = 'AppleGothic'\n",
    "plt.rcParams['figure.figsize'] = 12, 6\n",
    "plt.rcParams['font.size'] = 14\n",
    "plt.rcParams['axes.unicode_minus'] = False\n",
    "\n",
    "\n",
    "# 복잡한 통계 처리를 위한 라이브러리\n",
    "from scipy import stats"
   ]
  },
  {
   "cell_type": "code",
   "execution_count": 3,
   "id": "387d3760-0079-4a29-adf4-19ca7cabbc34",
   "metadata": {},
   "outputs": [],
   "source": [
    "df = pd.read_csv('data/merged_data_brand_dropna.csv')"
   ]
  },
  {
   "cell_type": "code",
   "execution_count": 12,
   "id": "c59a640f-82a2-495c-8598-6381a6991134",
   "metadata": {},
   "outputs": [],
   "source": [
    "# 구매 이벤트만 필터링\n",
    "purchase_df = df[df['event_type'] == 'purchase'].copy()"
   ]
  },
  {
   "cell_type": "code",
   "execution_count": 13,
   "id": "2cd1dd62-5d4e-4a82-a2b7-f69f5f569a2e",
   "metadata": {},
   "outputs": [],
   "source": [
    "# event_month 기준으로 구매 수 집계\n",
    "monthly_purchases = purchase_df.groupby('event_month').size().reset_index(name='purchase_count')"
   ]
  },
  {
   "cell_type": "code",
   "execution_count": 14,
   "id": "b6b565a4-2eef-4228-ba80-f8a6cdf70e89",
   "metadata": {},
   "outputs": [
    {
     "data": {
      "text/html": [
       "<div>\n",
       "<style scoped>\n",
       "    .dataframe tbody tr th:only-of-type {\n",
       "        vertical-align: middle;\n",
       "    }\n",
       "\n",
       "    .dataframe tbody tr th {\n",
       "        vertical-align: top;\n",
       "    }\n",
       "\n",
       "    .dataframe thead th {\n",
       "        text-align: right;\n",
       "    }\n",
       "</style>\n",
       "<table border=\"1\" class=\"dataframe\">\n",
       "  <thead>\n",
       "    <tr style=\"text-align: right;\">\n",
       "      <th></th>\n",
       "      <th>event_month</th>\n",
       "      <th>purchase_count</th>\n",
       "    </tr>\n",
       "  </thead>\n",
       "  <tbody>\n",
       "    <tr>\n",
       "      <th>0</th>\n",
       "      <td>1</td>\n",
       "      <td>151840</td>\n",
       "    </tr>\n",
       "    <tr>\n",
       "      <th>1</th>\n",
       "      <td>2</td>\n",
       "      <td>134282</td>\n",
       "    </tr>\n",
       "    <tr>\n",
       "      <th>2</th>\n",
       "      <td>10</td>\n",
       "      <td>144498</td>\n",
       "    </tr>\n",
       "    <tr>\n",
       "      <th>3</th>\n",
       "      <td>11</td>\n",
       "      <td>184500</td>\n",
       "    </tr>\n",
       "    <tr>\n",
       "      <th>4</th>\n",
       "      <td>12</td>\n",
       "      <td>121851</td>\n",
       "    </tr>\n",
       "  </tbody>\n",
       "</table>\n",
       "</div>"
      ],
      "text/plain": [
       "   event_month  purchase_count\n",
       "0            1          151840\n",
       "1            2          134282\n",
       "2           10          144498\n",
       "3           11          184500\n",
       "4           12          121851"
      ]
     },
     "execution_count": 14,
     "metadata": {},
     "output_type": "execute_result"
    }
   ],
   "source": [
    "monthly_purchases"
   ]
  },
  {
   "cell_type": "code",
   "execution_count": 16,
   "id": "3de2a8de-af73-4803-8be5-a59214cf0da5",
   "metadata": {},
   "outputs": [],
   "source": [
    "# event_month를 문자열로 변환하여 CSV 저장\n",
    "monthly_purchases.to_csv('data/04_monthly_purchase_count.csv', index=False)"
   ]
  },
  {
   "cell_type": "code",
   "execution_count": 4,
   "id": "c895c155-5370-468a-bf3d-c5a99c584edf",
   "metadata": {},
   "outputs": [
    {
     "name": "stderr",
     "output_type": "stream",
     "text": [
      "C:\\Users\\Public\\Documents\\ESTsoft\\CreatorTemp\\ipykernel_24624\\762250525.py:5: UserWarning: Converting to PeriodArray/Index representation will drop timezone information.\n",
      "  purchase_df['event_month'] = pd.to_datetime(purchase_df['event_time_moscow']).dt.to_period('M').astype(str)\n"
     ]
    },
    {
     "data": {
      "text/html": [
       "<div>\n",
       "<style scoped>\n",
       "    .dataframe tbody tr th:only-of-type {\n",
       "        vertical-align: middle;\n",
       "    }\n",
       "\n",
       "    .dataframe tbody tr th {\n",
       "        vertical-align: top;\n",
       "    }\n",
       "\n",
       "    .dataframe thead th {\n",
       "        text-align: right;\n",
       "    }\n",
       "</style>\n",
       "<table border=\"1\" class=\"dataframe\">\n",
       "  <thead>\n",
       "    <tr style=\"text-align: right;\">\n",
       "      <th></th>\n",
       "      <th>event_month</th>\n",
       "      <th>brand</th>\n",
       "      <th>purchase_count</th>\n",
       "    </tr>\n",
       "  </thead>\n",
       "  <tbody>\n",
       "    <tr>\n",
       "      <th>0</th>\n",
       "      <td>2019-10</td>\n",
       "      <td>airnails</td>\n",
       "      <td>1741</td>\n",
       "    </tr>\n",
       "    <tr>\n",
       "      <th>1</th>\n",
       "      <td>2019-10</td>\n",
       "      <td>almea</td>\n",
       "      <td>34</td>\n",
       "    </tr>\n",
       "    <tr>\n",
       "      <th>2</th>\n",
       "      <td>2019-10</td>\n",
       "      <td>andrea</td>\n",
       "      <td>4</td>\n",
       "    </tr>\n",
       "    <tr>\n",
       "      <th>3</th>\n",
       "      <td>2019-10</td>\n",
       "      <td>ardell</td>\n",
       "      <td>195</td>\n",
       "    </tr>\n",
       "    <tr>\n",
       "      <th>4</th>\n",
       "      <td>2019-10</td>\n",
       "      <td>art-visage</td>\n",
       "      <td>674</td>\n",
       "    </tr>\n",
       "    <tr>\n",
       "      <th>...</th>\n",
       "      <td>...</td>\n",
       "      <td>...</td>\n",
       "      <td>...</td>\n",
       "    </tr>\n",
       "    <tr>\n",
       "      <th>1096</th>\n",
       "      <td>2020-02</td>\n",
       "      <td>yoko</td>\n",
       "      <td>1207</td>\n",
       "    </tr>\n",
       "    <tr>\n",
       "      <th>1097</th>\n",
       "      <td>2020-02</td>\n",
       "      <td>ypsed</td>\n",
       "      <td>10</td>\n",
       "    </tr>\n",
       "    <tr>\n",
       "      <th>1098</th>\n",
       "      <td>2020-02</td>\n",
       "      <td>yu-r</td>\n",
       "      <td>6</td>\n",
       "    </tr>\n",
       "    <tr>\n",
       "      <th>1099</th>\n",
       "      <td>2020-02</td>\n",
       "      <td>zeitun</td>\n",
       "      <td>72</td>\n",
       "    </tr>\n",
       "    <tr>\n",
       "      <th>1100</th>\n",
       "      <td>2020-02</td>\n",
       "      <td>zinger</td>\n",
       "      <td>1790</td>\n",
       "    </tr>\n",
       "  </tbody>\n",
       "</table>\n",
       "<p>1101 rows × 3 columns</p>\n",
       "</div>"
      ],
      "text/plain": [
       "     event_month       brand  purchase_count\n",
       "0        2019-10    airnails            1741\n",
       "1        2019-10       almea              34\n",
       "2        2019-10      andrea               4\n",
       "3        2019-10      ardell             195\n",
       "4        2019-10  art-visage             674\n",
       "...          ...         ...             ...\n",
       "1096     2020-02        yoko            1207\n",
       "1097     2020-02       ypsed              10\n",
       "1098     2020-02        yu-r               6\n",
       "1099     2020-02      zeitun              72\n",
       "1100     2020-02      zinger            1790\n",
       "\n",
       "[1101 rows x 3 columns]"
      ]
     },
     "execution_count": 4,
     "metadata": {},
     "output_type": "execute_result"
    }
   ],
   "source": [
    "# 1. 구매 이벤트만 필터링\n",
    "purchase_df = df[df['event_type'] == 'purchase'].copy()\n",
    "\n",
    "# 2. event_month 기준 추가 (이미 되어 있다면 생략 가능)\n",
    "purchase_df['event_month'] = pd.to_datetime(purchase_df['event_time_moscow']).dt.to_period('M').astype(str)\n",
    "\n",
    "# 3. 브랜드별 월별 구매 수 집계\n",
    "monthly_brand_purchases = (\n",
    "    purchase_df.groupby(['event_month', 'brand'])\n",
    "    .size()\n",
    "    .reset_index(name='purchase_count')\n",
    "    .sort_values(['event_month', 'brand'])\n",
    ")\n",
    "\n",
    "# 4. 결과 확인\n",
    "monthly_brand_purchases"
   ]
  },
  {
   "cell_type": "code",
   "execution_count": 5,
   "id": "b44a5cee-5134-4114-b453-6c6a94981754",
   "metadata": {},
   "outputs": [],
   "source": [
    "monthly_brand_purchases.to_csv('data/04_monthly_brand_purchases.csv', index=False)"
   ]
  },
  {
   "cell_type": "code",
   "execution_count": null,
   "id": "a69a1e68-bc70-4e70-80eb-701f2019e6c5",
   "metadata": {},
   "outputs": [],
   "source": []
  }
 ],
 "metadata": {
  "kernelspec": {
   "display_name": "Python 3 (Fixed)",
   "language": "python",
   "name": "python3"
  },
  "language_info": {
   "codemirror_mode": {
    "name": "ipython",
    "version": 3
   },
   "file_extension": ".py",
   "mimetype": "text/x-python",
   "name": "python",
   "nbconvert_exporter": "python",
   "pygments_lexer": "ipython3",
   "version": "3.13.5"
  }
 },
 "nbformat": 4,
 "nbformat_minor": 5
}
