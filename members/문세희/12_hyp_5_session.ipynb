{
 "cells": [
  {
   "cell_type": "code",
   "execution_count": 1,
   "id": "dceb52b2-2dad-42b8-b81c-4f96a9362850",
   "metadata": {},
   "outputs": [],
   "source": [
    "import numpy as np\n",
    "import pandas as pd\n",
    "import matplotlib.pyplot as plt\n",
    "import seaborn as sns\n",
    "import gc\n",
    "\n",
    "# 그래프 기본 테마 설정\n",
    "sns.set()\n",
    "\n",
    "# 그래프 기본 설정\n",
    "plt.rcParams['font.family'] = 'Malgun Gothic'\n",
    "# plt.rcParams['font.family'] a= 'AppleGothic'\n",
    "plt.rcParams['figure.figsize'] = 12, 6\n",
    "plt.rcParams['font.size'] = 14\n",
    "plt.rcParams['axes.unicode_minus'] = False\n",
    "\n",
    "\n",
    "# 복잡한 통계 처리를 위한 라이브러리\n",
    "from scipy import stats"
   ]
  },
  {
   "cell_type": "code",
   "execution_count": 2,
   "id": "57815d0b-3eb4-47b1-801d-98e3aa56f016",
   "metadata": {},
   "outputs": [],
   "source": [
    "df = pd.read_csv('data/merged_data_brand_dropna.csv')"
   ]
  },
  {
   "cell_type": "code",
   "execution_count": 3,
   "id": "7aa0883d-a05d-4633-9d45-5305883f9acd",
   "metadata": {},
   "outputs": [],
   "source": [
    "# datetime 컬럼 변환\n",
    "df['event_time_moscow'] = pd.to_datetime(df['event_time_moscow'])"
   ]
  },
  {
   "cell_type": "markdown",
   "id": "40e2a6b4-0cf7-42bd-ae2b-14fce72cdd79",
   "metadata": {},
   "source": [
    "## H19_cart 포함 세션이 view-only 세션보다 전환율이 높다."
   ]
  },
  {
   "cell_type": "code",
   "execution_count": 4,
   "id": "02be06da-f9d1-403a-a3c1-b6a7a240d368",
   "metadata": {},
   "outputs": [],
   "source": [
    "# 세션 단위 이벤트 집계\n",
    "session_event = df.pivot_table(\n",
    "    index='user_session',\n",
    "    columns='event_type',\n",
    "    values='user_id',  # 또는 product_id 등 고유값\n",
    "    aggfunc='nunique',\n",
    "    fill_value=0\n",
    ").reset_index()\n",
    "\n",
    "# 전환 여부 플래그 (purchase가 있으면 1, 없으면 0)\n",
    "session_event['converted'] = (session_event['purchase'] > 0).astype(int)\n",
    "\n",
    "# 그룹 분리\n",
    "session_event['group'] = session_event.apply(\n",
    "    lambda row: 'cart' if row['cart'] > 0 else 'view_only', axis=1\n",
    ")"
   ]
  },
  {
   "cell_type": "code",
   "execution_count": 7,
   "id": "1ec7b895-fa06-45d0-b612-b78daf363136",
   "metadata": {},
   "outputs": [
    {
     "data": {
      "text/html": [
       "<div>\n",
       "<style scoped>\n",
       "    .dataframe tbody tr th:only-of-type {\n",
       "        vertical-align: middle;\n",
       "    }\n",
       "\n",
       "    .dataframe tbody tr th {\n",
       "        vertical-align: top;\n",
       "    }\n",
       "\n",
       "    .dataframe thead th {\n",
       "        text-align: right;\n",
       "    }\n",
       "</style>\n",
       "<table border=\"1\" class=\"dataframe\">\n",
       "  <thead>\n",
       "    <tr style=\"text-align: right;\">\n",
       "      <th></th>\n",
       "      <th>count</th>\n",
       "      <th>sum</th>\n",
       "      <th>conversion_rate</th>\n",
       "    </tr>\n",
       "    <tr>\n",
       "      <th>group</th>\n",
       "      <th></th>\n",
       "      <th></th>\n",
       "      <th></th>\n",
       "    </tr>\n",
       "  </thead>\n",
       "  <tbody>\n",
       "    <tr>\n",
       "      <th>cart</th>\n",
       "      <td>722170</td>\n",
       "      <td>102469</td>\n",
       "      <td>0.141890</td>\n",
       "    </tr>\n",
       "    <tr>\n",
       "      <th>view_only</th>\n",
       "      <td>2343089</td>\n",
       "      <td>35384</td>\n",
       "      <td>0.015101</td>\n",
       "    </tr>\n",
       "  </tbody>\n",
       "</table>\n",
       "</div>"
      ],
      "text/plain": [
       "             count     sum  conversion_rate\n",
       "group                                      \n",
       "cart        722170  102469         0.141890\n",
       "view_only  2343089   35384         0.015101"
      ]
     },
     "execution_count": 7,
     "metadata": {},
     "output_type": "execute_result"
    }
   ],
   "source": [
    "# 그룹별 전환율 계산\n",
    "conversion_by_group = session_event.groupby('group')['converted'].agg(['count', 'sum'])\n",
    "conversion_by_group['conversion_rate'] = conversion_by_group['sum'] / conversion_by_group['count']\n",
    "\n",
    "conversion_by_group"
   ]
  },
  {
   "cell_type": "code",
   "execution_count": 8,
   "id": "d0cb9b56-3b74-48f4-a7dd-d965dab105cd",
   "metadata": {},
   "outputs": [
    {
     "name": "stdout",
     "output_type": "stream",
     "text": [
      "카이제곱 통계량: 206610.8117\n",
      "p-value: 0.000000\n"
     ]
    }
   ],
   "source": [
    "from scipy.stats import chi2_contingency\n",
    "\n",
    "# 교차표 생성\n",
    "contingency = pd.crosstab(session_event['group'], session_event['converted'])\n",
    "\n",
    "# 카이제곱 검정\n",
    "chi2, p, dof, expected = chi2_contingency(contingency)\n",
    "\n",
    "print(f\"카이제곱 통계량: {chi2:.4f}\")\n",
    "print(f\"p-value: {p:.6f}\")"
   ]
  },
  {
   "cell_type": "markdown",
   "id": "65464a76-1c88-4e05-b4fa-6f1fe9fff488",
   "metadata": {},
   "source": [
    "- **cart 포함 세션이 view-only 세션보다 전환율이 높다. → True**"
   ]
  },
  {
   "cell_type": "markdown",
   "id": "bc63628c-6945-4047-81f1-731bb8efc821",
   "metadata": {},
   "source": [
    "## H20_구매 세션은 평균적으로 이벤트 수가 많다."
   ]
  },
  {
   "cell_type": "code",
   "execution_count": 9,
   "id": "9d3b2451-c976-439d-a3fb-2d35d94bdaf5",
   "metadata": {},
   "outputs": [],
   "source": [
    "# 세션별 이벤트 수\n",
    "session_event_count = df.groupby('user_session').size().reset_index(name='event_count')\n",
    "\n",
    "# 세션별 구매 여부\n",
    "session_purchase_flag = df.groupby('user_session')['event_type'].apply(lambda x: 'purchase' in x.values).reset_index(name='is_purchase')\n",
    "\n",
    "# 병합\n",
    "session_df = pd.merge(session_event_count, session_purchase_flag, on='user_session')"
   ]
  },
  {
   "cell_type": "code",
   "execution_count": 10,
   "id": "5be0fc91-e117-4e59-8760-52d1acb1a4be",
   "metadata": {},
   "outputs": [],
   "source": [
    "# 그룹 나누기\n",
    "purchase_group = session_df[session_df['is_purchase'] == True]['event_count']\n",
    "non_purchase_group = session_df[session_df['is_purchase'] == False]['event_count']"
   ]
  },
  {
   "cell_type": "code",
   "execution_count": 11,
   "id": "41be5416-8670-4766-bb32-d4843dfefb19",
   "metadata": {},
   "outputs": [
    {
     "name": "stdout",
     "output_type": "stream",
     "text": [
      "✅ Shapiro-Wilk Test (구매): ShapiroResult(statistic=np.float64(0.24380772719552424), pvalue=np.float64(2.385225307201329e-89))\n",
      "✅ Shapiro-Wilk Test (비구매): ShapiroResult(statistic=np.float64(0.3039849752668604), pvalue=np.float64(1.8304157381152818e-87))\n",
      "✅ Levene 등분산성 Test: LeveneResult(statistic=np.float64(124344.60680329631), pvalue=np.float64(0.0))\n"
     ]
    }
   ],
   "source": [
    "from scipy.stats import shapiro, levene\n",
    "\n",
    "# 정규성\n",
    "print(\"✅ Shapiro-Wilk Test (구매):\", shapiro(purchase_group.sample(5000)))  # 너무 크면 샘플링\n",
    "print(\"✅ Shapiro-Wilk Test (비구매):\", shapiro(non_purchase_group.sample(5000)))\n",
    "\n",
    "# 등분산성\n",
    "print(\"✅ Levene 등분산성 Test:\", levene(purchase_group, non_purchase_group))"
   ]
  },
  {
   "cell_type": "code",
   "execution_count": 12,
   "id": "d577eb51-00aa-4a32-939d-df69b8412f4b",
   "metadata": {},
   "outputs": [
    {
     "name": "stdout",
     "output_type": "stream",
     "text": [
      "✅ Mann-Whitney U test 통계량: 364015028363.5\n",
      "✅ p-value: 0.0\n"
     ]
    }
   ],
   "source": [
    "from scipy.stats import mannwhitneyu\n",
    "\n",
    "u_stat, p_value = mannwhitneyu(purchase_group, non_purchase_group, alternative='greater')\n",
    "print(f\"✅ Mann-Whitney U test 통계량: {u_stat}\")\n",
    "print(f\"✅ p-value: {p_value}\")"
   ]
  },
  {
   "cell_type": "code",
   "execution_count": 13,
   "id": "7ce6a1fe-37eb-4f4e-b147-5f10b1a0ee74",
   "metadata": {},
   "outputs": [
    {
     "name": "stdout",
     "output_type": "stream",
     "text": [
      "✅ Mann-Whitney U test 통계량: 364015028363.5\n",
      "✅ p-value (양측): 0.0\n"
     ]
    }
   ],
   "source": [
    "from scipy.stats import mannwhitneyu\n",
    "\n",
    "# 양측 검정\n",
    "u_stat, p_value = mannwhitneyu(purchase_group, non_purchase_group, alternative='two-sided')\n",
    "\n",
    "print(f\"✅ Mann-Whitney U test 통계량: {u_stat}\")\n",
    "print(f\"✅ p-value (양측): {p_value}\")"
   ]
  },
  {
   "cell_type": "markdown",
   "id": "2679b789-9383-435f-9d33-f1c2cc917763",
   "metadata": {},
   "source": [
    "- 귀무가설 (H₀): 구매 세션과 비구매 세션의 이벤트 수 평균은 차이가 없다.\n",
    "- 대립가설 (H₁): 구매 세션의 이벤트 수 평균이 더 크다.\n",
    "- alternative='greater' : 단측 검정 (구매 세션의 이벤트 수 평균이 더 크다.)\n",
    "    p-value = 0.0\n",
    "- 양측 검정 역시 p-value = 0.0\n",
    "\n",
    "- 구매 세션은 평균적으로 이벤트 수가 많다. → True\n",
    "- **구매 세션은 비구매 세션보다 이벤트 수의 평균이 더 크다.**"
   ]
  },
  {
   "cell_type": "markdown",
   "id": "9bf592ca-df6d-4034-b49e-21751e638186",
   "metadata": {},
   "source": [
    "## H21_remove_from_cart가 잦은 세션은 전환율이 낮다."
   ]
  },
  {
   "cell_type": "code",
   "execution_count": 16,
   "id": "31996c8f-3e2c-4fca-8a03-c73d12aae8d7",
   "metadata": {},
   "outputs": [
    {
     "name": "stdout",
     "output_type": "stream",
     "text": [
      "✅ remove 높은 그룹 전환율: 0.19983421812924013\n",
      "✅ remove 낮은 그룹 전환율: 0.023531836819586403\n",
      "✅ Mann-Whitney U 통계량: 413372650730.5\n",
      "✅ p-value: 0.0\n"
     ]
    }
   ],
   "source": [
    "import pandas as pd\n",
    "from scipy.stats import mannwhitneyu\n",
    "\n",
    "# 세션 단위 집계\n",
    "session_df = df.groupby('user_session')['event_type'].value_counts().unstack(fill_value=0).reset_index()\n",
    "\n",
    "# 구매 전환율 (0 또는 1로)\n",
    "session_df['converted'] = session_df['purchase'] > 0\n",
    "\n",
    "# remove 비율 계산 (장바구니 기준)\n",
    "session_df['remove_rate'] = session_df['remove_from_cart'] / (session_df['cart'] + 1e-6)\n",
    "\n",
    "# 상위/하위 그룹 나누기 (예: remove_rate 기준 중앙값)\n",
    "median = session_df['remove_rate'].median()\n",
    "high_remove = session_df[session_df['remove_rate'] > median]['converted']\n",
    "low_remove = session_df[session_df['remove_rate'] <= median]['converted']\n",
    "\n",
    "# 평균 전환율 출력\n",
    "print(\"✅ remove 높은 그룹 전환율:\", high_remove.mean())\n",
    "print(\"✅ remove 낮은 그룹 전환율:\", low_remove.mean())\n",
    "\n",
    "# Mann-Whitney U Test\n",
    "u_stat, p_val = mannwhitneyu(low_remove, high_remove, alternative='less')\n",
    "print(\"✅ Mann-Whitney U 통계량:\", u_stat)\n",
    "print(\"✅ p-value:\", p_val)"
   ]
  },
  {
   "cell_type": "markdown",
   "id": "de1e1c4d-227b-4551-9b31-7e391ebf8e8e",
   "metadata": {},
   "source": [
    "- median 기준으로 상위 50%, 하위 50%로 분할\n",
    "- greater (H1에서 전환율 : 상위 그룹 > 하위 그룹) → p-value = 1.0\n",
    "- less (H1에서 전환율 : 상위 그룹 < 하위 그룹) → p-value = 0.0\n",
    "- **remove_from_cart가 잦은 세션은 전환율이 낮다. → False**\n",
    "- **세션에서 remove_from_cart의 비율이 높은 그룹이 구매 전환율이 높다.**"
   ]
  },
  {
   "cell_type": "code",
   "execution_count": null,
   "id": "c4599dde-9b7b-45d9-8475-f72af07ea34f",
   "metadata": {},
   "outputs": [],
   "source": []
  }
 ],
 "metadata": {
  "kernelspec": {
   "display_name": "Python 3 (Fixed)",
   "language": "python",
   "name": "python3"
  },
  "language_info": {
   "codemirror_mode": {
    "name": "ipython",
    "version": 3
   },
   "file_extension": ".py",
   "mimetype": "text/x-python",
   "name": "python",
   "nbconvert_exporter": "python",
   "pygments_lexer": "ipython3",
   "version": "3.13.5"
  }
 },
 "nbformat": 4,
 "nbformat_minor": 5
}
