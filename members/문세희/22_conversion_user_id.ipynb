{
 "cells": [
  {
   "cell_type": "markdown",
   "id": "f51196f6-9de6-4c26-907b-472c97d9251d",
   "metadata": {},
   "source": [
    "### user_id 기준 전환율"
   ]
  },
  {
   "cell_type": "code",
   "execution_count": 1,
   "id": "accc04e0-e06d-4e1e-9981-b87c08e581a9",
   "metadata": {},
   "outputs": [],
   "source": [
    "import numpy as np\n",
    "import pandas as pd\n",
    "import matplotlib.pyplot as plt\n",
    "import seaborn as sns\n",
    "import gc\n",
    "\n",
    "# 그래프 기본 테마 설정\n",
    "sns.set_style(\"white\")\n",
    "sns.set_context(\"notebook\")\n",
    "\n",
    "# 폰트 적용\n",
    "import platform\n",
    "from matplotlib import font_manager as fm\n",
    "font_path = \"font/NanumGothic.ttf\"\n",
    "\n",
    "font_prop = fm.FontProperties(fname=font_path)\n",
    "plt.rcParams['font.family'] = font_prop.get_name()\n",
    "\n",
    "# 그래프 기본 설정\n",
    "plt.rcParams['figure.figsize'] = 12, 6\n",
    "plt.rcParams['font.size'] = 14\n",
    "plt.rcParams['axes.unicode_minus'] = False\n",
    "plt.rcParams['axes.facecolor'] = 'white'      # 축 배경 흰색\n",
    "plt.rcParams['figure.facecolor'] = 'white'    # 전체 배경 흰색\n",
    "plt.rcParams['axes.grid'] = False             # 그리드 제거\n",
    "plt.rcParams['savefig.facecolor'] = 'white'   # 저장 이미지 배경도 흰색\n",
    "\n",
    "# 경고 무시\n",
    "import warnings\n",
    "warnings.filterwarnings('ignore')\n",
    "\n",
    "# 복잡한 통계 처리를 위한 라이브러리\n",
    "from scipy import stats"
   ]
  },
  {
   "cell_type": "code",
   "execution_count": 2,
   "id": "9ccd2c3d-2385-4556-a99c-641e6ab07575",
   "metadata": {},
   "outputs": [],
   "source": [
    "df = pd.read_csv('data/merged_data_brand_dropna.csv')"
   ]
  },
  {
   "cell_type": "code",
   "execution_count": 3,
   "id": "df25272f-d816-43fb-b730-3026a3903d0e",
   "metadata": {},
   "outputs": [],
   "source": [
    "# datetime 컬럼 변환\n",
    "df['event_time'] = pd.to_datetime(df['event_time_moscow'])"
   ]
  },
  {
   "cell_type": "code",
   "execution_count": 4,
   "id": "0fa0f853-ffa5-4c6c-8c35-5dadd8ffc2e3",
   "metadata": {},
   "outputs": [
    {
     "data": {
      "text/plain": [
       "0.07840759834929555"
      ]
     },
     "execution_count": 4,
     "metadata": {},
     "output_type": "execute_result"
    }
   ],
   "source": [
    "import pandas as pd\n",
    "\n",
    "# event_time_moscow 컬럼이 있다면 날짜 변환\n",
    "df['event_time_moscow'] = pd.to_datetime(df['event_time_moscow'])\n",
    "\n",
    "# view를 한 유저 집합\n",
    "view_users = set(df.loc[df['event_type'] == 'view', 'user_id'])\n",
    "\n",
    "# purchase를 한 유저 집합\n",
    "purchase_users = set(df.loc[df['event_type'] == 'purchase', 'user_id'])\n",
    "\n",
    "# 전환율 계산 (view 후 purchase한 유저 / view한 유저)\n",
    "conversion_rate = len(view_users & purchase_users) / len(view_users) if view_users else 0\n",
    "\n",
    "conversion_rate"
   ]
  },
  {
   "cell_type": "code",
   "execution_count": 5,
   "id": "e4568dba-687d-4f8c-959e-2fb28e97eab5",
   "metadata": {},
   "outputs": [
    {
     "data": {
      "text/plain": [
       "{'view_to_cart': 0.23579149759488013,\n",
       " 'cart_to_purchase': 0.3072418999028336,\n",
       " 'view_to_purchase': 0.07840759834929555}"
      ]
     },
     "execution_count": 5,
     "metadata": {},
     "output_type": "execute_result"
    }
   ],
   "source": [
    "import pandas as pd\n",
    "\n",
    "# event_time_moscow → datetime 변환\n",
    "df['event_time_moscow'] = pd.to_datetime(df['event_time_moscow'])\n",
    "\n",
    "# 각 단계별 유저 집합\n",
    "view_users = set(df.loc[df['event_type'] == 'view', 'user_id'])\n",
    "cart_users = set(df.loc[df['event_type'] == 'cart', 'user_id'])\n",
    "purchase_users = set(df.loc[df['event_type'] == 'purchase', 'user_id'])\n",
    "\n",
    "# 전환율 계산\n",
    "view_to_cart_rate = len(view_users & cart_users) / len(view_users) if view_users else 0\n",
    "cart_to_purchase_rate = len(cart_users & purchase_users) / len(cart_users) if cart_users else 0\n",
    "view_to_purchase_rate = len(view_users & purchase_users) / len(view_users) if view_users else 0\n",
    "\n",
    "funnel_rates = {\n",
    "    \"view_to_cart\": view_to_cart_rate,\n",
    "    \"cart_to_purchase\": cart_to_purchase_rate,\n",
    "    \"view_to_purchase\": view_to_purchase_rate\n",
    "}\n",
    "\n",
    "funnel_rates"
   ]
  },
  {
   "cell_type": "code",
   "execution_count": null,
   "id": "fd2cd9a0-fe11-4c10-b44c-027a43ddccdf",
   "metadata": {},
   "outputs": [],
   "source": []
  }
 ],
 "metadata": {
  "kernelspec": {
   "display_name": "Python 3 (Fixed)",
   "language": "python",
   "name": "python3"
  },
  "language_info": {
   "codemirror_mode": {
    "name": "ipython",
    "version": 3
   },
   "file_extension": ".py",
   "mimetype": "text/x-python",
   "name": "python",
   "nbconvert_exporter": "python",
   "pygments_lexer": "ipython3",
   "version": "3.13.5"
  }
 },
 "nbformat": 4,
 "nbformat_minor": 5
}
